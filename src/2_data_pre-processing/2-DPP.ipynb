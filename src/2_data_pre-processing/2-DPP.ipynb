{
 "cells": [
  {
   "cell_type": "markdown",
   "id": "2695902f-9de0-4c51-8d75-5965ac1ef812",
   "metadata": {},
   "source": [
    "# Data pre-processing\n",
    " \n",
    "**Autori:** Erik Matovič a Simon Kokavec   \n",
    "**Číslo datasetu:** 165  \n",
    "**Percentuálny podiel:** 50/50"
   ]
  },
  {
   "cell_type": "markdown",
   "id": "840bae8a-eb49-4053-aad9-c5a786da1819",
   "metadata": {},
   "source": [
    "## 0. Importovanie"
   ]
  },
  {
   "cell_type": "code",
   "execution_count": 1,
   "id": "38d3a0ce-170c-4fef-b2e3-c4e80396c347",
   "metadata": {},
   "outputs": [],
   "source": [
    "%matplotlib inline\n",
    "import matplotlib.pyplot as plt\n",
    "import seaborn as sns\n",
    "import pandas as pd\n",
    "import numpy as np\n",
    "import scipy.stats as stats\n",
    "import pylab as py\n",
    "import statsmodels.api as sm\n",
    "import statsmodels.stats as sm_stats\n",
    "import statsmodels.stats.api as sms\n",
    "import math\n",
    "from datetime import datetime, date\n",
    "from sklearn.pipeline import Pipeline\n",
    "from sklearn.base import TransformerMixin\n",
    "from sklearn.impute import KNNImputer\n",
    "from sklearn import preprocessing\n",
    "from sklearn.preprocessing import power_transform\n",
    "from sklearn.preprocessing import PowerTransformer\n",
    "from sklearn.model_selection import train_test_split\n",
    "import warnings\n",
    "warnings.filterwarnings('ignore')"
   ]
  },
  {
   "cell_type": "markdown",
   "id": "53ca27f3-8d09-48da-b054-cd357c65b770",
   "metadata": {},
   "source": [
    "## 1. Integrácia a čistenie dát\n",
    "\n",
    "### Zadanie  \n",
    "Transformujte dáta na vhodný formát pre strojové učenie t.j. jedno pozorovanie musí byť opísané jedným riadkom a každý atribút musí byť v numerickom formáte. \n",
    "- Pri riešení chýbajúcich hodnôt (missing values) vyskúšajte rôzne stratégie z nasledujúcich podskupín:\n",
    "    - odstránenie pozorovaní s chýbajúcimi údajmi\n",
    "    - nahradenie chýbajúcej hodnoty mediánom, priemerom, pomerom (ku korelovanému atribútu), alebo pomocou lineárnej regresie resp. kNN\n",
    "- Podobne postupujte aj pri riešení vychýlených hodnôt (outlier detection):\n",
    "    - odstránenie vychýlených (odľahlých) pozorovaní\n",
    "    - nahradenie vychýlenej hodnoty hraničnými hodnotami rozdelenia (5% resp. 95%)\n",
    "    \n",
    "### Riešenie  \n",
    "\n",
    "#### Načítanie datasetov\n"
   ]
  },
  {
   "cell_type": "code",
   "execution_count": 2,
   "id": "90dfc1f0-72ef-41d7-bb6e-92bc53b937da",
   "metadata": {},
   "outputs": [],
   "source": [
    "# read labor and profiles dataset\n",
    "df_labor = pd.read_csv('../../data/labor.csv', sep='\\t')\n",
    "df_profiles = pd.read_csv('../../data/profiles.csv', sep='\\t')"
   ]
  },
  {
   "cell_type": "markdown",
   "id": "cf02328a-aa6e-469a-8cb5-0036583cadfa",
   "metadata": {},
   "source": [
    "#### Spojenie datasetov  \n",
    "\n",
    " - spojenie datasetov riešime metódou dataframu **merge** na základe *_ssn_* a *_name_*:"
   ]
  },
  {
   "cell_type": "code",
   "execution_count": 3,
   "id": "f86d00b4-9313-4c98-8ce3-d0526d8ea18c",
   "metadata": {},
   "outputs": [
    {
     "data": {
      "text/html": [
       "<div>\n",
       "<style scoped>\n",
       "    .dataframe tbody tr th:only-of-type {\n",
       "        vertical-align: middle;\n",
       "    }\n",
       "\n",
       "    .dataframe tbody tr th {\n",
       "        vertical-align: top;\n",
       "    }\n",
       "\n",
       "    .dataframe thead th {\n",
       "        text-align: right;\n",
       "    }\n",
       "</style>\n",
       "<table border=\"1\" class=\"dataframe\">\n",
       "  <thead>\n",
       "    <tr style=\"text-align: right;\">\n",
       "      <th></th>\n",
       "      <th>Unnamed: 0_x</th>\n",
       "      <th>hemoglobin</th>\n",
       "      <th>leukocyty</th>\n",
       "      <th>etytr</th>\n",
       "      <th>weight</th>\n",
       "      <th>trombocyty</th>\n",
       "      <th>ast</th>\n",
       "      <th>alp</th>\n",
       "      <th>relationship</th>\n",
       "      <th>name</th>\n",
       "      <th>...</th>\n",
       "      <th>ssn</th>\n",
       "      <th>hematokrit</th>\n",
       "      <th>Unnamed: 0_y</th>\n",
       "      <th>sex</th>\n",
       "      <th>current_location</th>\n",
       "      <th>blood_group</th>\n",
       "      <th>residence</th>\n",
       "      <th>birthdate</th>\n",
       "      <th>race</th>\n",
       "      <th>address</th>\n",
       "    </tr>\n",
       "  </thead>\n",
       "  <tbody>\n",
       "    <tr>\n",
       "      <th>0</th>\n",
       "      <td>0</td>\n",
       "      <td>6.77299</td>\n",
       "      <td>5.28153</td>\n",
       "      <td>4.79087</td>\n",
       "      <td>104.22450</td>\n",
       "      <td>7.22472</td>\n",
       "      <td>61.85014</td>\n",
       "      <td>80.77401</td>\n",
       "      <td>married</td>\n",
       "      <td>Kathryn Wagner</td>\n",
       "      <td>...</td>\n",
       "      <td>887-91-9698</td>\n",
       "      <td>5.40103</td>\n",
       "      <td>249</td>\n",
       "      <td>F</td>\n",
       "      <td>(Decimal('11.9802965'), Decimal('-21.280545'))</td>\n",
       "      <td>A-</td>\n",
       "      <td>5232 Leah Cliff\\nVeronicaborough, HI 57977</td>\n",
       "      <td>18 Jul 1990</td>\n",
       "      <td>Black</td>\n",
       "      <td>Unit 2672 Box 7318\\nDPO AE 84546</td>\n",
       "    </tr>\n",
       "    <tr>\n",
       "      <th>1</th>\n",
       "      <td>1031</td>\n",
       "      <td>7.61474</td>\n",
       "      <td>8.32651</td>\n",
       "      <td>6.31797</td>\n",
       "      <td>103.40018</td>\n",
       "      <td>7.94740</td>\n",
       "      <td>68.19111</td>\n",
       "      <td>58.87708</td>\n",
       "      <td>married</td>\n",
       "      <td>Kathryn Wagner</td>\n",
       "      <td>...</td>\n",
       "      <td>887-91-9698</td>\n",
       "      <td>6.98459</td>\n",
       "      <td>249</td>\n",
       "      <td>F</td>\n",
       "      <td>(Decimal('11.9802965'), Decimal('-21.280545'))</td>\n",
       "      <td>A-</td>\n",
       "      <td>5232 Leah Cliff\\nVeronicaborough, HI 57977</td>\n",
       "      <td>18 Jul 1990</td>\n",
       "      <td>Black</td>\n",
       "      <td>Unit 2672 Box 7318\\nDPO AE 84546</td>\n",
       "    </tr>\n",
       "    <tr>\n",
       "      <th>2</th>\n",
       "      <td>4028</td>\n",
       "      <td>4.48849</td>\n",
       "      <td>4.23617</td>\n",
       "      <td>4.02665</td>\n",
       "      <td>81.31141</td>\n",
       "      <td>6.17807</td>\n",
       "      <td>61.68013</td>\n",
       "      <td>38.42977</td>\n",
       "      <td>married</td>\n",
       "      <td>Kathryn Wagner</td>\n",
       "      <td>...</td>\n",
       "      <td>887-91-9698</td>\n",
       "      <td>8.37171</td>\n",
       "      <td>249</td>\n",
       "      <td>F</td>\n",
       "      <td>(Decimal('11.9802965'), Decimal('-21.280545'))</td>\n",
       "      <td>A-</td>\n",
       "      <td>5232 Leah Cliff\\nVeronicaborough, HI 57977</td>\n",
       "      <td>18 Jul 1990</td>\n",
       "      <td>Black</td>\n",
       "      <td>Unit 2672 Box 7318\\nDPO AE 84546</td>\n",
       "    </tr>\n",
       "    <tr>\n",
       "      <th>3</th>\n",
       "      <td>5988</td>\n",
       "      <td>8.29277</td>\n",
       "      <td>5.51242</td>\n",
       "      <td>4.48835</td>\n",
       "      <td>47.93897</td>\n",
       "      <td>7.92536</td>\n",
       "      <td>64.28436</td>\n",
       "      <td>31.94522</td>\n",
       "      <td>separated</td>\n",
       "      <td>Kathryn Wagner</td>\n",
       "      <td>...</td>\n",
       "      <td>887-91-9698</td>\n",
       "      <td>5.91413</td>\n",
       "      <td>249</td>\n",
       "      <td>F</td>\n",
       "      <td>(Decimal('11.9802965'), Decimal('-21.280545'))</td>\n",
       "      <td>A-</td>\n",
       "      <td>5232 Leah Cliff\\nVeronicaborough, HI 57977</td>\n",
       "      <td>18 Jul 1990</td>\n",
       "      <td>Black</td>\n",
       "      <td>Unit 2672 Box 7318\\nDPO AE 84546</td>\n",
       "    </tr>\n",
       "    <tr>\n",
       "      <th>4</th>\n",
       "      <td>1</td>\n",
       "      <td>6.35217</td>\n",
       "      <td>5.45245</td>\n",
       "      <td>3.34754</td>\n",
       "      <td>65.03608</td>\n",
       "      <td>7.00407</td>\n",
       "      <td>66.90722</td>\n",
       "      <td>90.01585</td>\n",
       "      <td>widowed</td>\n",
       "      <td>Frank Becker</td>\n",
       "      <td>...</td>\n",
       "      <td>506-37-0250</td>\n",
       "      <td>7.68167</td>\n",
       "      <td>2387</td>\n",
       "      <td>M</td>\n",
       "      <td>(Decimal('61.160467'), Decimal('-22.068344'))</td>\n",
       "      <td>AB+</td>\n",
       "      <td>48442 Briggs Causeway Suite 060\\nNashberg, CO ...</td>\n",
       "      <td>1906-08-23</td>\n",
       "      <td>White</td>\n",
       "      <td>4018 English Springs Apt. 997\\nPort Kevinmouth...</td>\n",
       "    </tr>\n",
       "  </tbody>\n",
       "</table>\n",
       "<p>5 rows × 26 columns</p>\n",
       "</div>"
      ],
      "text/plain": [
       "   Unnamed: 0_x  hemoglobin  leukocyty    etytr     weight  trombocyty  \\\n",
       "0             0     6.77299    5.28153  4.79087  104.22450     7.22472   \n",
       "1          1031     7.61474    8.32651  6.31797  103.40018     7.94740   \n",
       "2          4028     4.48849    4.23617  4.02665   81.31141     6.17807   \n",
       "3          5988     8.29277    5.51242  4.48835   47.93897     7.92536   \n",
       "4             1     6.35217    5.45245  3.34754   65.03608     7.00407   \n",
       "\n",
       "        ast       alp relationship            name  ...          ssn  \\\n",
       "0  61.85014  80.77401      married  Kathryn Wagner  ...  887-91-9698   \n",
       "1  68.19111  58.87708      married  Kathryn Wagner  ...  887-91-9698   \n",
       "2  61.68013  38.42977      married  Kathryn Wagner  ...  887-91-9698   \n",
       "3  64.28436  31.94522    separated  Kathryn Wagner  ...  887-91-9698   \n",
       "4  66.90722  90.01585      widowed    Frank Becker  ...  506-37-0250   \n",
       "\n",
       "   hematokrit Unnamed: 0_y  sex  \\\n",
       "0     5.40103          249    F   \n",
       "1     6.98459          249    F   \n",
       "2     8.37171          249    F   \n",
       "3     5.91413          249    F   \n",
       "4     7.68167         2387    M   \n",
       "\n",
       "                                 current_location  blood_group  \\\n",
       "0  (Decimal('11.9802965'), Decimal('-21.280545'))           A-   \n",
       "1  (Decimal('11.9802965'), Decimal('-21.280545'))           A-   \n",
       "2  (Decimal('11.9802965'), Decimal('-21.280545'))           A-   \n",
       "3  (Decimal('11.9802965'), Decimal('-21.280545'))           A-   \n",
       "4   (Decimal('61.160467'), Decimal('-22.068344'))          AB+   \n",
       "\n",
       "                                           residence    birthdate   race  \\\n",
       "0         5232 Leah Cliff\\nVeronicaborough, HI 57977  18 Jul 1990  Black   \n",
       "1         5232 Leah Cliff\\nVeronicaborough, HI 57977  18 Jul 1990  Black   \n",
       "2         5232 Leah Cliff\\nVeronicaborough, HI 57977  18 Jul 1990  Black   \n",
       "3         5232 Leah Cliff\\nVeronicaborough, HI 57977  18 Jul 1990  Black   \n",
       "4  48442 Briggs Causeway Suite 060\\nNashberg, CO ...   1906-08-23  White   \n",
       "\n",
       "                                             address  \n",
       "0                   Unit 2672 Box 7318\\nDPO AE 84546  \n",
       "1                   Unit 2672 Box 7318\\nDPO AE 84546  \n",
       "2                   Unit 2672 Box 7318\\nDPO AE 84546  \n",
       "3                   Unit 2672 Box 7318\\nDPO AE 84546  \n",
       "4  4018 English Springs Apt. 997\\nPort Kevinmouth...  \n",
       "\n",
       "[5 rows x 26 columns]"
      ]
     },
     "execution_count": 3,
     "metadata": {},
     "output_type": "execute_result"
    }
   ],
   "source": [
    "df_merged = df_labor.merge(df_profiles, on=['ssn', 'name'], how='inner')\n",
    "df_backup = df_merged.copy(deep=True)\n",
    "df_merged.head()"
   ]
  },
  {
   "cell_type": "markdown",
   "id": "61a81277-03f2-42f0-b45b-782d07141a43",
   "metadata": {},
   "source": [
    " - pozrieme sa na info o stĺpcoch, na základe **info** je potrebné riešiť transformáciu viacerých údajov na numerické:"
   ]
  },
  {
   "cell_type": "code",
   "execution_count": 4,
   "id": "ce1dc323-1303-4533-9191-21f048464312",
   "metadata": {},
   "outputs": [
    {
     "name": "stdout",
     "output_type": "stream",
     "text": [
      "<class 'pandas.core.frame.DataFrame'>\n",
      "Int64Index: 10035 entries, 0 to 10034\n",
      "Data columns (total 26 columns):\n",
      " #   Column            Non-Null Count  Dtype  \n",
      "---  ------            --------------  -----  \n",
      " 0   Unnamed: 0_x      10035 non-null  int64  \n",
      " 1   hemoglobin        10005 non-null  float64\n",
      " 2   leukocyty         10004 non-null  float64\n",
      " 3   etytr             10005 non-null  float64\n",
      " 4   weight            10035 non-null  float64\n",
      " 5   trombocyty        10005 non-null  float64\n",
      " 6   ast               10005 non-null  float64\n",
      " 7   alp               10004 non-null  float64\n",
      " 8   relationship      10035 non-null  object \n",
      " 9   name              10035 non-null  object \n",
      " 10  alt               10005 non-null  float64\n",
      " 11  hbver             10005 non-null  float64\n",
      " 12  smoker            10035 non-null  object \n",
      " 13  erytrocyty        10005 non-null  float64\n",
      " 14  er-cv             10005 non-null  float64\n",
      " 15  indicator         10035 non-null  float64\n",
      " 16  ssn               10035 non-null  object \n",
      " 17  hematokrit        10005 non-null  float64\n",
      " 18  Unnamed: 0_y      10035 non-null  int64  \n",
      " 19  sex               10035 non-null  object \n",
      " 20  current_location  10035 non-null  object \n",
      " 21  blood_group       10035 non-null  object \n",
      " 22  residence         10035 non-null  object \n",
      " 23  birthdate         10035 non-null  object \n",
      " 24  race              10035 non-null  object \n",
      " 25  address           10035 non-null  object \n",
      "dtypes: float64(13), int64(2), object(11)\n",
      "memory usage: 2.1+ MB\n"
     ]
    }
   ],
   "source": [
    "df_merged.info()"
   ]
  },
  {
   "cell_type": "markdown",
   "id": "080691f7-1a10-4511-821e-ab795efa7946",
   "metadata": {},
   "source": [
    " - pozrieme sa na počet NaN hodnôt:"
   ]
  },
  {
   "cell_type": "code",
   "execution_count": 5,
   "id": "f0e2c0a8-c61b-48e3-84e0-b5d84d8c0a02",
   "metadata": {},
   "outputs": [
    {
     "data": {
      "text/plain": [
       "Unnamed: 0_x         0\n",
       "hemoglobin          30\n",
       "leukocyty           31\n",
       "etytr               30\n",
       "weight               0\n",
       "trombocyty          30\n",
       "ast                 30\n",
       "alp                 31\n",
       "relationship         0\n",
       "name                 0\n",
       "alt                 30\n",
       "hbver               30\n",
       "smoker               0\n",
       "erytrocyty          30\n",
       "er-cv               30\n",
       "indicator            0\n",
       "ssn                  0\n",
       "hematokrit          30\n",
       "Unnamed: 0_y         0\n",
       "sex                  0\n",
       "current_location     0\n",
       "blood_group          0\n",
       "residence            0\n",
       "birthdate            0\n",
       "race                 0\n",
       "address              0\n",
       "dtype: int64"
      ]
     },
     "execution_count": 5,
     "metadata": {},
     "output_type": "execute_result"
    }
   ],
   "source": [
    "df_merged.isna().sum()"
   ]
  },
  {
   "cell_type": "markdown",
   "id": "d44ee13b-9ce1-4939-9977-08b0f9690802",
   "metadata": {},
   "source": [
    " - celkovo máme 332 NaN hodnôt:"
   ]
  },
  {
   "cell_type": "code",
   "execution_count": 6,
   "id": "51daf355-dfb9-4e48-98bd-0931f3021d5d",
   "metadata": {},
   "outputs": [
    {
     "data": {
      "text/plain": [
       "332"
      ]
     },
     "execution_count": 6,
     "metadata": {},
     "output_type": "execute_result"
    }
   ],
   "source": [
    "df_merged.isna().sum().sum()"
   ]
  },
  {
   "cell_type": "markdown",
   "id": "f189081f-5a1e-4c26-9982-08f4b695418f",
   "metadata": {},
   "source": [
    " - vidíme, že dataset má viaceré problémy, ktoré musíme riešiť - transformáciu na numerické dáta, nahradenie až 332 NaN hodnôt a podobne, preto si uź teraz definujeme významné funkcie, ktoré budeme potrebovať neskôr doplnené aj s príslušnou dokumentáciu kódu:"
   ]
  },
  {
   "cell_type": "code",
   "execution_count": 7,
   "id": "b26a0084-a0c8-4a9c-8d94-1a1e2fdc7f8f",
   "metadata": {
    "tags": []
   },
   "outputs": [],
   "source": [
    "def meanFunct(data, column):\n",
    "    \"\"\"\n",
    "    Computes mean of an column and fills NaN values in column based on mean.\n",
    "    \n",
    "    :param data: The dataset is instance of pandas.core.frame.DataFrame\n",
    "    :param column: Feature \n",
    "    :returns: pandas.core.frame.DataFrame\n",
    "    \"\"\"\n",
    "    data[column] = data[column].fillna(data[column].mean())\n",
    "    return data\n",
    "    \n",
    "def medianFunct(data, column):\n",
    "    \"\"\"\n",
    "    Computes median of an column and fills NaN values in column based on median.\n",
    "    \n",
    "    :param data: The dataset is instance of pandas.core.frame.DataFrame\n",
    "    :param column: Feature \n",
    "    :returns: pandas.core.frame.DataFrame\n",
    "    \"\"\"\n",
    "    data[column] = data[column].fillna(data[column].median())\n",
    "    return data\n",
    "    \n",
    "def controlFunct(data, column):\n",
    "    \"\"\"\n",
    "    Control function, prints from dataset column.\n",
    "    \n",
    "    :param data: The dataset is instance of pandas.core.frame.DataFrame\n",
    "    :param column: Feature \n",
    "    \"\"\"\n",
    "    print(data[column].loc[data[column].isna(),])\n",
    "    print(sum(data[column].isna()))\n",
    "    \n",
    "def knnFunct(data, column):\n",
    "    \"\"\"\n",
    "    Computes KNN of an column and fills NaN values in column based on KNN.\n",
    "    \n",
    "    :param data: The dataset is instance of pandas.core.frame.DataFrame\n",
    "    :param column: Feature \n",
    "    :returns: pandas.core.frame.DataFrame\n",
    "    \"\"\"\n",
    "    imputer = KNNImputer(n_neighbors=5)\n",
    "    copy = data[column].values.reshape(-1,1)\n",
    "    imputer.fit(copy)\n",
    "    Xtrans = imputer.transform(copy)\n",
    "    data[column] = pd.DataFrame(Xtrans)\n",
    "    return data\n",
    "    \n",
    "def regressionFunct(data, column):\n",
    "    \"\"\"\n",
    "    Computes linear regresion of an column and fills NaN values in column based on linear regresion.\n",
    "    \n",
    "    :param data: The dataset is instance of pandas.core.frame.DataFrame\n",
    "    :param column: Feature \n",
    "    :returns: pandas.core.frame.DataFrame\n",
    "    \"\"\"\n",
    "    data[column].interpolate(method='linear', inplace=True)\n",
    "    return data\n",
    "\n",
    "def ratioFunct(data, columnToFill, corrColumn):\n",
    "    \"\"\"\n",
    "    Computes ratio of an corrColumn and columnToFill; fills NaN values in column based on ratio.\n",
    "    \n",
    "    :param data: The dataset is instance of pandas.core.frame.DataFrame\n",
    "    :param columnToFill: Feature to fill NaN values\n",
    "    :param corrColumn: Feature which correlates with columnToFill\n",
    "    :returns: pandas.core.frame.DataFrame\n",
    "    \"\"\"\n",
    "    ratio = data[corrColumn]/data[columnToFill]\n",
    "    data[columnToFill] = data[columnToFill].fillna(data[corrColumn] * ratio.mean())\n",
    "    return data\n",
    "    \n",
    "def dropCol(data, *args):\n",
    "    \"\"\"\n",
    "    Function to delete columns specified in *args to be deleted from data.\n",
    "\n",
    "    :param data: The dataset is instance of pandas.core.frame.DataFrame\n",
    "    :param *args: tuple of *str, specifing cols to be dropped\n",
    "    :returns: pandas.core.frame.DataFrame without columns specified in *args\n",
    "    :raises keyError: raises an exception in case column was not found\n",
    "    \"\"\"\n",
    "    try:\n",
    "        return data.drop(list(args), axis=1)\n",
    "    except KeyError:\n",
    "        print(f'Something from {args} not found in dataset!') \n",
    "        return data\n",
    "    \n",
    "def age(born):\n",
    "    \"\"\"\n",
    "    Computes current age.\n",
    "    \n",
    "    :param born: Date of birth \n",
    "    returns: Current age\n",
    "    \"\"\"\n",
    "    today = date.today()\n",
    "    return today.year - born.year - ((today.month, today.day) < (born.month, born.day))"
   ]
  },
  {
   "cell_type": "markdown",
   "id": "f4921fb9-df5f-4092-84dd-ddd84931e8b3",
   "metadata": {},
   "source": [
    "#### 1. Dataset profilov\n",
    "\n",
    " - **Atribút unnamed(0)** - slúži ako index/riadkovanie, preto celý stĺpec vymazať, nie je potrebný, v zlúčenom datasete je pod stĺpcom **Unnamed: 0_y**  "
   ]
  },
  {
   "cell_type": "code",
   "execution_count": 8,
   "id": "1390cca8-45df-4db0-993b-de6de990e0c8",
   "metadata": {},
   "outputs": [
    {
     "name": "stdout",
     "output_type": "stream",
     "text": [
      "<class 'pandas.core.frame.DataFrame'>\n",
      "Int64Index: 10035 entries, 0 to 10034\n",
      "Data columns (total 25 columns):\n",
      " #   Column            Non-Null Count  Dtype  \n",
      "---  ------            --------------  -----  \n",
      " 0   Unnamed: 0_x      10035 non-null  int64  \n",
      " 1   hemoglobin        10005 non-null  float64\n",
      " 2   leukocyty         10004 non-null  float64\n",
      " 3   etytr             10005 non-null  float64\n",
      " 4   weight            10035 non-null  float64\n",
      " 5   trombocyty        10005 non-null  float64\n",
      " 6   ast               10005 non-null  float64\n",
      " 7   alp               10004 non-null  float64\n",
      " 8   relationship      10035 non-null  object \n",
      " 9   name              10035 non-null  object \n",
      " 10  alt               10005 non-null  float64\n",
      " 11  hbver             10005 non-null  float64\n",
      " 12  smoker            10035 non-null  object \n",
      " 13  erytrocyty        10005 non-null  float64\n",
      " 14  er-cv             10005 non-null  float64\n",
      " 15  indicator         10035 non-null  float64\n",
      " 16  ssn               10035 non-null  object \n",
      " 17  hematokrit        10005 non-null  float64\n",
      " 18  sex               10035 non-null  object \n",
      " 19  current_location  10035 non-null  object \n",
      " 20  blood_group       10035 non-null  object \n",
      " 21  residence         10035 non-null  object \n",
      " 22  birthdate         10035 non-null  object \n",
      " 23  race              10035 non-null  object \n",
      " 24  address           10035 non-null  object \n",
      "dtypes: float64(13), int64(1), object(11)\n",
      "memory usage: 2.0+ MB\n"
     ]
    }
   ],
   "source": [
    "df_merged=dropCol(df_merged, 'Unnamed: 0_y')\n",
    "df_merged.info()"
   ]
  },
  {
   "cell_type": "markdown",
   "id": "75cc6f00-0f03-4ad2-9f01-2afbe463551d",
   "metadata": {},
   "source": [
    " - **Atribút name** - tento stĺpec je v poriadku, kódovať do numerického tvaru ho nebudeme, potrebný pre spojenie 2 dataframeov, avšak po spojení dataframov je nepotrebný, a preto ho odstránime "
   ]
  },
  {
   "cell_type": "code",
   "execution_count": 9,
   "id": "cb62ceae-3aa6-4d68-be9c-191816628f33",
   "metadata": {},
   "outputs": [
    {
     "data": {
      "text/plain": [
       "0    Kathryn Wagner\n",
       "1    Kathryn Wagner\n",
       "2    Kathryn Wagner\n",
       "3    Kathryn Wagner\n",
       "4      Frank Becker\n",
       "Name: name, dtype: object"
      ]
     },
     "execution_count": 9,
     "metadata": {},
     "output_type": "execute_result"
    }
   ],
   "source": [
    "df_merged[\"name\"].head()"
   ]
  },
  {
   "cell_type": "code",
   "execution_count": 10,
   "id": "3be5014f-1001-4ea0-9ab9-6dbee1ebadf6",
   "metadata": {},
   "outputs": [
    {
     "name": "stdout",
     "output_type": "stream",
     "text": [
      "<class 'pandas.core.frame.DataFrame'>\n",
      "Int64Index: 10035 entries, 0 to 10034\n",
      "Data columns (total 24 columns):\n",
      " #   Column            Non-Null Count  Dtype  \n",
      "---  ------            --------------  -----  \n",
      " 0   Unnamed: 0_x      10035 non-null  int64  \n",
      " 1   hemoglobin        10005 non-null  float64\n",
      " 2   leukocyty         10004 non-null  float64\n",
      " 3   etytr             10005 non-null  float64\n",
      " 4   weight            10035 non-null  float64\n",
      " 5   trombocyty        10005 non-null  float64\n",
      " 6   ast               10005 non-null  float64\n",
      " 7   alp               10004 non-null  float64\n",
      " 8   relationship      10035 non-null  object \n",
      " 9   alt               10005 non-null  float64\n",
      " 10  hbver             10005 non-null  float64\n",
      " 11  smoker            10035 non-null  object \n",
      " 12  erytrocyty        10005 non-null  float64\n",
      " 13  er-cv             10005 non-null  float64\n",
      " 14  indicator         10035 non-null  float64\n",
      " 15  ssn               10035 non-null  object \n",
      " 16  hematokrit        10005 non-null  float64\n",
      " 17  sex               10035 non-null  object \n",
      " 18  current_location  10035 non-null  object \n",
      " 19  blood_group       10035 non-null  object \n",
      " 20  residence         10035 non-null  object \n",
      " 21  birthdate         10035 non-null  object \n",
      " 22  race              10035 non-null  object \n",
      " 23  address           10035 non-null  object \n",
      "dtypes: float64(13), int64(1), object(10)\n",
      "memory usage: 1.9+ MB\n"
     ]
    }
   ],
   "source": [
    "df_merged=dropCol(df_merged, 'name')\n",
    "df_merged.info()"
   ]
  },
  {
   "cell_type": "markdown",
   "id": "ba0d7a2b-be5d-49d2-9a28-a279e423cf13",
   "metadata": {},
   "source": [
    " - **Atribút sex** - tento stĺpec treba pretransformovať z typu *_object_* na numerický typ nasledovne: **1 - žena**, **0 - muž**"
   ]
  },
  {
   "cell_type": "code",
   "execution_count": 11,
   "id": "ef5fddf8-bf20-412b-aa14-54142ec29888",
   "metadata": {},
   "outputs": [
    {
     "data": {
      "text/plain": [
       "0    F\n",
       "1    F\n",
       "2    F\n",
       "3    F\n",
       "4    M\n",
       "Name: sex, dtype: object"
      ]
     },
     "execution_count": 11,
     "metadata": {},
     "output_type": "execute_result"
    }
   ],
   "source": [
    "df_merged[\"sex\"].head()"
   ]
  },
  {
   "cell_type": "code",
   "execution_count": 12,
   "id": "2973fe8f-fec7-4994-b817-6ece320cac37",
   "metadata": {},
   "outputs": [
    {
     "data": {
      "text/plain": [
       "0.0    5104\n",
       "1.0    4931\n",
       "Name: sex, dtype: int64"
      ]
     },
     "execution_count": 12,
     "metadata": {},
     "output_type": "execute_result"
    }
   ],
   "source": [
    "df_merged[\"sex\"].replace({\"M\": 0, \"F\": 1}, inplace=True)\n",
    "df_merged = df_merged.astype({'sex': 'float64'})\n",
    "df_merged[\"sex\"].value_counts()"
   ]
  },
  {
   "cell_type": "markdown",
   "id": "d01a8dae-7bc8-41d9-a4aa-641ab339fea8",
   "metadata": {},
   "source": [
    "Tento stĺpec sme úspešne transformovali na dátový typ *_category_* a nahradili sme jeho východiskové hodnoty M a F za 0 a 1 ako dokazuje nasledovná bunka:"
   ]
  },
  {
   "cell_type": "code",
   "execution_count": 13,
   "id": "83198114-72af-490c-8e44-06f7234eed2c",
   "metadata": {},
   "outputs": [
    {
     "data": {
      "text/plain": [
       "0    1.0\n",
       "1    1.0\n",
       "2    1.0\n",
       "3    1.0\n",
       "4    0.0\n",
       "Name: sex, dtype: float64"
      ]
     },
     "execution_count": 13,
     "metadata": {},
     "output_type": "execute_result"
    }
   ],
   "source": [
    "df_merged[\"sex\"].head()"
   ]
  },
  {
   "cell_type": "markdown",
   "id": "dda5f3a1-627a-4289-a67f-f34e989de4ff",
   "metadata": {
    "tags": []
   },
   "source": [
    "- **Atribút current_location** - tento atribút nebudeme potrebovať pri strojovom učení, nebudeme riešiť kódovanie na numerický tvar, ale jeho vymazanie"
   ]
  },
  {
   "cell_type": "code",
   "execution_count": 14,
   "id": "7c0b0e50-7eab-4321-b963-2199b6f9a72b",
   "metadata": {},
   "outputs": [
    {
     "data": {
      "text/plain": [
       "0    (Decimal('11.9802965'), Decimal('-21.280545'))\n",
       "1    (Decimal('11.9802965'), Decimal('-21.280545'))\n",
       "2    (Decimal('11.9802965'), Decimal('-21.280545'))\n",
       "3    (Decimal('11.9802965'), Decimal('-21.280545'))\n",
       "4     (Decimal('61.160467'), Decimal('-22.068344'))\n",
       "Name: current_location, dtype: object"
      ]
     },
     "execution_count": 14,
     "metadata": {},
     "output_type": "execute_result"
    }
   ],
   "source": [
    "df_merged[\"current_location\"].head()"
   ]
  },
  {
   "cell_type": "code",
   "execution_count": 15,
   "id": "00f9e534-84bf-4086-bd75-e3fbc6d1a6b9",
   "metadata": {},
   "outputs": [
    {
     "name": "stdout",
     "output_type": "stream",
     "text": [
      "<class 'pandas.core.frame.DataFrame'>\n",
      "Int64Index: 10035 entries, 0 to 10034\n",
      "Data columns (total 23 columns):\n",
      " #   Column        Non-Null Count  Dtype  \n",
      "---  ------        --------------  -----  \n",
      " 0   Unnamed: 0_x  10035 non-null  int64  \n",
      " 1   hemoglobin    10005 non-null  float64\n",
      " 2   leukocyty     10004 non-null  float64\n",
      " 3   etytr         10005 non-null  float64\n",
      " 4   weight        10035 non-null  float64\n",
      " 5   trombocyty    10005 non-null  float64\n",
      " 6   ast           10005 non-null  float64\n",
      " 7   alp           10004 non-null  float64\n",
      " 8   relationship  10035 non-null  object \n",
      " 9   alt           10005 non-null  float64\n",
      " 10  hbver         10005 non-null  float64\n",
      " 11  smoker        10035 non-null  object \n",
      " 12  erytrocyty    10005 non-null  float64\n",
      " 13  er-cv         10005 non-null  float64\n",
      " 14  indicator     10035 non-null  float64\n",
      " 15  ssn           10035 non-null  object \n",
      " 16  hematokrit    10005 non-null  float64\n",
      " 17  sex           10035 non-null  float64\n",
      " 18  blood_group   10035 non-null  object \n",
      " 19  residence     10035 non-null  object \n",
      " 20  birthdate     10035 non-null  object \n",
      " 21  race          10035 non-null  object \n",
      " 22  address       10035 non-null  object \n",
      "dtypes: float64(14), int64(1), object(8)\n",
      "memory usage: 1.8+ MB\n"
     ]
    }
   ],
   "source": [
    "df_merged=dropCol(df_merged, 'current_location')\n",
    "df_merged.info()"
   ]
  },
  {
   "cell_type": "markdown",
   "id": "78f2504e-26a3-4909-aae7-47fc4a7f48ab",
   "metadata": {},
   "source": [
    " - **Atribút blood_group** - hodnoty typu *_object_* kategorizujeme nasledovne: **1(A+), 2(A-), 3(B+), 4(B-), 5(AB+), 6(AB-), 7(O+) a 8(O-)**"
   ]
  },
  {
   "cell_type": "code",
   "execution_count": 16,
   "id": "dd2bc8b9-032e-4ab7-b86b-6ad2f57ac1dd",
   "metadata": {},
   "outputs": [
    {
     "data": {
      "text/plain": [
       "0         A-\n",
       "1         A-\n",
       "2         A-\n",
       "3         A-\n",
       "4        AB+\n",
       "        ... \n",
       "10030    AB-\n",
       "10031    AB-\n",
       "10032     O+\n",
       "10033     O+\n",
       "10034     O+\n",
       "Name: blood_group, Length: 10035, dtype: object"
      ]
     },
     "execution_count": 16,
     "metadata": {},
     "output_type": "execute_result"
    }
   ],
   "source": [
    "df_merged['blood_group']"
   ]
  },
  {
   "cell_type": "code",
   "execution_count": 17,
   "id": "42f08de4-ff36-4653-a346-8858dcaeb376",
   "metadata": {},
   "outputs": [
    {
     "data": {
      "text/plain": [
       "3.0    1306\n",
       "1.0    1300\n",
       "8.0    1288\n",
       "5.0    1271\n",
       "7.0    1266\n",
       "2.0    1252\n",
       "6.0    1191\n",
       "4.0    1161\n",
       "Name: blood_group, dtype: int64"
      ]
     },
     "execution_count": 17,
     "metadata": {},
     "output_type": "execute_result"
    }
   ],
   "source": [
    "df_merged['blood_group'] = df_merged['blood_group'].replace({\"A+\": 1,\"A-\": 2, \"B+\": 3, \"B-\": 4, \"AB+\": 5, \"AB-\": 6, \"O+\": 7, \"O-\": 8})\n",
    "df_merged = df_merged.astype({'blood_group': 'float64'})\n",
    "df_merged.blood_group.value_counts()"
   ]
  },
  {
   "cell_type": "markdown",
   "id": "a80af556-91c2-4a36-a0e9-72701c587b4a",
   "metadata": {},
   "source": [
    "Tento stĺpec sme úspešne transformovali na dátový typ *_category_* a nahradili sme jeho východiskové hodnoty za 1, 2, 3, 4, 5, 6, 7 a 8 ako dokazuje nasledovná bunka:"
   ]
  },
  {
   "cell_type": "code",
   "execution_count": 18,
   "id": "f7707f37-723c-47af-b5fc-12a43568ea40",
   "metadata": {},
   "outputs": [
    {
     "data": {
      "text/plain": [
       "0    2.0\n",
       "1    2.0\n",
       "2    2.0\n",
       "3    2.0\n",
       "4    5.0\n",
       "Name: blood_group, dtype: float64"
      ]
     },
     "execution_count": 18,
     "metadata": {},
     "output_type": "execute_result"
    }
   ],
   "source": [
    "df_merged[\"blood_group\"].head()"
   ]
  },
  {
   "cell_type": "markdown",
   "id": "24080e2e-aae9-41dc-ae1d-f15067abca9f",
   "metadata": {},
   "source": [
    "- **Atribút residence** - tento stĺpec je v poriadku, avšak pri strojovom učení ho nebudeme potrebovať, a preto ho odstránime:"
   ]
  },
  {
   "cell_type": "code",
   "execution_count": 19,
   "id": "a7c984c1-fa49-4378-9318-72b99f7f0f45",
   "metadata": {},
   "outputs": [
    {
     "data": {
      "text/plain": [
       "0           5232 Leah Cliff\\nVeronicaborough, HI 57977\n",
       "1           5232 Leah Cliff\\nVeronicaborough, HI 57977\n",
       "2           5232 Leah Cliff\\nVeronicaborough, HI 57977\n",
       "3           5232 Leah Cliff\\nVeronicaborough, HI 57977\n",
       "4    48442 Briggs Causeway Suite 060\\nNashberg, CO ...\n",
       "Name: residence, dtype: object"
      ]
     },
     "execution_count": 19,
     "metadata": {},
     "output_type": "execute_result"
    }
   ],
   "source": [
    "df_merged[\"residence\"].head()"
   ]
  },
  {
   "cell_type": "markdown",
   "id": "3e779e18-743d-41c5-a57d-ffef98a31342",
   "metadata": {},
   "source": [
    " - **Atribút birthdate** - neobsahuje žiadne chýbajúce hodnoty, avšak je potrebné získať jednotný tvar, pretože súčasný tvar je rôznorodý a zároveň nie je potrebné pre naše účely dátum narodenia pacienta, avšak súčasný vek pacienta môže byť potrebný, a preto nahradíme dátum narodenia za súčasný vek pacienta, ktorý môže byť pre nás viac informatívny"
   ]
  },
  {
   "cell_type": "code",
   "execution_count": 20,
   "id": "dac77ae1-9518-4611-b91b-f6dd76593b3c",
   "metadata": {},
   "outputs": [
    {
     "name": "stdout",
     "output_type": "stream",
     "text": [
      "<class 'pandas.core.frame.DataFrame'>\n",
      "Int64Index: 10035 entries, 0 to 10034\n",
      "Data columns (total 22 columns):\n",
      " #   Column        Non-Null Count  Dtype  \n",
      "---  ------        --------------  -----  \n",
      " 0   Unnamed: 0_x  10035 non-null  int64  \n",
      " 1   hemoglobin    10005 non-null  float64\n",
      " 2   leukocyty     10004 non-null  float64\n",
      " 3   etytr         10005 non-null  float64\n",
      " 4   weight        10035 non-null  float64\n",
      " 5   trombocyty    10005 non-null  float64\n",
      " 6   ast           10005 non-null  float64\n",
      " 7   alp           10004 non-null  float64\n",
      " 8   relationship  10035 non-null  object \n",
      " 9   alt           10005 non-null  float64\n",
      " 10  hbver         10005 non-null  float64\n",
      " 11  smoker        10035 non-null  object \n",
      " 12  erytrocyty    10005 non-null  float64\n",
      " 13  er-cv         10005 non-null  float64\n",
      " 14  indicator     10035 non-null  float64\n",
      " 15  ssn           10035 non-null  object \n",
      " 16  hematokrit    10005 non-null  float64\n",
      " 17  sex           10035 non-null  float64\n",
      " 18  blood_group   10035 non-null  float64\n",
      " 19  birthdate     10035 non-null  object \n",
      " 20  race          10035 non-null  object \n",
      " 21  address       10035 non-null  object \n",
      "dtypes: float64(15), int64(1), object(6)\n",
      "memory usage: 1.8+ MB\n"
     ]
    }
   ],
   "source": [
    "df_merged = dropCol(df_merged, 'residence')\n",
    "df_merged.info()"
   ]
  },
  {
   "cell_type": "code",
   "execution_count": 21,
   "id": "121e174d-d491-4bc3-b771-dcc04026a12a",
   "metadata": {},
   "outputs": [
    {
     "data": {
      "text/plain": [
       "0   1990-07-18\n",
       "1   1990-07-18\n",
       "2   1990-07-18\n",
       "3   1990-07-18\n",
       "4   1906-08-23\n",
       "Name: birthdate, dtype: datetime64[ns]"
      ]
     },
     "execution_count": 21,
     "metadata": {},
     "output_type": "execute_result"
    }
   ],
   "source": [
    "df_merged['birthdate'] = df_merged['birthdate'].astype('datetime64[ns]')\n",
    "df_merged['birthdate'].head()"
   ]
  },
  {
   "cell_type": "markdown",
   "id": "62fb1ddb-2248-436a-b444-eab94c89508d",
   "metadata": {},
   "source": [
    "Zároveň nemáme žiadne **NaN** hodnoty v dátume:"
   ]
  },
  {
   "cell_type": "code",
   "execution_count": 22,
   "id": "c6b8c087-4a9c-4117-9921-c4ac12cfdd60",
   "metadata": {},
   "outputs": [
    {
     "data": {
      "text/plain": [
       "0"
      ]
     },
     "execution_count": 22,
     "metadata": {},
     "output_type": "execute_result"
    }
   ],
   "source": [
    "df_merged['birthdate'].isna().sum()"
   ]
  },
  {
   "cell_type": "code",
   "execution_count": 23,
   "id": "5ca6b421-13af-4cdf-b9d2-da63c9d211a4",
   "metadata": {},
   "outputs": [
    {
     "name": "stdout",
     "output_type": "stream",
     "text": [
      "<class 'pandas.core.frame.DataFrame'>\n",
      "Int64Index: 10035 entries, 0 to 10034\n",
      "Data columns (total 22 columns):\n",
      " #   Column        Non-Null Count  Dtype  \n",
      "---  ------        --------------  -----  \n",
      " 0   Unnamed: 0_x  10035 non-null  int64  \n",
      " 1   hemoglobin    10005 non-null  float64\n",
      " 2   leukocyty     10004 non-null  float64\n",
      " 3   etytr         10005 non-null  float64\n",
      " 4   weight        10035 non-null  float64\n",
      " 5   trombocyty    10005 non-null  float64\n",
      " 6   ast           10005 non-null  float64\n",
      " 7   alp           10004 non-null  float64\n",
      " 8   relationship  10035 non-null  object \n",
      " 9   alt           10005 non-null  float64\n",
      " 10  hbver         10005 non-null  float64\n",
      " 11  smoker        10035 non-null  object \n",
      " 12  erytrocyty    10005 non-null  float64\n",
      " 13  er-cv         10005 non-null  float64\n",
      " 14  indicator     10035 non-null  float64\n",
      " 15  ssn           10035 non-null  object \n",
      " 16  hematokrit    10005 non-null  float64\n",
      " 17  sex           10035 non-null  float64\n",
      " 18  blood_group   10035 non-null  float64\n",
      " 19  age           10035 non-null  float64\n",
      " 20  race          10035 non-null  object \n",
      " 21  address       10035 non-null  object \n",
      "dtypes: float64(16), int64(1), object(5)\n",
      "memory usage: 1.8+ MB\n"
     ]
    }
   ],
   "source": [
    "df_merged['birthdate'] = df_merged['birthdate'].apply(age)\n",
    "df_merged = df_merged.rename(columns = {'birthdate': 'age'})   # ci nam treba birthdate? \n",
    "df_merged = df_merged.astype({'age': 'float64'})\n",
    "df_merged.info()"
   ]
  },
  {
   "cell_type": "markdown",
   "id": "09251430-4ceb-4911-b8bc-4d6a7979b6cb",
   "metadata": {},
   "source": [
    " - **Atribút race** - neobsahuje žiadne chýbajúce hodnoty, hodnoty kategorizujeme nasledovne: **1(White), 2(Black), 3(Asian), 4(Hawaiian), 5(Indian)**"
   ]
  },
  {
   "cell_type": "code",
   "execution_count": 24,
   "id": "abd424ee-f2d8-4d17-b964-68aa8633bdf9",
   "metadata": {},
   "outputs": [
    {
     "data": {
      "text/plain": [
       "White       5126\n",
       "Black       2359\n",
       "Asian        926\n",
       "Hawaiian     557\n",
       "Indian       517\n",
       "black        333\n",
       "white        120\n",
       "blsck         97\n",
       "Name: race, dtype: int64"
      ]
     },
     "execution_count": 24,
     "metadata": {},
     "output_type": "execute_result"
    }
   ],
   "source": [
    "df_merged.race.value_counts()"
   ]
  },
  {
   "cell_type": "markdown",
   "id": "955aeecf-27e0-4b68-81a1-109792ebffd1",
   "metadata": {},
   "source": [
    "Najskôr musíme upraviť hodnoty kde je chyba a ktoré majú na začiatku malé písmeno namiesto veľkého."
   ]
  },
  {
   "cell_type": "code",
   "execution_count": 25,
   "id": "ae3e9326-f737-4489-9960-225670e32456",
   "metadata": {},
   "outputs": [
    {
     "data": {
      "text/plain": [
       "White       5246\n",
       "Black       2789\n",
       "Asian        926\n",
       "Hawaiian     557\n",
       "Indian       517\n",
       "Name: race, dtype: int64"
      ]
     },
     "execution_count": 25,
     "metadata": {},
     "output_type": "execute_result"
    }
   ],
   "source": [
    "df_merged['race'] = df_merged['race'].replace({\"blsck\": \"Black\", \"black\": \"Black\", \"white\": \"White\"})\n",
    "df_merged.race.value_counts()"
   ]
  },
  {
   "cell_type": "markdown",
   "id": "cb3970d3-bd1c-41c5-a401-814a8fb6ae4f",
   "metadata": {},
   "source": [
    "Následne tieto hodnoty kategorizujeme ako sme uviedli vyššie."
   ]
  },
  {
   "cell_type": "code",
   "execution_count": 26,
   "id": "39d4f643-9d4e-4c81-bbfa-b465652eee69",
   "metadata": {},
   "outputs": [
    {
     "data": {
      "text/plain": [
       "1.0    5246\n",
       "2.0    2789\n",
       "3.0     926\n",
       "4.0     557\n",
       "5.0     517\n",
       "Name: race, dtype: int64"
      ]
     },
     "execution_count": 26,
     "metadata": {},
     "output_type": "execute_result"
    }
   ],
   "source": [
    "df_merged['race'] = df_merged['race'].replace({\"White\": 1,\"Black\": 2, \"Asian\": 3, \"Hawaiian\": 4, \"Indian\": 5})\n",
    "df_merged = df_merged.astype({'race': 'float64'}) # mame pouzivat category?\n",
    "df_merged.race.value_counts()"
   ]
  },
  {
   "cell_type": "code",
   "execution_count": 27,
   "id": "9a46dbf0-d1d9-4204-802a-0fcba8e269df",
   "metadata": {},
   "outputs": [
    {
     "data": {
      "text/plain": [
       "0    2.0\n",
       "1    2.0\n",
       "2    2.0\n",
       "3    2.0\n",
       "4    1.0\n",
       "Name: race, dtype: float64"
      ]
     },
     "execution_count": 27,
     "metadata": {},
     "output_type": "execute_result"
    }
   ],
   "source": [
    "df_merged[\"race\"].head()"
   ]
  },
  {
   "cell_type": "markdown",
   "id": "0a9db012-5124-441e-b9f2-a2d5607a7f44",
   "metadata": {},
   "source": [
    "- **Atribút ssn** - tento stĺpec je v poriadku, avšak po spojení dataframeov je nepotrebný pre naše účely, preto ho odstránime:"
   ]
  },
  {
   "cell_type": "code",
   "execution_count": 28,
   "id": "5c274cc1-6d11-447a-8205-052d73b23859",
   "metadata": {},
   "outputs": [
    {
     "data": {
      "text/plain": [
       "0    887-91-9698\n",
       "1    887-91-9698\n",
       "2    887-91-9698\n",
       "3    887-91-9698\n",
       "4    506-37-0250\n",
       "Name: ssn, dtype: object"
      ]
     },
     "execution_count": 28,
     "metadata": {},
     "output_type": "execute_result"
    }
   ],
   "source": [
    "df_merged[\"ssn\"].head()"
   ]
  },
  {
   "cell_type": "code",
   "execution_count": 29,
   "id": "9b4e35e0-417e-4d83-ab5d-0c5d81c05708",
   "metadata": {},
   "outputs": [
    {
     "name": "stdout",
     "output_type": "stream",
     "text": [
      "<class 'pandas.core.frame.DataFrame'>\n",
      "Int64Index: 10035 entries, 0 to 10034\n",
      "Data columns (total 21 columns):\n",
      " #   Column        Non-Null Count  Dtype  \n",
      "---  ------        --------------  -----  \n",
      " 0   Unnamed: 0_x  10035 non-null  int64  \n",
      " 1   hemoglobin    10005 non-null  float64\n",
      " 2   leukocyty     10004 non-null  float64\n",
      " 3   etytr         10005 non-null  float64\n",
      " 4   weight        10035 non-null  float64\n",
      " 5   trombocyty    10005 non-null  float64\n",
      " 6   ast           10005 non-null  float64\n",
      " 7   alp           10004 non-null  float64\n",
      " 8   relationship  10035 non-null  object \n",
      " 9   alt           10005 non-null  float64\n",
      " 10  hbver         10005 non-null  float64\n",
      " 11  smoker        10035 non-null  object \n",
      " 12  erytrocyty    10005 non-null  float64\n",
      " 13  er-cv         10005 non-null  float64\n",
      " 14  indicator     10035 non-null  float64\n",
      " 15  hematokrit    10005 non-null  float64\n",
      " 16  sex           10035 non-null  float64\n",
      " 17  blood_group   10035 non-null  float64\n",
      " 18  age           10035 non-null  float64\n",
      " 19  race          10035 non-null  float64\n",
      " 20  address       10035 non-null  object \n",
      "dtypes: float64(17), int64(1), object(3)\n",
      "memory usage: 1.7+ MB\n"
     ]
    }
   ],
   "source": [
    "df_merged = dropCol(df_merged, 'ssn')\n",
    "df_merged.info()"
   ]
  },
  {
   "cell_type": "markdown",
   "id": "cf56d621-25cc-4e3f-a709-21a14ab16177",
   "metadata": {},
   "source": [
    " - **Atribút address** - tento stĺpec je celý v poriadku, avšak nepotrebný pre naše účely, preto ho nebudeme transformovať, ale odstránime ho:"
   ]
  },
  {
   "cell_type": "code",
   "execution_count": 30,
   "id": "1bf61f10-470f-4c9b-ae84-ad17efc615a1",
   "metadata": {},
   "outputs": [
    {
     "data": {
      "text/plain": [
       "0                     Unit 2672 Box 7318\\nDPO AE 84546\n",
       "1                     Unit 2672 Box 7318\\nDPO AE 84546\n",
       "2                     Unit 2672 Box 7318\\nDPO AE 84546\n",
       "3                     Unit 2672 Box 7318\\nDPO AE 84546\n",
       "4    4018 English Springs Apt. 997\\nPort Kevinmouth...\n",
       "Name: address, dtype: object"
      ]
     },
     "execution_count": 30,
     "metadata": {},
     "output_type": "execute_result"
    }
   ],
   "source": [
    "df_merged[\"address\"].head()"
   ]
  },
  {
   "cell_type": "code",
   "execution_count": 31,
   "id": "ea144a16-ff39-4095-b7b9-2a136c84bfd5",
   "metadata": {},
   "outputs": [
    {
     "name": "stdout",
     "output_type": "stream",
     "text": [
      "<class 'pandas.core.frame.DataFrame'>\n",
      "Int64Index: 10035 entries, 0 to 10034\n",
      "Data columns (total 20 columns):\n",
      " #   Column        Non-Null Count  Dtype  \n",
      "---  ------        --------------  -----  \n",
      " 0   Unnamed: 0_x  10035 non-null  int64  \n",
      " 1   hemoglobin    10005 non-null  float64\n",
      " 2   leukocyty     10004 non-null  float64\n",
      " 3   etytr         10005 non-null  float64\n",
      " 4   weight        10035 non-null  float64\n",
      " 5   trombocyty    10005 non-null  float64\n",
      " 6   ast           10005 non-null  float64\n",
      " 7   alp           10004 non-null  float64\n",
      " 8   relationship  10035 non-null  object \n",
      " 9   alt           10005 non-null  float64\n",
      " 10  hbver         10005 non-null  float64\n",
      " 11  smoker        10035 non-null  object \n",
      " 12  erytrocyty    10005 non-null  float64\n",
      " 13  er-cv         10005 non-null  float64\n",
      " 14  indicator     10035 non-null  float64\n",
      " 15  hematokrit    10005 non-null  float64\n",
      " 16  sex           10035 non-null  float64\n",
      " 17  blood_group   10035 non-null  float64\n",
      " 18  age           10035 non-null  float64\n",
      " 19  race          10035 non-null  float64\n",
      "dtypes: float64(17), int64(1), object(2)\n",
      "memory usage: 1.6+ MB\n"
     ]
    }
   ],
   "source": [
    "df_merged = dropCol(df_merged, 'address')\n",
    "df_merged.info()"
   ]
  },
  {
   "cell_type": "markdown",
   "id": "e62da1f0-f7d1-4f11-8263-0b02e1afde86",
   "metadata": {},
   "source": [
    "#### Časť datasetu laboratórnych výsledkov  \n",
    "\n",
    " - **Atribút unnamed(0)** - slúži ako index/riadkovanie, preto celý stĺpec vymazať, nie je potrebný, v zlúčenom datasete je pod stĺpcom **Unnamed: 0_x**  "
   ]
  },
  {
   "cell_type": "code",
   "execution_count": 32,
   "id": "db74252a-a7dd-471d-a384-047009d0b446",
   "metadata": {},
   "outputs": [
    {
     "name": "stdout",
     "output_type": "stream",
     "text": [
      "<class 'pandas.core.frame.DataFrame'>\n",
      "Int64Index: 10035 entries, 0 to 10034\n",
      "Data columns (total 19 columns):\n",
      " #   Column        Non-Null Count  Dtype  \n",
      "---  ------        --------------  -----  \n",
      " 0   hemoglobin    10005 non-null  float64\n",
      " 1   leukocyty     10004 non-null  float64\n",
      " 2   etytr         10005 non-null  float64\n",
      " 3   weight        10035 non-null  float64\n",
      " 4   trombocyty    10005 non-null  float64\n",
      " 5   ast           10005 non-null  float64\n",
      " 6   alp           10004 non-null  float64\n",
      " 7   relationship  10035 non-null  object \n",
      " 8   alt           10005 non-null  float64\n",
      " 9   hbver         10005 non-null  float64\n",
      " 10  smoker        10035 non-null  object \n",
      " 11  erytrocyty    10005 non-null  float64\n",
      " 12  er-cv         10005 non-null  float64\n",
      " 13  indicator     10035 non-null  float64\n",
      " 14  hematokrit    10005 non-null  float64\n",
      " 15  sex           10035 non-null  float64\n",
      " 16  blood_group   10035 non-null  float64\n",
      " 17  age           10035 non-null  float64\n",
      " 18  race          10035 non-null  float64\n",
      "dtypes: float64(17), object(2)\n",
      "memory usage: 1.5+ MB\n"
     ]
    }
   ],
   "source": [
    "df_merged = dropCol(df_merged,\"Unnamed: 0_x\")\n",
    "df_merged.info()"
   ]
  },
  {
   "cell_type": "markdown",
   "id": "25fa384b-c076-41a8-a73f-4206b8a33f2b",
   "metadata": {},
   "source": [
    " - **Atribút hemoglobin** - obsahuje chýbajúce hodnoty, riešime ich nahradenie *_priemerom_*"
   ]
  },
  {
   "cell_type": "code",
   "execution_count": 33,
   "id": "41008963-d548-4850-a770-71e8efc94ddd",
   "metadata": {},
   "outputs": [
    {
     "name": "stdout",
     "output_type": "stream",
     "text": [
      "12     NaN\n",
      "455    NaN\n",
      "621    NaN\n",
      "677    NaN\n",
      "714    NaN\n",
      "1020   NaN\n",
      "1617   NaN\n",
      "1926   NaN\n",
      "2231   NaN\n",
      "2724   NaN\n",
      "2784   NaN\n",
      "3279   NaN\n",
      "3373   NaN\n",
      "4165   NaN\n",
      "4221   NaN\n",
      "4233   NaN\n",
      "4867   NaN\n",
      "4989   NaN\n",
      "5191   NaN\n",
      "5357   NaN\n",
      "5510   NaN\n",
      "6180   NaN\n",
      "6921   NaN\n",
      "7259   NaN\n",
      "7953   NaN\n",
      "8349   NaN\n",
      "8509   NaN\n",
      "8955   NaN\n",
      "9222   NaN\n",
      "9684   NaN\n",
      "Name: hemoglobin, dtype: float64\n",
      "30\n"
     ]
    }
   ],
   "source": [
    "controlFunct(df_merged, \"hemoglobin\")"
   ]
  },
  {
   "cell_type": "code",
   "execution_count": 34,
   "id": "56b72b21-6bb8-4469-bb85-0bce62e3efad",
   "metadata": {},
   "outputs": [],
   "source": [
    "df_merged = meanFunct(df_merged, \"hemoglobin\")"
   ]
  },
  {
   "cell_type": "markdown",
   "id": "42215a76-3c7e-4441-afc1-9b40dd7d1695",
   "metadata": {},
   "source": [
    "Dôkaz o tom, že chýbajúce hodnoty boli nahradené:"
   ]
  },
  {
   "cell_type": "code",
   "execution_count": 35,
   "id": "c87963fc-6ed9-4c14-ae0a-570bdac0c50d",
   "metadata": {},
   "outputs": [
    {
     "name": "stdout",
     "output_type": "stream",
     "text": [
      "Series([], Name: hemoglobin, dtype: float64)\n",
      "0\n"
     ]
    }
   ],
   "source": [
    "controlFunct(df_merged, \"hemoglobin\")"
   ]
  },
  {
   "cell_type": "markdown",
   "id": "2a03afdb-ffa0-4454-a15a-0337c27892fa",
   "metadata": {},
   "source": [
    " - **Atribút leukocyty** - obsahuje chýbajúce hodnoty, riešime ich nahradenie cez *ratio*"
   ]
  },
  {
   "cell_type": "code",
   "execution_count": 36,
   "id": "fda30c87-3111-49e5-a03d-cfe0c40e7d67",
   "metadata": {},
   "outputs": [
    {
     "name": "stdout",
     "output_type": "stream",
     "text": [
      "107    NaN\n",
      "362    NaN\n",
      "483    NaN\n",
      "601    NaN\n",
      "1242   NaN\n",
      "1243   NaN\n",
      "1544   NaN\n",
      "1820   NaN\n",
      "1933   NaN\n",
      "1962   NaN\n",
      "2177   NaN\n",
      "2711   NaN\n",
      "2774   NaN\n",
      "3276   NaN\n",
      "3627   NaN\n",
      "3986   NaN\n",
      "4032   NaN\n",
      "4101   NaN\n",
      "4779   NaN\n",
      "5025   NaN\n",
      "5188   NaN\n",
      "5191   NaN\n",
      "5401   NaN\n",
      "5565   NaN\n",
      "6167   NaN\n",
      "6393   NaN\n",
      "6698   NaN\n",
      "6796   NaN\n",
      "7245   NaN\n",
      "8288   NaN\n",
      "8695   NaN\n",
      "Name: leukocyty, dtype: float64\n",
      "31\n"
     ]
    }
   ],
   "source": [
    "controlFunct(df_merged, \"leukocyty\")"
   ]
  },
  {
   "cell_type": "code",
   "execution_count": 37,
   "id": "4ea246a1-ab3e-4aed-ba97-398daca927f9",
   "metadata": {},
   "outputs": [],
   "source": [
    "df_merged = ratioFunct(df_merged, \"leukocyty\",\"etytr\")"
   ]
  },
  {
   "cell_type": "markdown",
   "id": "a3c9b5ab-21cb-4fea-84b7-ffdcaf91bd97",
   "metadata": {},
   "source": [
    "Dôkaz o tom, že chýbajúce hodnoty boli nahradené:"
   ]
  },
  {
   "cell_type": "code",
   "execution_count": 38,
   "id": "57029558-879b-40f9-bbc4-79846948f18e",
   "metadata": {},
   "outputs": [
    {
     "name": "stdout",
     "output_type": "stream",
     "text": [
      "Series([], Name: leukocyty, dtype: float64)\n",
      "0\n"
     ]
    }
   ],
   "source": [
    "controlFunct(df_merged, \"leukocyty\")"
   ]
  },
  {
   "cell_type": "markdown",
   "id": "22d26739-2299-4ae4-9ef4-89163f77653c",
   "metadata": {},
   "source": [
    " - **Atribút etytr** - obsahuje chýbajúce hodnoty, riešime ich nahradenie *lineárnou regresiou*"
   ]
  },
  {
   "cell_type": "code",
   "execution_count": 39,
   "id": "457c569f-8f78-4631-81e8-7b5a069ffb9d",
   "metadata": {},
   "outputs": [
    {
     "name": "stdout",
     "output_type": "stream",
     "text": [
      "50     NaN\n",
      "426    NaN\n",
      "467    NaN\n",
      "551    NaN\n",
      "782    NaN\n",
      "1784   NaN\n",
      "2854   NaN\n",
      "2889   NaN\n",
      "3411   NaN\n",
      "4008   NaN\n",
      "4692   NaN\n",
      "5234   NaN\n",
      "5259   NaN\n",
      "5652   NaN\n",
      "5919   NaN\n",
      "5941   NaN\n",
      "6452   NaN\n",
      "6465   NaN\n",
      "6704   NaN\n",
      "7897   NaN\n",
      "8030   NaN\n",
      "8062   NaN\n",
      "8769   NaN\n",
      "8813   NaN\n",
      "9121   NaN\n",
      "9285   NaN\n",
      "9437   NaN\n",
      "9659   NaN\n",
      "9675   NaN\n",
      "9689   NaN\n",
      "Name: etytr, dtype: float64\n",
      "30\n"
     ]
    }
   ],
   "source": [
    "controlFunct(df_merged, \"etytr\")"
   ]
  },
  {
   "cell_type": "code",
   "execution_count": 40,
   "id": "e80df1d9-467d-421e-86e7-2810a1ba4885",
   "metadata": {},
   "outputs": [],
   "source": [
    "df_merged = regressionFunct(df_merged, \"etytr\")"
   ]
  },
  {
   "cell_type": "markdown",
   "id": "ff67405a-dd8b-42ae-8c91-ddf33f9703d3",
   "metadata": {},
   "source": [
    "Dôkaz o tom, že chýbajúce hodnoty boli nahradené:"
   ]
  },
  {
   "cell_type": "code",
   "execution_count": 41,
   "id": "0090724c-2425-462e-ab39-360061395baa",
   "metadata": {},
   "outputs": [
    {
     "name": "stdout",
     "output_type": "stream",
     "text": [
      "Series([], Name: etytr, dtype: float64)\n",
      "0\n"
     ]
    }
   ],
   "source": [
    "controlFunct(df_merged, \"etytr\")"
   ]
  },
  {
   "cell_type": "markdown",
   "id": "4c96a991-8a6d-404b-beae-6e71df1c9df2",
   "metadata": {},
   "source": [
    " - **Atribút weight** - neobsahuje žiadne chýbajúce hodnoty, avšak obsahuje chybné hodnoty(zápornú váhu), ktoré odstránime"
   ]
  },
  {
   "cell_type": "code",
   "execution_count": 42,
   "id": "38740c26-f104-4ea3-b8c4-7982837d9653",
   "metadata": {},
   "outputs": [
    {
     "data": {
      "text/plain": [
       "11      -0.29605\n",
       "53      -1.13369\n",
       "168    -15.48039\n",
       "169     -6.55910\n",
       "183    -12.45169\n",
       "          ...   \n",
       "9793    -9.12601\n",
       "9881   -11.36831\n",
       "9890   -22.83756\n",
       "9960   -12.81497\n",
       "9984    -6.40237\n",
       "Name: weight, Length: 203, dtype: float64"
      ]
     },
     "execution_count": 42,
     "metadata": {},
     "output_type": "execute_result"
    }
   ],
   "source": [
    "df_merged[\"weight\"].loc[df_merged[\"weight\"] < 0]"
   ]
  },
  {
   "cell_type": "code",
   "execution_count": 43,
   "id": "6615fa7d-c37c-4201-87ac-87d0c3dcad8d",
   "metadata": {},
   "outputs": [],
   "source": [
    "weight_median=df_merged[\"weight\"].median()\n",
    "df_merged.weight = np.where(df_merged.weight < 0, weight_median, df_merged.weight)"
   ]
  },
  {
   "cell_type": "code",
   "execution_count": 44,
   "id": "8136420f-c106-4e6b-a751-0aad4fb7284c",
   "metadata": {},
   "outputs": [
    {
     "data": {
      "text/plain": [
       "0"
      ]
     },
     "execution_count": 44,
     "metadata": {},
     "output_type": "execute_result"
    }
   ],
   "source": [
    "df_merged[\"weight\"].loc[df_merged[\"weight\"] < 0].count()"
   ]
  },
  {
   "cell_type": "code",
   "execution_count": 45,
   "id": "b249c2f2-e86a-496d-907a-d709d37140d5",
   "metadata": {},
   "outputs": [
    {
     "data": {
      "text/plain": [
       "Series([], Name: weight, dtype: float64)"
      ]
     },
     "execution_count": 45,
     "metadata": {},
     "output_type": "execute_result"
    }
   ],
   "source": [
    "df_merged[\"weight\"].loc[df_merged[\"weight\"] < 0]"
   ]
  },
  {
   "cell_type": "markdown",
   "id": "75034646-3383-438c-838a-fa17f051b7c1",
   "metadata": {},
   "source": [
    " - **Atribút trombocyty** - obsahuje chýbajúce hodnoty, riešime ich nahradenie *priemerom*"
   ]
  },
  {
   "cell_type": "code",
   "execution_count": 46,
   "id": "7272639b-b2c8-4f47-9ebb-985ca90cd6a1",
   "metadata": {},
   "outputs": [
    {
     "name": "stdout",
     "output_type": "stream",
     "text": [
      "1003   NaN\n",
      "1581   NaN\n",
      "2093   NaN\n",
      "2127   NaN\n",
      "2191   NaN\n",
      "2675   NaN\n",
      "2700   NaN\n",
      "3019   NaN\n",
      "3090   NaN\n",
      "3437   NaN\n",
      "4197   NaN\n",
      "4847   NaN\n",
      "5318   NaN\n",
      "5324   NaN\n",
      "5397   NaN\n",
      "5561   NaN\n",
      "5787   NaN\n",
      "6331   NaN\n",
      "7138   NaN\n",
      "7339   NaN\n",
      "7611   NaN\n",
      "8241   NaN\n",
      "8525   NaN\n",
      "8587   NaN\n",
      "8655   NaN\n",
      "8746   NaN\n",
      "9414   NaN\n",
      "9799   NaN\n",
      "9889   NaN\n",
      "9949   NaN\n",
      "Name: trombocyty, dtype: float64\n",
      "30\n"
     ]
    }
   ],
   "source": [
    "controlFunct(df_merged, \"trombocyty\")"
   ]
  },
  {
   "cell_type": "code",
   "execution_count": 47,
   "id": "e8afdbc5-79a4-4140-8b0b-1ddc7be5d10d",
   "metadata": {},
   "outputs": [],
   "source": [
    "df_merged = meanFunct(df_merged, \"trombocyty\")"
   ]
  },
  {
   "cell_type": "markdown",
   "id": "489670c5-9122-4567-be83-6bc85e63696d",
   "metadata": {},
   "source": [
    "Dôkaz o tom, že chýbajúce hodnoty boli nahradené:"
   ]
  },
  {
   "cell_type": "code",
   "execution_count": 48,
   "id": "aa0e963f-120e-4a83-998a-461809e72e86",
   "metadata": {},
   "outputs": [
    {
     "name": "stdout",
     "output_type": "stream",
     "text": [
      "Series([], Name: trombocyty, dtype: float64)\n",
      "0\n"
     ]
    }
   ],
   "source": [
    "controlFunct(df_merged, \"trombocyty\")"
   ]
  },
  {
   "cell_type": "markdown",
   "id": "b36db736-e57f-4ef9-87d1-e962d2a06dee",
   "metadata": {},
   "source": [
    " - **Atribút ast** - obsahuje chýbajúce hodnoty, riešime ich nahradenie *<insert metóda>*"
   ]
  },
  {
   "cell_type": "code",
   "execution_count": 49,
   "id": "feab0163-b275-4939-b370-b6b268732ea0",
   "metadata": {},
   "outputs": [
    {
     "name": "stdout",
     "output_type": "stream",
     "text": [
      "60     NaN\n",
      "83     NaN\n",
      "338    NaN\n",
      "389    NaN\n",
      "1059   NaN\n",
      "1545   NaN\n",
      "1815   NaN\n",
      "1821   NaN\n",
      "2088   NaN\n",
      "2620   NaN\n",
      "2946   NaN\n",
      "3043   NaN\n",
      "3329   NaN\n",
      "3836   NaN\n",
      "4711   NaN\n",
      "4895   NaN\n",
      "4939   NaN\n",
      "5051   NaN\n",
      "5500   NaN\n",
      "5553   NaN\n",
      "5875   NaN\n",
      "5899   NaN\n",
      "6027   NaN\n",
      "6442   NaN\n",
      "6868   NaN\n",
      "6984   NaN\n",
      "7077   NaN\n",
      "7241   NaN\n",
      "9329   NaN\n",
      "9682   NaN\n",
      "Name: ast, dtype: float64\n",
      "30\n"
     ]
    }
   ],
   "source": [
    "controlFunct(df_merged, \"ast\")"
   ]
  },
  {
   "cell_type": "code",
   "execution_count": 50,
   "id": "475e7544-00e9-48c5-961f-a22aa7175e1a",
   "metadata": {},
   "outputs": [],
   "source": [
    "df_merged = knnFunct(df_merged, \"ast\")"
   ]
  },
  {
   "cell_type": "markdown",
   "id": "1be6ee9c-da8a-445c-aae7-8b42abf2b962",
   "metadata": {},
   "source": [
    "Dôkaz o tom, že chýbajúce hodnoty boli nahradené:"
   ]
  },
  {
   "cell_type": "code",
   "execution_count": 51,
   "id": "40535c2c-11ce-4ae3-b8d2-c13114fa3841",
   "metadata": {},
   "outputs": [
    {
     "name": "stdout",
     "output_type": "stream",
     "text": [
      "Series([], Name: ast, dtype: float64)\n",
      "0\n"
     ]
    }
   ],
   "source": [
    "controlFunct(df_merged, \"ast\")"
   ]
  },
  {
   "cell_type": "markdown",
   "id": "368ce639-1739-4949-9b25-2e10e6a62aad",
   "metadata": {},
   "source": [
    " - **Atribút alp** -obsahuje chýbajúce hodnoty, riešime ich nahradenie *<insert metóda>*"
   ]
  },
  {
   "cell_type": "code",
   "execution_count": 52,
   "id": "39d0bf5d-c581-4a2f-ab04-d9e05b8a6c88",
   "metadata": {},
   "outputs": [
    {
     "name": "stdout",
     "output_type": "stream",
     "text": [
      "270     NaN\n",
      "915     NaN\n",
      "1180    NaN\n",
      "1792    NaN\n",
      "2074    NaN\n",
      "2088    NaN\n",
      "2316    NaN\n",
      "2446    NaN\n",
      "2773    NaN\n",
      "2868    NaN\n",
      "3376    NaN\n",
      "3425    NaN\n",
      "4187    NaN\n",
      "5208    NaN\n",
      "5645    NaN\n",
      "5923    NaN\n",
      "5947    NaN\n",
      "6058    NaN\n",
      "6596    NaN\n",
      "6719    NaN\n",
      "6806    NaN\n",
      "6807    NaN\n",
      "7166    NaN\n",
      "7438    NaN\n",
      "7514    NaN\n",
      "7786    NaN\n",
      "8504    NaN\n",
      "8566    NaN\n",
      "9726    NaN\n",
      "9996    NaN\n",
      "10021   NaN\n",
      "Name: alp, dtype: float64\n",
      "31\n"
     ]
    }
   ],
   "source": [
    "controlFunct(df_merged, \"alp\")"
   ]
  },
  {
   "cell_type": "code",
   "execution_count": 53,
   "id": "4a42557a-251d-47e3-9f68-77b880d4bbb6",
   "metadata": {},
   "outputs": [],
   "source": [
    "df_merged = knnFunct(df_merged, \"alp\")"
   ]
  },
  {
   "cell_type": "markdown",
   "id": "c94e14d0-eba7-4e06-a073-796b420cdfa2",
   "metadata": {},
   "source": [
    "Dôkaz o tom, že chýbajúce hodnoty boli nahradené:"
   ]
  },
  {
   "cell_type": "code",
   "execution_count": 54,
   "id": "d2fa9293-63d7-4452-9a3d-4aabeb628393",
   "metadata": {},
   "outputs": [
    {
     "name": "stdout",
     "output_type": "stream",
     "text": [
      "Series([], Name: alp, dtype: float64)\n",
      "0\n"
     ]
    }
   ],
   "source": [
    "controlFunct(df_merged, \"alp\")"
   ]
  },
  {
   "cell_type": "markdown",
   "id": "fea43d44-eb7f-4c37-b6c9-de09bb31fb37",
   "metadata": {},
   "source": [
    " - **Atribút relationship** - neobsahuje žiadne chýbajúce hodnoty, avšak potrebné je kategorizovať hodnoty, zvolili sme kategorizovanie nasledovane: **1(Married), 2(Divorced), 3(Single), 4(Separated), 5(nop), 6(widowed)**"
   ]
  },
  {
   "cell_type": "code",
   "execution_count": 55,
   "id": "168efc93-5e09-4e17-a328-a98de8691017",
   "metadata": {},
   "outputs": [
    {
     "data": {
      "text/plain": [
       "married      2498\n",
       "divoced      2488\n",
       "single       2011\n",
       "separated    1070\n",
       "nop          1001\n",
       "widowed       967\n",
       "Name: relationship, dtype: int64"
      ]
     },
     "execution_count": 55,
     "metadata": {},
     "output_type": "execute_result"
    }
   ],
   "source": [
    "df_merged.relationship.value_counts()"
   ]
  },
  {
   "cell_type": "code",
   "execution_count": 56,
   "id": "149548c4-c1ad-4795-93d0-f23004b928c2",
   "metadata": {},
   "outputs": [
    {
     "data": {
      "text/plain": [
       "1.0    2498\n",
       "2.0    2488\n",
       "3.0    2011\n",
       "4.0    1070\n",
       "5.0    1001\n",
       "6.0     967\n",
       "Name: relationship, dtype: int64"
      ]
     },
     "execution_count": 56,
     "metadata": {},
     "output_type": "execute_result"
    }
   ],
   "source": [
    "df_merged['relationship'] = df_merged['relationship'].replace({\"married\": 1, \"divoced\": 2, \"single\": 3, \"separated\": 4, \"nop\": 5,\"widowed\": 6})\n",
    "df_merged = df_merged.astype({'relationship': 'float64'})\n",
    "df_merged.relationship.value_counts()"
   ]
  },
  {
   "cell_type": "code",
   "execution_count": 57,
   "id": "94fa082f-f9ea-4207-a899-5f54351d8f5e",
   "metadata": {},
   "outputs": [
    {
     "data": {
      "text/plain": [
       "0    1.0\n",
       "1    1.0\n",
       "2    1.0\n",
       "3    4.0\n",
       "4    6.0\n",
       "Name: relationship, dtype: float64"
      ]
     },
     "execution_count": 57,
     "metadata": {},
     "output_type": "execute_result"
    }
   ],
   "source": [
    "df_merged[\"relationship\"].head()"
   ]
  },
  {
   "cell_type": "markdown",
   "id": "50f75bd9-cadb-4142-bd0f-1364fac95224",
   "metadata": {},
   "source": [
    " - **Atribút alt** - Obsahuje chýbajúce hodnoty, riešime ich nahradenie *lineárnou regresiou*"
   ]
  },
  {
   "cell_type": "code",
   "execution_count": 58,
   "id": "955d5579-e736-4ada-9d31-cb94f0b2c7a3",
   "metadata": {},
   "outputs": [
    {
     "name": "stdout",
     "output_type": "stream",
     "text": [
      "47     NaN\n",
      "1148   NaN\n",
      "1192   NaN\n",
      "1589   NaN\n",
      "2261   NaN\n",
      "2399   NaN\n",
      "2634   NaN\n",
      "3084   NaN\n",
      "3242   NaN\n",
      "3382   NaN\n",
      "3663   NaN\n",
      "3698   NaN\n",
      "3741   NaN\n",
      "3919   NaN\n",
      "4711   NaN\n",
      "5961   NaN\n",
      "6035   NaN\n",
      "6105   NaN\n",
      "6146   NaN\n",
      "6305   NaN\n",
      "6759   NaN\n",
      "6870   NaN\n",
      "6953   NaN\n",
      "7074   NaN\n",
      "7363   NaN\n",
      "7503   NaN\n",
      "7769   NaN\n",
      "8668   NaN\n",
      "9081   NaN\n",
      "9623   NaN\n",
      "Name: alt, dtype: float64\n",
      "30\n"
     ]
    }
   ],
   "source": [
    "controlFunct(df_merged, \"alt\")"
   ]
  },
  {
   "cell_type": "code",
   "execution_count": 59,
   "id": "942e4191-4e2e-40c6-bdb6-063ea59b1316",
   "metadata": {},
   "outputs": [],
   "source": [
    "df_merged = regressionFunct(df_merged, \"alt\")"
   ]
  },
  {
   "cell_type": "markdown",
   "id": "63e9fe14-6d79-47e4-aea6-38534ae7a128",
   "metadata": {},
   "source": [
    "Dôkaz o tom, že chýbajúce hodnoty boli nahradené:"
   ]
  },
  {
   "cell_type": "code",
   "execution_count": 60,
   "id": "b8f50829-9125-44b1-9158-cf4dee5c6875",
   "metadata": {},
   "outputs": [
    {
     "name": "stdout",
     "output_type": "stream",
     "text": [
      "Series([], Name: alt, dtype: float64)\n",
      "0\n"
     ]
    }
   ],
   "source": [
    "controlFunct(df_merged, \"alt\")"
   ]
  },
  {
   "cell_type": "markdown",
   "id": "a2f21827-444b-42a5-972c-8583587bb2de",
   "metadata": {},
   "source": [
    " - **Atribút erytrocyty** - obsahuje chýbajúce hodnoty"
   ]
  },
  {
   "cell_type": "code",
   "execution_count": 61,
   "id": "c81e5d2c-dc0e-444a-ba5d-dc944d48512b",
   "metadata": {},
   "outputs": [
    {
     "name": "stdout",
     "output_type": "stream",
     "text": [
      "276    NaN\n",
      "1459   NaN\n",
      "1590   NaN\n",
      "1620   NaN\n",
      "2090   NaN\n",
      "2885   NaN\n",
      "2996   NaN\n",
      "3023   NaN\n",
      "3225   NaN\n",
      "3305   NaN\n",
      "4136   NaN\n",
      "4206   NaN\n",
      "4378   NaN\n",
      "4534   NaN\n",
      "4630   NaN\n",
      "5884   NaN\n",
      "6012   NaN\n",
      "6297   NaN\n",
      "6385   NaN\n",
      "6447   NaN\n",
      "6691   NaN\n",
      "7517   NaN\n",
      "7569   NaN\n",
      "7782   NaN\n",
      "8503   NaN\n",
      "8509   NaN\n",
      "8557   NaN\n",
      "8667   NaN\n",
      "9187   NaN\n",
      "9656   NaN\n",
      "Name: erytrocyty, dtype: float64\n",
      "30\n"
     ]
    }
   ],
   "source": [
    "controlFunct(df_merged, \"erytrocyty\")"
   ]
  },
  {
   "cell_type": "code",
   "execution_count": 62,
   "id": "4e32c35e-c7c1-4fd0-b704-be932afb2cf3",
   "metadata": {},
   "outputs": [],
   "source": [
    "df_merged = ratioFunct(df_merged, \"erytrocyty\",\"alt\")"
   ]
  },
  {
   "cell_type": "markdown",
   "id": "6548da31-981b-418f-a310-9b7adc10c8bf",
   "metadata": {},
   "source": [
    "Dôkaz o tom, že chýbajúce hodnoty boli nahradené:"
   ]
  },
  {
   "cell_type": "code",
   "execution_count": 63,
   "id": "6f4512b6-9a69-40c3-8acf-29101e8acb7b",
   "metadata": {},
   "outputs": [
    {
     "name": "stdout",
     "output_type": "stream",
     "text": [
      "Series([], Name: erytrocyty, dtype: float64)\n",
      "0\n"
     ]
    }
   ],
   "source": [
    "controlFunct(df_merged, \"erytrocyty\")"
   ]
  },
  {
   "cell_type": "markdown",
   "id": "c77656eb-bb8e-46cc-821f-0fe65c1fa6c9",
   "metadata": {},
   "source": [
    " - **Atribút hbver** - obsahuje chýbajúce hodnoty, riešime ich nahradenie cez *ratio*"
   ]
  },
  {
   "cell_type": "code",
   "execution_count": 64,
   "id": "358e8009-130f-4dce-927a-5eaa0fa4ba2e",
   "metadata": {},
   "outputs": [
    {
     "name": "stdout",
     "output_type": "stream",
     "text": [
      "104    NaN\n",
      "260    NaN\n",
      "392    NaN\n",
      "569    NaN\n",
      "582    NaN\n",
      "936    NaN\n",
      "1154   NaN\n",
      "1433   NaN\n",
      "1919   NaN\n",
      "2646   NaN\n",
      "3500   NaN\n",
      "3678   NaN\n",
      "3734   NaN\n",
      "4004   NaN\n",
      "4116   NaN\n",
      "4169   NaN\n",
      "4350   NaN\n",
      "4415   NaN\n",
      "4951   NaN\n",
      "5988   NaN\n",
      "6092   NaN\n",
      "6625   NaN\n",
      "6805   NaN\n",
      "7066   NaN\n",
      "7200   NaN\n",
      "7757   NaN\n",
      "8575   NaN\n",
      "8604   NaN\n",
      "9220   NaN\n",
      "9409   NaN\n",
      "Name: hbver, dtype: float64\n",
      "30\n"
     ]
    }
   ],
   "source": [
    "controlFunct(df_merged, \"hbver\")"
   ]
  },
  {
   "cell_type": "code",
   "execution_count": 65,
   "id": "7ea09434-eee9-4b35-9c2b-413f4752c294",
   "metadata": {},
   "outputs": [],
   "source": [
    "df_merged = ratioFunct(df_merged, \"hbver\",\"erytrocyty\")"
   ]
  },
  {
   "cell_type": "markdown",
   "id": "8ea6d285-c255-42db-92ca-a998ab0b25bd",
   "metadata": {},
   "source": [
    "Dôkaz o tom, že chýbajúce hodnoty boli nahradené:"
   ]
  },
  {
   "cell_type": "code",
   "execution_count": 66,
   "id": "c2938621-4167-4c8a-b8f6-20ad2c9820c4",
   "metadata": {},
   "outputs": [
    {
     "name": "stdout",
     "output_type": "stream",
     "text": [
      "Series([], Name: hbver, dtype: float64)\n",
      "0\n"
     ]
    }
   ],
   "source": [
    "controlFunct(df_merged, \"hbver\")"
   ]
  },
  {
   "cell_type": "markdown",
   "id": "30520e2d-5912-405c-ae1e-c6dde4b67efd",
   "metadata": {},
   "source": [
    " - **Atribút smoker** - neobsahuje žiadne chýbajúce hodnoty, zjednotiť hodnoty(no, Y, yes, N) na dve a kategorizovať hodnoty nasledovane: **1(Yes), 0(No)**"
   ]
  },
  {
   "cell_type": "code",
   "execution_count": 67,
   "id": "4866babd-48a5-4652-9977-2eb17299fe15",
   "metadata": {},
   "outputs": [
    {
     "data": {
      "text/plain": [
       "no     5441\n",
       "Y      2081\n",
       "yes    1965\n",
       "N       548\n",
       "Name: smoker, dtype: int64"
      ]
     },
     "execution_count": 67,
     "metadata": {},
     "output_type": "execute_result"
    }
   ],
   "source": [
    "df_merged.smoker.value_counts()"
   ]
  },
  {
   "cell_type": "code",
   "execution_count": 68,
   "id": "fea9e698-bb02-4e45-9f45-155e67a82de2",
   "metadata": {},
   "outputs": [
    {
     "data": {
      "text/plain": [
       "0.0    5989\n",
       "1.0    4046\n",
       "Name: smoker, dtype: int64"
      ]
     },
     "execution_count": 68,
     "metadata": {},
     "output_type": "execute_result"
    }
   ],
   "source": [
    "df_merged['smoker'] = df_merged['smoker'].replace({\"no\": 0, \"N\": 0, \"yes\": 1, \"Y\": 1})\n",
    "df_merged = df_merged.astype({'smoker': 'float64'})\n",
    "df_merged.smoker.value_counts()"
   ]
  },
  {
   "cell_type": "markdown",
   "id": "3e01824c-c025-4e72-86e3-41b59b479248",
   "metadata": {},
   "source": [
    "Dôkaz o tom, že chýbajúce hodnoty boli nahradené:"
   ]
  },
  {
   "cell_type": "code",
   "execution_count": 69,
   "id": "69965819-c867-4acf-8dc2-5fe33b2739db",
   "metadata": {},
   "outputs": [
    {
     "data": {
      "text/plain": [
       "0    0.0\n",
       "1    1.0\n",
       "2    1.0\n",
       "3    1.0\n",
       "4    0.0\n",
       "Name: smoker, dtype: float64"
      ]
     },
     "execution_count": 69,
     "metadata": {},
     "output_type": "execute_result"
    }
   ],
   "source": [
    "df_merged[\"smoker\"].head()"
   ]
  },
  {
   "cell_type": "markdown",
   "id": "13d9d367-8b12-4eed-bc25-cb0f6bfcc9e9",
   "metadata": {},
   "source": [
    " - **Atribút er-cv** - obsahuje chýbajúce hodnoty"
   ]
  },
  {
   "cell_type": "code",
   "execution_count": 70,
   "id": "8a1aeb90-5949-455e-a302-6faf560eeada",
   "metadata": {},
   "outputs": [
    {
     "name": "stdout",
     "output_type": "stream",
     "text": [
      "156     NaN\n",
      "808     NaN\n",
      "953     NaN\n",
      "1351    NaN\n",
      "1436    NaN\n",
      "1747    NaN\n",
      "1854    NaN\n",
      "2102    NaN\n",
      "2131    NaN\n",
      "2135    NaN\n",
      "2551    NaN\n",
      "2734    NaN\n",
      "2875    NaN\n",
      "3816    NaN\n",
      "3834    NaN\n",
      "4127    NaN\n",
      "4189    NaN\n",
      "4824    NaN\n",
      "4931    NaN\n",
      "5067    NaN\n",
      "5622    NaN\n",
      "6493    NaN\n",
      "7421    NaN\n",
      "7508    NaN\n",
      "7534    NaN\n",
      "7761    NaN\n",
      "8666    NaN\n",
      "9600    NaN\n",
      "9714    NaN\n",
      "10026   NaN\n",
      "Name: er-cv, dtype: float64\n",
      "30\n"
     ]
    }
   ],
   "source": [
    "controlFunct(df_merged, \"er-cv\")"
   ]
  },
  {
   "cell_type": "code",
   "execution_count": 71,
   "id": "aa6d47de-3711-4d48-a411-eae68c04713b",
   "metadata": {},
   "outputs": [],
   "source": [
    "df_merged = medianFunct(df_merged, \"er-cv\")"
   ]
  },
  {
   "cell_type": "markdown",
   "id": "b7c633a4-803e-421b-9045-624e502e2b47",
   "metadata": {},
   "source": [
    "Dôkaz o tom, že chýbajúce hodnoty boli nahradené:"
   ]
  },
  {
   "cell_type": "code",
   "execution_count": 72,
   "id": "4fd7f442-b0dd-40ca-84a0-79c55f2b3d43",
   "metadata": {},
   "outputs": [
    {
     "name": "stdout",
     "output_type": "stream",
     "text": [
      "Series([], Name: er-cv, dtype: float64)\n",
      "0\n"
     ]
    }
   ],
   "source": [
    "controlFunct(df_merged, \"er-cv\")"
   ]
  },
  {
   "cell_type": "markdown",
   "id": "27c61b60-3bd7-4e9f-a2f3-78633542e4f3",
   "metadata": {},
   "source": [
    " - **Atribút indicator** - neobsahuje žiadne chýbajúce hodnoty, zmeniť dátový typ stĺpcu"
   ]
  },
  {
   "cell_type": "code",
   "execution_count": 73,
   "id": "2fa88466-b355-45c8-a57e-85c6157a5747",
   "metadata": {},
   "outputs": [
    {
     "data": {
      "text/plain": [
       "1.0    6437\n",
       "0.0    3598\n",
       "Name: indicator, dtype: int64"
      ]
     },
     "execution_count": 73,
     "metadata": {},
     "output_type": "execute_result"
    }
   ],
   "source": [
    "df_merged = df_merged.astype({'indicator': 'float64'})\n",
    "df_merged.indicator.value_counts()"
   ]
  },
  {
   "cell_type": "code",
   "execution_count": 74,
   "id": "0064d2ed-84bf-47c2-aa8c-e76ca0c55de5",
   "metadata": {},
   "outputs": [
    {
     "data": {
      "text/plain": [
       "0    0.0\n",
       "1    1.0\n",
       "2    1.0\n",
       "3    0.0\n",
       "4    0.0\n",
       "Name: indicator, dtype: float64"
      ]
     },
     "execution_count": 74,
     "metadata": {},
     "output_type": "execute_result"
    }
   ],
   "source": [
    "df_merged[\"indicator\"].head()"
   ]
  },
  {
   "cell_type": "markdown",
   "id": "e8f9c24f-f0a6-46b0-84fb-bb77838f80a1",
   "metadata": {},
   "source": [
    " - **Atribút hematokrit** - obsahuje chýbajúce hodnoty, riešime nahradenie *_medianom_*"
   ]
  },
  {
   "cell_type": "code",
   "execution_count": 75,
   "id": "e3027fe5-c914-43b3-8a18-a3fce2be6725",
   "metadata": {},
   "outputs": [
    {
     "name": "stdout",
     "output_type": "stream",
     "text": [
      "315    NaN\n",
      "754    NaN\n",
      "1262   NaN\n",
      "1275   NaN\n",
      "1593   NaN\n",
      "1743   NaN\n",
      "1791   NaN\n",
      "2723   NaN\n",
      "3010   NaN\n",
      "4194   NaN\n",
      "4322   NaN\n",
      "4747   NaN\n",
      "5297   NaN\n",
      "5477   NaN\n",
      "6246   NaN\n",
      "6364   NaN\n",
      "6633   NaN\n",
      "6973   NaN\n",
      "7310   NaN\n",
      "7351   NaN\n",
      "7428   NaN\n",
      "7499   NaN\n",
      "8291   NaN\n",
      "8509   NaN\n",
      "8980   NaN\n",
      "9136   NaN\n",
      "9285   NaN\n",
      "9440   NaN\n",
      "9809   NaN\n",
      "9893   NaN\n",
      "Name: hematokrit, dtype: float64\n",
      "30\n"
     ]
    }
   ],
   "source": [
    "controlFunct(df_merged, \"hematokrit\")"
   ]
  },
  {
   "cell_type": "code",
   "execution_count": 76,
   "id": "190f834b-3ce9-4d70-b6f1-e35adf5b4d85",
   "metadata": {},
   "outputs": [],
   "source": [
    "df_merged = medianFunct(df_merged, \"hematokrit\")"
   ]
  },
  {
   "cell_type": "markdown",
   "id": "54ad20b2-d62a-4eeb-b491-7ec09ac499d6",
   "metadata": {},
   "source": [
    "Dôkaz o tom, že chýbajúce hodnoty boli nahradené:"
   ]
  },
  {
   "cell_type": "code",
   "execution_count": 77,
   "id": "098301f2-9d9a-4671-94fb-72bc23a7424d",
   "metadata": {},
   "outputs": [
    {
     "name": "stdout",
     "output_type": "stream",
     "text": [
      "Series([], Name: hematokrit, dtype: float64)\n",
      "0\n"
     ]
    }
   ],
   "source": [
    "controlFunct(df_merged, \"hematokrit\")"
   ]
  },
  {
   "cell_type": "code",
   "execution_count": 78,
   "id": "bed06ca5-2fa9-48de-ad59-e76bebe277e3",
   "metadata": {},
   "outputs": [
    {
     "data": {
      "text/plain": [
       "<matplotlib.legend.Legend at 0x7fec77302da0>"
      ]
     },
     "execution_count": 78,
     "metadata": {},
     "output_type": "execute_result"
    },
    {
     "data": {
      "image/png": "[encoded data removed]",
      "text/plain": [
       "<Figure size 432x288 with 1 Axes>"
      ]
     },
     "metadata": {
      "needs_background": "light"
     },
     "output_type": "display_data"
    }
   ],
   "source": [
    "sns.histplot(df_merged.hemoglobin, color='green', kde=True, label='nové')\n",
    "sns.histplot(df_backup.hemoglobin, color='red', kde=True, label='pôvodné')\n",
    "plt.legend()"
   ]
  },
  {
   "cell_type": "markdown",
   "id": "b5aa77a0-1e20-4e8a-91c6-955f0382b4fb",
   "metadata": {
    "tags": []
   },
   "source": [
    "#### Deduplikácia (odstránenie duplikátov)"
   ]
  },
  {
   "cell_type": "markdown",
   "id": "83e10b50-6e16-4a9c-9f33-6a7286ec0313",
   "metadata": {},
   "source": [
    " - v datasete máme 198 duplikátov, ktoré odstránime"
   ]
  },
  {
   "cell_type": "code",
   "execution_count": 79,
   "id": "15e5a946-38ac-4a85-a015-3b5197d21e12",
   "metadata": {
    "tags": []
   },
   "outputs": [
    {
     "data": {
      "text/plain": [
       "False    9837\n",
       "True      198\n",
       "dtype: int64"
      ]
     },
     "execution_count": 79,
     "metadata": {},
     "output_type": "execute_result"
    }
   ],
   "source": [
    "df_merged.duplicated(keep=False).value_counts()"
   ]
  },
  {
   "cell_type": "code",
   "execution_count": 80,
   "id": "0618ba95-75bb-4424-ab3d-ac6df3b6847c",
   "metadata": {
    "tags": []
   },
   "outputs": [
    {
     "data": {
      "text/plain": [
       "False    9936\n",
       "dtype: int64"
      ]
     },
     "execution_count": 80,
     "metadata": {},
     "output_type": "execute_result"
    }
   ],
   "source": [
    "df_merged=df_merged.drop_duplicates()\n",
    "df_merged.duplicated(keep=False).value_counts()"
   ]
  },
  {
   "cell_type": "markdown",
   "id": "57e230ab-f12d-4fb1-9e2b-bd624d8055f6",
   "metadata": {},
   "source": [
    "#### Outliers  \n",
    "\n",
    " - tak, ako sme zistili z prieskumnej analýzy v prvej fáze projektu, tak máme aj niekoľko odchýlok v datasete, ktoré v nasledujúcich bunkách riešime, prv si definujeme funkcie:"
   ]
  },
  {
   "cell_type": "code",
   "execution_count": 81,
   "id": "7ffd36df-ad0a-40fe-bb8a-00bd5efc77bf",
   "metadata": {},
   "outputs": [],
   "source": [
    "def outlier_funct(column):\n",
    "    global df_merged\n",
    "    df_merged.loc[df_merged[column] < df_merged[column].quantile(.05), column] = df_merged[column].quantile(.05)\n",
    "    df_merged.loc[df_merged[column] > df_merged[column].quantile(.95) , column] = df_merged[column].quantile(.95) \n",
    "\n",
    "def release_outlier_funct():\n",
    "    global df_merged\n",
    "    outlier_funct('leukocyty')\n",
    "    outlier_funct('hemoglobin')\n",
    "    outlier_funct('erytrocyty')\n",
    "\n",
    "\n",
    "def outlier_funct2(column):\n",
    "    \"\"\"\n",
    "    Drops outliers in column\n",
    "    \n",
    "    :param: column: Feature of pandas dataframe\n",
    "    \"\"\"\n",
    "    global df_merged\n",
    "    \n",
    "    if ((stats.skew(df_merged[column]) < -2) or (stats.skew(df_merged[column]) > 2)):\n",
    "        df_merged[column] = np.log(df_merged[column]+ (-df_merged[column].min()))\n",
    "    df_merged.loc[df_merged[column] < df_merged[column].quantile(.05), column] = df_merged[column].quantile(.05)\n",
    "    df_merged.loc[df_merged[column] > df_merged[column].quantile(.95) , column] = df_merged[column].quantile(.95) \n",
    "\n",
    "def release_outlier_funct2():\n",
    "    \"\"\"\n",
    "    Drops outliers in the dataset, which we have identified in exploratory data analysis\n",
    "    \"\"\"\n",
    "    global df_merged\n",
    "    outlier_funct2('leukocyty')\n",
    "    outlier_funct2('hemoglobin')\n",
    "    outlier_funct2('erytrocyty')\n",
    "    outlier_funct2('alt')\n",
    "    outlier_funct2('alp')\n",
    "    outlier_funct2('ast')\n",
    "\n"
   ]
  },
  {
   "cell_type": "code",
   "execution_count": 82,
   "id": "3e764c9e-df90-4f85-8aa2-c181a1449b10",
   "metadata": {},
   "outputs": [],
   "source": [
    "#release_outlier_funct()"
   ]
  },
  {
   "cell_type": "markdown",
   "id": "a47f40b0-a4af-4d4f-95f8-9ff1ba04adfd",
   "metadata": {},
   "source": [
    " - je potrebné riešiť odchýlky, ako vyplýva z prieskumnej analýzy údajov, pre **leukocyty**, **hemoglobin**, **erytrocyty**, **alt**, **alp** a **ast**, ako dokazujú boxploty:"
   ]
  },
  {
   "cell_type": "code",
   "execution_count": 83,
   "id": "74f2affe-5b81-4b01-9cf7-b49a744cf308",
   "metadata": {},
   "outputs": [
    {
     "data": {
      "text/plain": [
       "<AxesSubplot:>"
      ]
     },
     "execution_count": 83,
     "metadata": {},
     "output_type": "execute_result"
    },
    {
     "data": {
      "image/png": "[encoded data removed]",
      "text/plain": [
       "<Figure size 432x288 with 1 Axes>"
      ]
     },
     "metadata": {
      "needs_background": "light"
     },
     "output_type": "display_data"
    }
   ],
   "source": [
    "sns.boxplot(data=df_merged)"
   ]
  },
  {
   "cell_type": "code",
   "execution_count": 84,
   "id": "39684319-521e-4564-bebc-88b4a2334ade",
   "metadata": {},
   "outputs": [
    {
     "data": {
      "text/plain": [
       "<AxesSubplot:>"
      ]
     },
     "execution_count": 84,
     "metadata": {},
     "output_type": "execute_result"
    },
    {
     "data": {
      "image/png": "[encoded data removed]",
      "text/plain": [
       "<Figure size 432x288 with 1 Axes>"
      ]
     },
     "metadata": {
      "needs_background": "light"
     },
     "output_type": "display_data"
    }
   ],
   "source": [
    "df_merged.boxplot(column=['leukocyty'])"
   ]
  },
  {
   "cell_type": "code",
   "execution_count": 85,
   "id": "eaa6f140-ddaa-4856-ba88-bd12c293dd32",
   "metadata": {},
   "outputs": [
    {
     "data": {
      "text/plain": [
       "<AxesSubplot:>"
      ]
     },
     "execution_count": 85,
     "metadata": {},
     "output_type": "execute_result"
    },
    {
     "data": {
      "image/png": "[encoded data removed]",
      "text/plain": [
       "<Figure size 432x288 with 1 Axes>"
      ]
     },
     "metadata": {
      "needs_background": "light"
     },
     "output_type": "display_data"
    }
   ],
   "source": [
    "df_merged.boxplot(column=['hemoglobin'])"
   ]
  },
  {
   "cell_type": "code",
   "execution_count": 86,
   "id": "a168d430-3e33-44e0-b800-bed9564083f9",
   "metadata": {},
   "outputs": [
    {
     "data": {
      "text/plain": [
       "<AxesSubplot:>"
      ]
     },
     "execution_count": 86,
     "metadata": {},
     "output_type": "execute_result"
    },
    {
     "data": {
      "image/png": "[encoded data removed]",
      "text/plain": [
       "<Figure size 432x288 with 1 Axes>"
      ]
     },
     "metadata": {
      "needs_background": "light"
     },
     "output_type": "display_data"
    }
   ],
   "source": [
    "df_merged.boxplot(column=['erytrocyty'])"
   ]
  },
  {
   "cell_type": "code",
   "execution_count": 87,
   "id": "112b1f31-0c2d-4a3f-9d06-44f98c8ee6cd",
   "metadata": {},
   "outputs": [
    {
     "data": {
      "text/plain": [
       "<AxesSubplot:>"
      ]
     },
     "execution_count": 87,
     "metadata": {},
     "output_type": "execute_result"
    },
    {
     "data": {
      "image/png": "[encoded data removed]",
      "text/plain": [
       "<Figure size 432x288 with 1 Axes>"
      ]
     },
     "metadata": {
      "needs_background": "light"
     },
     "output_type": "display_data"
    }
   ],
   "source": [
    "df_merged.boxplot(column=['alt'])"
   ]
  },
  {
   "cell_type": "code",
   "execution_count": 88,
   "id": "b2ebe55f-75ec-40dc-a575-68b1d980cd09",
   "metadata": {},
   "outputs": [
    {
     "data": {
      "text/plain": [
       "<AxesSubplot:>"
      ]
     },
     "execution_count": 88,
     "metadata": {},
     "output_type": "execute_result"
    },
    {
     "data": {
      "image/png": "[encoded data removed]",
      "text/plain": [
       "<Figure size 432x288 with 1 Axes>"
      ]
     },
     "metadata": {
      "needs_background": "light"
     },
     "output_type": "display_data"
    }
   ],
   "source": [
    "df_merged.boxplot(column=['alp'])"
   ]
  },
  {
   "cell_type": "code",
   "execution_count": 89,
   "id": "2bff266a-5909-450c-86fa-dd7f569f0121",
   "metadata": {},
   "outputs": [
    {
     "data": {
      "text/plain": [
       "<AxesSubplot:>"
      ]
     },
     "execution_count": 89,
     "metadata": {},
     "output_type": "execute_result"
    },
    {
     "data": {
      "image/png": "[encoded data removed]",
      "text/plain": [
       "<Figure size 432x288 with 1 Axes>"
      ]
     },
     "metadata": {
      "needs_background": "light"
     },
     "output_type": "display_data"
    }
   ],
   "source": [
    "df_merged.boxplot(column=['ast'])"
   ]
  },
  {
   "cell_type": "markdown",
   "id": "111b4162-b964-40a5-bdea-8c8b68bca40e",
   "metadata": {},
   "source": [
    " - odstránenie duplikátov cez funkciu:"
   ]
  },
  {
   "cell_type": "code",
   "execution_count": 90,
   "id": "0c1771a5-688a-4d05-a6d0-61b242665637",
   "metadata": {},
   "outputs": [],
   "source": [
    "release_outlier_funct2()"
   ]
  },
  {
   "cell_type": "markdown",
   "id": "cc19c7a7-1403-48c9-9eae-6638c91691b4",
   "metadata": {},
   "source": [
    " - overenie odstránenia duplikátov:"
   ]
  },
  {
   "cell_type": "code",
   "execution_count": 91,
   "id": "039744bc-b490-4a8f-9d6e-49635d2eb268",
   "metadata": {},
   "outputs": [
    {
     "data": {
      "text/plain": [
       "<AxesSubplot:>"
      ]
     },
     "execution_count": 91,
     "metadata": {},
     "output_type": "execute_result"
    },
    {
     "data": {
      "image/png": "[encoded data removed]",
      "text/plain": [
       "<Figure size 432x288 with 1 Axes>"
      ]
     },
     "metadata": {
      "needs_background": "light"
     },
     "output_type": "display_data"
    }
   ],
   "source": [
    "df_merged.boxplot(column=['leukocyty'])"
   ]
  },
  {
   "cell_type": "code",
   "execution_count": 92,
   "id": "0099bcdc-e63c-45ef-af1d-5225cb6701e3",
   "metadata": {},
   "outputs": [
    {
     "data": {
      "text/plain": [
       "<matplotlib.legend.Legend at 0x7fec786b1978>"
      ]
     },
     "execution_count": 92,
     "metadata": {},
     "output_type": "execute_result"
    },
    {
     "data": {
      "image/png": "[encoded data removed]",
      "text/plain": [
       "<Figure size 432x288 with 1 Axes>"
      ]
     },
     "metadata": {
      "needs_background": "light"
     },
     "output_type": "display_data"
    }
   ],
   "source": [
    "sns.histplot(df_merged.leukocyty, color='green', kde=True, label='nové')\n",
    "sns.histplot(df_backup.leukocyty, color='red', kde=True, label='pôvodné')\n",
    "plt.legend()"
   ]
  },
  {
   "cell_type": "code",
   "execution_count": 93,
   "id": "9aa28a4b-29d1-4d93-8d56-1f849473a05e",
   "metadata": {},
   "outputs": [
    {
     "data": {
      "text/plain": [
       "<AxesSubplot:>"
      ]
     },
     "execution_count": 93,
     "metadata": {},
     "output_type": "execute_result"
    },
    {
     "data": {
      "image/png": "[encoded data removed]",
      "text/plain": [
       "<Figure size 432x288 with 1 Axes>"
      ]
     },
     "metadata": {
      "needs_background": "light"
     },
     "output_type": "display_data"
    }
   ],
   "source": [
    "df_merged.boxplot(column=['hemoglobin'])"
   ]
  },
  {
   "cell_type": "code",
   "execution_count": 94,
   "id": "2db75427-c11c-4548-a788-a54ce48d1a34",
   "metadata": {},
   "outputs": [
    {
     "data": {
      "text/plain": [
       "<matplotlib.legend.Legend at 0x7fec788e52e8>"
      ]
     },
     "execution_count": 94,
     "metadata": {},
     "output_type": "execute_result"
    },
    {
     "data": {
      "image/png": "[encoded data removed]",
      "text/plain": [
       "<Figure size 432x288 with 1 Axes>"
      ]
     },
     "metadata": {
      "needs_background": "light"
     },
     "output_type": "display_data"
    }
   ],
   "source": [
    "sns.histplot(df_merged.hemoglobin, color='green', kde=True, label='nové')\n",
    "sns.histplot(df_backup.hemoglobin, color='red', kde=True, label='pôvodné')\n",
    "plt.legend()"
   ]
  },
  {
   "cell_type": "code",
   "execution_count": 95,
   "id": "0efc7ab3-ad4b-4f62-b75e-8c72bef89d1b",
   "metadata": {},
   "outputs": [
    {
     "data": {
      "text/plain": [
       "<AxesSubplot:>"
      ]
     },
     "execution_count": 95,
     "metadata": {},
     "output_type": "execute_result"
    },
    {
     "data": {
      "image/png": "[encoded data removed]",
      "text/plain": [
       "<Figure size 432x288 with 1 Axes>"
      ]
     },
     "metadata": {
      "needs_background": "light"
     },
     "output_type": "display_data"
    }
   ],
   "source": [
    "df_merged.boxplot(column=['erytrocyty'])"
   ]
  },
  {
   "cell_type": "code",
   "execution_count": 96,
   "id": "7a6fd879-c3ba-4687-851e-767a60a779d6",
   "metadata": {},
   "outputs": [
    {
     "data": {
      "text/plain": [
       "<matplotlib.legend.Legend at 0x7fec77a3fef0>"
      ]
     },
     "execution_count": 96,
     "metadata": {},
     "output_type": "execute_result"
    },
    {
     "data": {
      "image/png": "[encoded data removed]",
      "text/plain": [
       "<Figure size 432x288 with 1 Axes>"
      ]
     },
     "metadata": {
      "needs_background": "light"
     },
     "output_type": "display_data"
    }
   ],
   "source": [
    "sns.histplot(df_merged.erytrocyty, color='green', kde=True, label='nové')\n",
    "sns.histplot(df_backup.erytrocyty, color='red', kde=True, label='pôvodné')\n",
    "plt.legend()"
   ]
  },
  {
   "cell_type": "code",
   "execution_count": 97,
   "id": "693a900a-9ef1-45c3-821e-f1510bcf766b",
   "metadata": {},
   "outputs": [
    {
     "data": {
      "text/plain": [
       "<AxesSubplot:>"
      ]
     },
     "execution_count": 97,
     "metadata": {},
     "output_type": "execute_result"
    },
    {
     "data": {
      "image/png": "[encoded data removed]",
      "text/plain": [
       "<Figure size 432x288 with 1 Axes>"
      ]
     },
     "metadata": {
      "needs_background": "light"
     },
     "output_type": "display_data"
    }
   ],
   "source": [
    "df_merged.boxplot(column=['alt'])"
   ]
  },
  {
   "cell_type": "code",
   "execution_count": 98,
   "id": "26c595f0-394d-4c5b-a2d5-81c3702e093c",
   "metadata": {},
   "outputs": [
    {
     "data": {
      "text/plain": [
       "<matplotlib.legend.Legend at 0x7fec78e10978>"
      ]
     },
     "execution_count": 98,
     "metadata": {},
     "output_type": "execute_result"
    },
    {
     "data": {
      "image/png": "[encoded data removed]",
      "text/plain": [
       "<Figure size 432x288 with 1 Axes>"
      ]
     },
     "metadata": {
      "needs_background": "light"
     },
     "output_type": "display_data"
    }
   ],
   "source": [
    "sns.histplot(df_merged.alt, color='green', kde=True, label='nové')\n",
    "sns.histplot(df_backup.alt, color='red', kde=True, label='pôvodné')\n",
    "plt.legend()"
   ]
  },
  {
   "cell_type": "code",
   "execution_count": 99,
   "id": "20d9de0e-f2c8-4560-ac08-4326bf0b8528",
   "metadata": {},
   "outputs": [
    {
     "data": {
      "text/plain": [
       "<AxesSubplot:>"
      ]
     },
     "execution_count": 99,
     "metadata": {},
     "output_type": "execute_result"
    },
    {
     "data": {
      "image/png": "[encoded data removed]",
      "text/plain": [
       "<Figure size 432x288 with 1 Axes>"
      ]
     },
     "metadata": {
      "needs_background": "light"
     },
     "output_type": "display_data"
    }
   ],
   "source": [
    "df_merged.boxplot(column=['alp'])"
   ]
  },
  {
   "cell_type": "code",
   "execution_count": 100,
   "id": "3f7e503b-77bf-4c8a-95f2-d2dc89d096bf",
   "metadata": {},
   "outputs": [
    {
     "data": {
      "text/plain": [
       "<matplotlib.legend.Legend at 0x7fec7a0924a8>"
      ]
     },
     "execution_count": 100,
     "metadata": {},
     "output_type": "execute_result"
    },
    {
     "data": {
      "image/png": "[encoded data removed]",
      "text/plain": [
       "<Figure size 432x288 with 1 Axes>"
      ]
     },
     "metadata": {
      "needs_background": "light"
     },
     "output_type": "display_data"
    }
   ],
   "source": [
    "sns.histplot(df_merged.alp, color='green', kde=True, label='nové')\n",
    "sns.histplot(df_backup.alp, color='red', kde=True, label='pôvodné')\n",
    "plt.legend()"
   ]
  },
  {
   "cell_type": "code",
   "execution_count": 101,
   "id": "19323432-adc8-4a19-8089-89092726f9b3",
   "metadata": {},
   "outputs": [
    {
     "data": {
      "text/plain": [
       "<AxesSubplot:>"
      ]
     },
     "execution_count": 101,
     "metadata": {},
     "output_type": "execute_result"
    },
    {
     "data": {
      "image/png": "[encoded data removed]",
      "text/plain": [
       "<Figure size 432x288 with 1 Axes>"
      ]
     },
     "metadata": {
      "needs_background": "light"
     },
     "output_type": "display_data"
    }
   ],
   "source": [
    "df_merged.boxplot(column=['ast'])"
   ]
  },
  {
   "cell_type": "code",
   "execution_count": 102,
   "id": "7a0e4407-566f-4a65-ba16-67c92b55e6e9",
   "metadata": {},
   "outputs": [
    {
     "data": {
      "text/plain": [
       "<matplotlib.legend.Legend at 0x7fec7a37bd68>"
      ]
     },
     "execution_count": 102,
     "metadata": {},
     "output_type": "execute_result"
    },
    {
     "data": {
      "image/png": "[encoded data removed]",
      "text/plain": [
       "<Figure size 432x288 with 1 Axes>"
      ]
     },
     "metadata": {
      "needs_background": "light"
     },
     "output_type": "display_data"
    }
   ],
   "source": [
    "sns.histplot(df_merged.ast, color='green', kde=True, label='nové')\n",
    "sns.histplot(df_backup.ast, color='red', kde=True, label='pôvodné')\n",
    "plt.legend()"
   ]
  },
  {
   "cell_type": "markdown",
   "id": "20b6e3de-a402-4d41-a4e6-96dbfc166ca9",
   "metadata": {},
   "source": [
    "## 2. Realizácia predspracovania dát \n",
    "\n",
    "### Zadanie  \n",
    "- Transformované dáta pre strojové učenie si rozdeľuje na trénovaciu a testovaciu množinu (train and test dataset) podľa vami preddefinovaným pomerom. Naďalej pracujte len s trénovacím datasetom.\n",
    "- Transformujte atribútov dát pre strojové učenie podľa dostupných techník (minimálne 2 techniky) ako scaling, transformers a ďalšie.\n",
    "- Zdôvodnite Vašu voľby/rozhodnutie pre realizáciu (t.j. zdokumentovanie)\n",
    "    \n",
    "### Riešenie\n",
    "\n",
    " - okrem rozdelenia datasetu riešime i transformáciu atribútov metódami scaling, standardisating a power transformation"
   ]
  },
  {
   "cell_type": "code",
   "execution_count": 103,
   "id": "7836fbbf-fc8a-4fcc-8018-ff03b870382f",
   "metadata": {},
   "outputs": [],
   "source": [
    "train_data, test_data = train_test_split(df_merged, test_size=0.2, random_state=25)"
   ]
  },
  {
   "cell_type": "code",
   "execution_count": 104,
   "id": "7a7f71f0-10f7-42a7-b2c3-9606b60868af",
   "metadata": {},
   "outputs": [
    {
     "data": {
      "text/plain": [
       "<AxesSubplot:>"
      ]
     },
     "execution_count": 104,
     "metadata": {},
     "output_type": "execute_result"
    },
    {
     "data": {
      "image/png": "[encoded data removed]",
      "text/plain": [
       "<Figure size 1800x360 with 1 Axes>"
      ]
     },
     "metadata": {
      "needs_background": "light"
     },
     "output_type": "display_data"
    }
   ],
   "source": [
    "fig_d = plt.subplots(figsize = (25, 5))\n",
    "sns.boxplot(data = train_data)"
   ]
  },
  {
   "cell_type": "code",
   "execution_count": 105,
   "id": "04b76b7a-ee7d-41d7-8c72-a5f194f878ec",
   "metadata": {},
   "outputs": [],
   "source": [
    "transform_columns=train_data.columns\n",
    "transform_columns=list(transform_columns)"
   ]
  },
  {
   "cell_type": "code",
   "execution_count": 106,
   "id": "754d208c-48e1-42df-9091-7dc295114b2b",
   "metadata": {},
   "outputs": [
    {
     "data": {
      "text/html": [
       "<div>\n",
       "<style scoped>\n",
       "    .dataframe tbody tr th:only-of-type {\n",
       "        vertical-align: middle;\n",
       "    }\n",
       "\n",
       "    .dataframe tbody tr th {\n",
       "        vertical-align: top;\n",
       "    }\n",
       "\n",
       "    .dataframe thead th {\n",
       "        text-align: right;\n",
       "    }\n",
       "</style>\n",
       "<table border=\"1\" class=\"dataframe\">\n",
       "  <thead>\n",
       "    <tr style=\"text-align: right;\">\n",
       "      <th></th>\n",
       "      <th>hemoglobin</th>\n",
       "      <th>leukocyty</th>\n",
       "      <th>etytr</th>\n",
       "      <th>weight</th>\n",
       "      <th>trombocyty</th>\n",
       "      <th>ast</th>\n",
       "      <th>alp</th>\n",
       "      <th>relationship</th>\n",
       "      <th>alt</th>\n",
       "      <th>hbver</th>\n",
       "      <th>smoker</th>\n",
       "      <th>erytrocyty</th>\n",
       "      <th>er-cv</th>\n",
       "      <th>indicator</th>\n",
       "      <th>hematokrit</th>\n",
       "      <th>sex</th>\n",
       "      <th>blood_group</th>\n",
       "      <th>age</th>\n",
       "      <th>race</th>\n",
       "    </tr>\n",
       "  </thead>\n",
       "  <tbody>\n",
       "    <tr>\n",
       "      <th>8374</th>\n",
       "      <td>0.112920</td>\n",
       "      <td>0.820725</td>\n",
       "      <td>0.486868</td>\n",
       "      <td>0.178055</td>\n",
       "      <td>0.418990</td>\n",
       "      <td>0.599655</td>\n",
       "      <td>0.526728</td>\n",
       "      <td>1.0</td>\n",
       "      <td>0.290704</td>\n",
       "      <td>0.314221</td>\n",
       "      <td>0.0</td>\n",
       "      <td>0.145065</td>\n",
       "      <td>0.291928</td>\n",
       "      <td>1.0</td>\n",
       "      <td>0.608427</td>\n",
       "      <td>1.0</td>\n",
       "      <td>0.428571</td>\n",
       "      <td>0.387931</td>\n",
       "      <td>0.5</td>\n",
       "    </tr>\n",
       "    <tr>\n",
       "      <th>2043</th>\n",
       "      <td>0.227078</td>\n",
       "      <td>0.757699</td>\n",
       "      <td>0.662377</td>\n",
       "      <td>0.277933</td>\n",
       "      <td>0.436618</td>\n",
       "      <td>0.387049</td>\n",
       "      <td>0.640901</td>\n",
       "      <td>0.8</td>\n",
       "      <td>0.197083</td>\n",
       "      <td>0.256391</td>\n",
       "      <td>0.0</td>\n",
       "      <td>0.000000</td>\n",
       "      <td>0.545517</td>\n",
       "      <td>1.0</td>\n",
       "      <td>0.404641</td>\n",
       "      <td>1.0</td>\n",
       "      <td>0.142857</td>\n",
       "      <td>0.784483</td>\n",
       "      <td>0.0</td>\n",
       "    </tr>\n",
       "    <tr>\n",
       "      <th>7089</th>\n",
       "      <td>0.648777</td>\n",
       "      <td>0.746939</td>\n",
       "      <td>0.649853</td>\n",
       "      <td>0.565962</td>\n",
       "      <td>0.523542</td>\n",
       "      <td>0.000254</td>\n",
       "      <td>0.827676</td>\n",
       "      <td>0.6</td>\n",
       "      <td>0.516850</td>\n",
       "      <td>0.506289</td>\n",
       "      <td>0.0</td>\n",
       "      <td>0.713041</td>\n",
       "      <td>0.615698</td>\n",
       "      <td>1.0</td>\n",
       "      <td>0.428544</td>\n",
       "      <td>0.0</td>\n",
       "      <td>0.714286</td>\n",
       "      <td>0.017241</td>\n",
       "      <td>0.5</td>\n",
       "    </tr>\n",
       "    <tr>\n",
       "      <th>8494</th>\n",
       "      <td>0.667881</td>\n",
       "      <td>0.102287</td>\n",
       "      <td>0.498537</td>\n",
       "      <td>0.462022</td>\n",
       "      <td>0.408790</td>\n",
       "      <td>0.845236</td>\n",
       "      <td>0.812661</td>\n",
       "      <td>0.2</td>\n",
       "      <td>0.233463</td>\n",
       "      <td>0.484493</td>\n",
       "      <td>0.0</td>\n",
       "      <td>0.303469</td>\n",
       "      <td>0.384081</td>\n",
       "      <td>0.0</td>\n",
       "      <td>0.440544</td>\n",
       "      <td>1.0</td>\n",
       "      <td>0.142857</td>\n",
       "      <td>0.482759</td>\n",
       "      <td>0.0</td>\n",
       "    </tr>\n",
       "    <tr>\n",
       "      <th>8159</th>\n",
       "      <td>0.990103</td>\n",
       "      <td>0.229628</td>\n",
       "      <td>0.633892</td>\n",
       "      <td>0.332423</td>\n",
       "      <td>0.206411</td>\n",
       "      <td>0.640578</td>\n",
       "      <td>0.145490</td>\n",
       "      <td>0.0</td>\n",
       "      <td>0.189410</td>\n",
       "      <td>0.408309</td>\n",
       "      <td>0.0</td>\n",
       "      <td>0.000000</td>\n",
       "      <td>0.273265</td>\n",
       "      <td>0.0</td>\n",
       "      <td>0.483959</td>\n",
       "      <td>0.0</td>\n",
       "      <td>0.714286</td>\n",
       "      <td>0.491379</td>\n",
       "      <td>0.0</td>\n",
       "    </tr>\n",
       "  </tbody>\n",
       "</table>\n",
       "</div>"
      ],
      "text/plain": [
       "      hemoglobin  leukocyty     etytr    weight  trombocyty       ast  \\\n",
       "8374    0.112920   0.820725  0.486868  0.178055    0.418990  0.599655   \n",
       "2043    0.227078   0.757699  0.662377  0.277933    0.436618  0.387049   \n",
       "7089    0.648777   0.746939  0.649853  0.565962    0.523542  0.000254   \n",
       "8494    0.667881   0.102287  0.498537  0.462022    0.408790  0.845236   \n",
       "8159    0.990103   0.229628  0.633892  0.332423    0.206411  0.640578   \n",
       "\n",
       "           alp  relationship       alt     hbver  smoker  erytrocyty  \\\n",
       "8374  0.526728           1.0  0.290704  0.314221     0.0    0.145065   \n",
       "2043  0.640901           0.8  0.197083  0.256391     0.0    0.000000   \n",
       "7089  0.827676           0.6  0.516850  0.506289     0.0    0.713041   \n",
       "8494  0.812661           0.2  0.233463  0.484493     0.0    0.303469   \n",
       "8159  0.145490           0.0  0.189410  0.408309     0.0    0.000000   \n",
       "\n",
       "         er-cv  indicator  hematokrit  sex  blood_group       age  race  \n",
       "8374  0.291928        1.0    0.608427  1.0     0.428571  0.387931   0.5  \n",
       "2043  0.545517        1.0    0.404641  1.0     0.142857  0.784483   0.0  \n",
       "7089  0.615698        1.0    0.428544  0.0     0.714286  0.017241   0.5  \n",
       "8494  0.384081        0.0    0.440544  1.0     0.142857  0.482759   0.0  \n",
       "8159  0.273265        0.0    0.483959  0.0     0.714286  0.491379   0.0  "
      ]
     },
     "execution_count": 106,
     "metadata": {},
     "output_type": "execute_result"
    }
   ],
   "source": [
    "scaler = preprocessing.MinMaxScaler(feature_range =(0, 1))\n",
    "train_data[transform_columns]=scaler.fit_transform(train_data[transform_columns])\n",
    "train_data.head()"
   ]
  },
  {
   "cell_type": "code",
   "execution_count": 107,
   "id": "7a3b8312-9cd5-4790-abaf-d7610f03ba44",
   "metadata": {},
   "outputs": [],
   "source": [
    "for col in transform_columns:\n",
    "    train_data[col]=power_transform(train_data[col].values.reshape(-1,1))"
   ]
  },
  {
   "cell_type": "code",
   "execution_count": 108,
   "id": "83044e0d-3688-4428-883b-53a1f9a31410",
   "metadata": {},
   "outputs": [
    {
     "data": {
      "text/html": [
       "<div>\n",
       "<style scoped>\n",
       "    .dataframe tbody tr th:only-of-type {\n",
       "        vertical-align: middle;\n",
       "    }\n",
       "\n",
       "    .dataframe tbody tr th {\n",
       "        vertical-align: top;\n",
       "    }\n",
       "\n",
       "    .dataframe thead th {\n",
       "        text-align: right;\n",
       "    }\n",
       "</style>\n",
       "<table border=\"1\" class=\"dataframe\">\n",
       "  <thead>\n",
       "    <tr style=\"text-align: right;\">\n",
       "      <th></th>\n",
       "      <th>hemoglobin</th>\n",
       "      <th>leukocyty</th>\n",
       "      <th>etytr</th>\n",
       "      <th>weight</th>\n",
       "      <th>trombocyty</th>\n",
       "      <th>ast</th>\n",
       "      <th>alp</th>\n",
       "      <th>relationship</th>\n",
       "      <th>alt</th>\n",
       "      <th>hbver</th>\n",
       "      <th>smoker</th>\n",
       "      <th>erytrocyty</th>\n",
       "      <th>er-cv</th>\n",
       "      <th>indicator</th>\n",
       "      <th>hematokrit</th>\n",
       "      <th>sex</th>\n",
       "      <th>blood_group</th>\n",
       "      <th>age</th>\n",
       "      <th>race</th>\n",
       "    </tr>\n",
       "  </thead>\n",
       "  <tbody>\n",
       "    <tr>\n",
       "      <th>8374</th>\n",
       "      <td>-1.427145</td>\n",
       "      <td>1.093820</td>\n",
       "      <td>0.054898</td>\n",
       "      <td>-1.165872</td>\n",
       "      <td>-0.354496</td>\n",
       "      <td>0.362686</td>\n",
       "      <td>-0.830149</td>\n",
       "      <td>1.630613</td>\n",
       "      <td>-0.124267</td>\n",
       "      <td>-1.038667</td>\n",
       "      <td>-0.822889</td>\n",
       "      <td>-1.157906</td>\n",
       "      <td>-1.560862</td>\n",
       "      <td>0.739531</td>\n",
       "      <td>1.113149</td>\n",
       "      <td>1.014192</td>\n",
       "      <td>-0.194315</td>\n",
       "      <td>-0.321527</td>\n",
       "      <td>1.287392</td>\n",
       "    </tr>\n",
       "    <tr>\n",
       "      <th>2043</th>\n",
       "      <td>-1.003481</td>\n",
       "      <td>0.890097</td>\n",
       "      <td>1.165757</td>\n",
       "      <td>-0.529046</td>\n",
       "      <td>-0.222815</td>\n",
       "      <td>-0.406151</td>\n",
       "      <td>-0.432405</td>\n",
       "      <td>1.269770</td>\n",
       "      <td>-0.589928</td>\n",
       "      <td>-1.548069</td>\n",
       "      <td>-0.822889</td>\n",
       "      <td>-1.764367</td>\n",
       "      <td>0.281060</td>\n",
       "      <td>0.739531</td>\n",
       "      <td>-0.499116</td>\n",
       "      <td>1.014192</td>\n",
       "      <td>-1.096126</td>\n",
       "      <td>1.018594</td>\n",
       "      <td>-0.912614</td>\n",
       "    </tr>\n",
       "    <tr>\n",
       "      <th>7089</th>\n",
       "      <td>0.530307</td>\n",
       "      <td>0.855138</td>\n",
       "      <td>1.091189</td>\n",
       "      <td>1.110733</td>\n",
       "      <td>0.427370</td>\n",
       "      <td>-1.837766</td>\n",
       "      <td>0.418081</td>\n",
       "      <td>0.831412</td>\n",
       "      <td>0.733709</td>\n",
       "      <td>0.384094</td>\n",
       "      <td>-0.822889</td>\n",
       "      <td>0.840349</td>\n",
       "      <td>0.791174</td>\n",
       "      <td>0.739531</td>\n",
       "      <td>-0.309516</td>\n",
       "      <td>-0.986006</td>\n",
       "      <td>0.660988</td>\n",
       "      <td>-1.707551</td>\n",
       "      <td>1.287392</td>\n",
       "    </tr>\n",
       "    <tr>\n",
       "      <th>8494</th>\n",
       "      <td>0.598786</td>\n",
       "      <td>-1.353423</td>\n",
       "      <td>0.133482</td>\n",
       "      <td>0.548670</td>\n",
       "      <td>-0.430669</td>\n",
       "      <td>1.237942</td>\n",
       "      <td>0.339507</td>\n",
       "      <td>-0.415708</td>\n",
       "      <td>-0.399344</td>\n",
       "      <td>0.240340</td>\n",
       "      <td>-0.822889</td>\n",
       "      <td>-0.548032</td>\n",
       "      <td>-0.891772</td>\n",
       "      <td>-1.352209</td>\n",
       "      <td>-0.214381</td>\n",
       "      <td>1.014192</td>\n",
       "      <td>-1.096126</td>\n",
       "      <td>0.010368</td>\n",
       "      <td>-0.912614</td>\n",
       "    </tr>\n",
       "    <tr>\n",
       "      <th>8159</th>\n",
       "      <td>1.742772</td>\n",
       "      <td>-0.896457</td>\n",
       "      <td>0.995183</td>\n",
       "      <td>-0.197971</td>\n",
       "      <td>-1.937621</td>\n",
       "      <td>0.509435</td>\n",
       "      <td>-1.650998</td>\n",
       "      <td>-1.356144</td>\n",
       "      <td>-0.631829</td>\n",
       "      <td>-0.295432</td>\n",
       "      <td>-0.822889</td>\n",
       "      <td>-1.764367</td>\n",
       "      <td>-1.696326</td>\n",
       "      <td>-1.352209</td>\n",
       "      <td>0.129521</td>\n",
       "      <td>-0.986006</td>\n",
       "      <td>0.660988</td>\n",
       "      <td>0.040153</td>\n",
       "      <td>-0.912614</td>\n",
       "    </tr>\n",
       "  </tbody>\n",
       "</table>\n",
       "</div>"
      ],
      "text/plain": [
       "      hemoglobin  leukocyty     etytr    weight  trombocyty       ast  \\\n",
       "8374   -1.427145   1.093820  0.054898 -1.165872   -0.354496  0.362686   \n",
       "2043   -1.003481   0.890097  1.165757 -0.529046   -0.222815 -0.406151   \n",
       "7089    0.530307   0.855138  1.091189  1.110733    0.427370 -1.837766   \n",
       "8494    0.598786  -1.353423  0.133482  0.548670   -0.430669  1.237942   \n",
       "8159    1.742772  -0.896457  0.995183 -0.197971   -1.937621  0.509435   \n",
       "\n",
       "           alp  relationship       alt     hbver    smoker  erytrocyty  \\\n",
       "8374 -0.830149      1.630613 -0.124267 -1.038667 -0.822889   -1.157906   \n",
       "2043 -0.432405      1.269770 -0.589928 -1.548069 -0.822889   -1.764367   \n",
       "7089  0.418081      0.831412  0.733709  0.384094 -0.822889    0.840349   \n",
       "8494  0.339507     -0.415708 -0.399344  0.240340 -0.822889   -0.548032   \n",
       "8159 -1.650998     -1.356144 -0.631829 -0.295432 -0.822889   -1.764367   \n",
       "\n",
       "         er-cv  indicator  hematokrit       sex  blood_group       age  \\\n",
       "8374 -1.560862   0.739531    1.113149  1.014192    -0.194315 -0.321527   \n",
       "2043  0.281060   0.739531   -0.499116  1.014192    -1.096126  1.018594   \n",
       "7089  0.791174   0.739531   -0.309516 -0.986006     0.660988 -1.707551   \n",
       "8494 -0.891772  -1.352209   -0.214381  1.014192    -1.096126  0.010368   \n",
       "8159 -1.696326  -1.352209    0.129521 -0.986006     0.660988  0.040153   \n",
       "\n",
       "          race  \n",
       "8374  1.287392  \n",
       "2043 -0.912614  \n",
       "7089  1.287392  \n",
       "8494 -0.912614  \n",
       "8159 -0.912614  "
      ]
     },
     "execution_count": 108,
     "metadata": {},
     "output_type": "execute_result"
    }
   ],
   "source": [
    "train_data.head()"
   ]
  },
  {
   "cell_type": "code",
   "execution_count": 109,
   "id": "1abd9e84-7e9f-491c-b0b0-93f0a645792a",
   "metadata": {},
   "outputs": [
    {
     "data": {
      "text/plain": [
       "<AxesSubplot:>"
      ]
     },
     "execution_count": 109,
     "metadata": {},
     "output_type": "execute_result"
    },
    {
     "data": {
      "image/png": "[encoded data removed]",
      "text/plain": [
       "<Figure size 1800x360 with 1 Axes>"
      ]
     },
     "metadata": {
      "needs_background": "light"
     },
     "output_type": "display_data"
    }
   ],
   "source": [
    "fig_c = plt.subplots(figsize = (25, 5))\n",
    "sns.boxplot(data = train_data)"
   ]
  },
  {
   "cell_type": "code",
   "execution_count": 110,
   "id": "3ab95c37-712e-4dae-88e1-06f0f78d2f90",
   "metadata": {},
   "outputs": [
    {
     "data": {
      "text/plain": [
       "<matplotlib.legend.Legend at 0x7fec7b557550>"
      ]
     },
     "execution_count": 110,
     "metadata": {},
     "output_type": "execute_result"
    },
    {
     "data": {
      "image/png": "[encoded data removed]",
      "text/plain": [
       "<Figure size 432x288 with 1 Axes>"
      ]
     },
     "metadata": {
      "needs_background": "light"
     },
     "output_type": "display_data"
    }
   ],
   "source": [
    "sns.histplot(df_merged.hemoglobin, color='green', kde=True, label='nové')\n",
    "sns.histplot(df_backup.hemoglobin, color='red', kde=True, label='pôvodné')\n",
    "plt.legend()"
   ]
  },
  {
   "cell_type": "markdown",
   "id": "6380af47-91eb-4906-b52c-f2dd3e9760e6",
   "metadata": {},
   "source": [
    "## 3. Výber atribútov pre strojové učenie\n",
    "\n",
    "### Zadanie  \n",
    "- Zistite ktoré atribúty (features) vo vašich dátach pre strojové učenie sú informatívne k atribútu “indikator”.\n",
    "- Zoradíte tie atribúty v poradí podľa dôležitosti. \n",
    "- Zdôvodnite Vašu voľby/rozhodnutie pre realizáciu (t.j. zdokumentovanie) \n",
    "\n",
    "### Riešenie\n",
    "\n",
    "\n"
   ]
  },
  {
   "cell_type": "markdown",
   "id": "d7217103-d9e9-43a6-995b-ceb54cc81750",
   "metadata": {},
   "source": [
    "Aby sme zistili atribúty, ktoré ovplyvňujú stĺpec “indicator” musíme zistiť korelácie medzi jednotlivými stĺpcami. Túto analýzu sme robili vo fáze číslo 1 avšak pre prehľadnosť a jasnosť kód zreplikujeme aj do tejto fázy. Pre zistenie korelácii používame heatmapu, ktorá vypíše všetky závislosti medzi všetkými stĺpcami vrámci tabuľky laboratórnych výsledkov. Heatmapa taktiež ukáže silu závislostí medzi atribútmi. "
   ]
  },
  {
   "cell_type": "code",
   "execution_count": 111,
   "id": "16ba84e8-20af-478d-a2ca-cd2e95f23b47",
   "metadata": {},
   "outputs": [
    {
     "data": {
      "text/plain": [
       "<AxesSubplot:>"
      ]
     },
     "execution_count": 111,
     "metadata": {},
     "output_type": "execute_result"
    },
    {
     "data": {
      "image/png": "[encoded data removed]",
      "text/plain": [
       "<Figure size 720x576 with 2 Axes>"
      ]
     },
     "metadata": {
      "needs_background": "light"
     },
     "output_type": "display_data"
    }
   ],
   "source": [
    "fig, ax = plt.subplots(figsize=(10,8))\n",
    "sns.heatmap(df_merged.corr(), ax=ax, annot=True, fmt=\".3f\")"
   ]
  },
  {
   "cell_type": "markdown",
   "id": "63f7458f-1f25-4422-95d3-3e38f4296d01",
   "metadata": {},
   "source": [
    "Z pozorovania heatmapi môžeme usúdiť že najvplyvnejšími atribútmi ktoré vplývajú na indicator sú atribúty leukocyty a etytr. Tieto dva atribúty priamo vplývajú na stĺpec indicator. Leukocyty korelujú iba s atribútom etytr a inak výrazne nekorelujú už so žiadymi iným atribútom. Atribút etytr výrazne koreluje s atribútmi alt, hbver a erytrocyty.\n",
    "\n",
    "List najvplyvnejších atribútov:\n",
    "    - leukocyty\n",
    "    - etytr\n",
    "    - alt\n",
    "    - hbver\n",
    "    - erytrocyty\n",
    "    \n",
    "Tieto atribúty sú dôležité nakoľko všetky svojim spôsobbom ovyplyvňujú stĺpec \"indicator\" či už priamo alebo nepriamo. Leukocyty podľa našeho prieskumu sú najplyvnejším atribútom nakoľko sú hlavným markerom leukémie u pacienta čo nám potvrdzuje aj heatmapa. "
   ]
  },
  {
   "cell_type": "markdown",
   "id": "b8346d3d-3133-437f-9c84-e1dd41c2bc58",
   "metadata": {},
   "source": [
    "## 4. Replikovateľnosť predspracovania\n",
    "\n",
    "### Zadanie  \n",
    "- Upravte váš kód realizujúci predspracovanie trénovacej množiny tak, aby ho bolo možné bez ďalších úprav znovu použiť na predspracovanie testovacej množiny (napr. pomocou funkcie/í)\n",
    "- Očakáva sa aj využitie možnosti sklearn.pipeline\n",
    "\n",
    "### Riešenie  \n",
    "\n",
    " - Pre replikovateľnosť kódu znovu načítame dataset, aby sme mohli realizovať jednoltivé časti zadania vo funkciách:  "
   ]
  },
  {
   "cell_type": "code",
   "execution_count": 112,
   "id": "34fcc57b-eda8-42ad-b3c5-f52445022d57",
   "metadata": {},
   "outputs": [],
   "source": [
    "# read labor and profiles dataset\n",
    "df_labor_ = pd.read_csv('../../data/labor.csv', sep='\\t')\n",
    "df_profiles_ = pd.read_csv('../../data/profiles.csv', sep='\\t')"
   ]
  },
  {
   "cell_type": "markdown",
   "id": "c574f78e-ed0e-454f-9b1d-5c660d879a3d",
   "metadata": {},
   "source": [
    " - spojenie datasetov cez funkciu: "
   ]
  },
  {
   "cell_type": "code",
   "execution_count": 113,
   "id": "1bd6034e-1128-44a1-bdc0-9f55707d4a6d",
   "metadata": {},
   "outputs": [],
   "source": [
    "# https://stackoverflow.com/questions/48320396/create-a-custom-sklearn-transformermixin-that-transforms-categorical-variables-c\n",
    "class MergeTransformer(TransformerMixin):\n",
    "    \"\"\"\n",
    "    A tranformer for merging 2 datasets.\n",
    "    \"\"\"\n",
    "    cols = list()\n",
    "    \n",
    "    def __init__(self, *args, **kwargs):\n",
    "        \"\"\"\n",
    "        Initialize method.\n",
    "\n",
    "        :param *args: 2 datasets are instance of pandas.core.frame.DataFrame\n",
    "        :param **kwargs: dictionary of names of columns\n",
    "        \"\"\"\n",
    "        self.data1 = args[0]\n",
    "        self.data2 = args[1]\n",
    "        for col in kwargs.values():\n",
    "            self.cols.append(col)\n",
    "        \n",
    "    def fit(self, X, y=None):\n",
    "        \"\"\"\n",
    "        Fits transformer over data.\n",
    "\n",
    "        :param X: The dataset to pass to the transformer.\n",
    "        :returns: The transformer.\n",
    "        \"\"\"\n",
    "        return self\n",
    "    \n",
    "    def transform(self, X, **transform_params):\n",
    "        \"\"\"\n",
    "        Function to merge 2 datasets in *args with columns in **kwargs.\n",
    "\n",
    "        :param X: 2 datasets are instance of pandas.core.frame.DataFrame\n",
    "        :returns: pandas.core.frame.DataFrame\n",
    "        \"\"\"\n",
    "        X = self.data1.merge(self.data2, on=self.cols, how = 'inner')\n",
    "        return X"
   ]
  },
  {
   "cell_type": "markdown",
   "id": "91d6eadd-1f18-4f8c-afb6-1f2052e2a3c1",
   "metadata": {},
   "source": [
    " - odstránenie zadaných stĺpcov cez funkciu"
   ]
  },
  {
   "cell_type": "code",
   "execution_count": 114,
   "id": "4ba8a948-8977-43e3-82e4-a1e49e8bb9cd",
   "metadata": {},
   "outputs": [],
   "source": [
    "class DropColsTransformer(TransformerMixin):\n",
    "    \"\"\"\n",
    "    A tranformer for droping columns from the dataset.\n",
    "    \"\"\"\n",
    "    \n",
    "    def __init__(self, data, *args):\n",
    "        \"\"\"\n",
    "        Initialize method.\n",
    "\n",
    "        :param data: The dataset is instance of pandas.core.frame.DataFrame\n",
    "        :param *args: tuple of *str, specifing cols to be dropped\n",
    "        \"\"\"\n",
    "        self.data = data\n",
    "        self.cols = list(args)\n",
    "        \n",
    "    def fit(self, X, y=None):\n",
    "        \"\"\"\n",
    "        Fits transformer over data.\n",
    "\n",
    "        :param X: The dataset to pass to the transformer.\n",
    "        :returns: The transformer.\n",
    "        \"\"\"\n",
    "        return self\n",
    "    \n",
    "    def transform(self, X, **transform_params):\n",
    "        \"\"\"\n",
    "        Function to delete columns specified in *args to be deleted from data.\n",
    "\n",
    "        :param X: pandas.core.frame.DataFrame\n",
    "        :returns: pandas.core.frame.DataFrame without columns specified in *args\n",
    "        :raises keyError: raises an exception in case column was not found\n",
    "        \"\"\"\n",
    "        try:\n",
    "            X = X.drop(self.cols, axis=1)\n",
    "            return X\n",
    "        except KeyError:\n",
    "            print(f'Something from {self.cols} not found in dataset!') \n",
    "            return X"
   ]
  },
  {
   "cell_type": "markdown",
   "id": "8e1ed531-57b0-48fa-ade0-6e3fd6219863",
   "metadata": {},
   "source": [
    " - numerical transformer"
   ]
  },
  {
   "cell_type": "code",
   "execution_count": 115,
   "id": "f91f201a-ca47-4bbe-9ef2-2de599c0d909",
   "metadata": {},
   "outputs": [],
   "source": [
    "class GetNumericalTransformer(TransformerMixin):\n",
    "    \"\"\"\n",
    "    A tranformer for getting numerical values from the dataset.\n",
    "    \"\"\"\n",
    "    \n",
    "    def __init__(self, data, col, what, category=None, *args):\n",
    "        \"\"\"\n",
    "        Initialize method.\n",
    "\n",
    "        :param data: The dataset is instance of pandas.core.frame.DataFrame\n",
    "        :param col: col to be transformed\n",
    "        :param what: dictionary, transform based on this\n",
    "        :param category: change type based on this\n",
    "        :param *args: optional\n",
    "        \"\"\"\n",
    "        self.data = data\n",
    "        self.col = col\n",
    "        self.what = what\n",
    "        self.category = category\n",
    "        \n",
    "    def fit(self, X, y=None):\n",
    "        \"\"\"\n",
    "        Fits transformer over data.\n",
    "\n",
    "        :param X: The dataset to pass to the transformer.\n",
    "        :returns: The transformer.\n",
    "        \"\"\"\n",
    "        return self\n",
    "    \n",
    "    def transform_age(self, born):\n",
    "        \"\"\"\n",
    "        Computes current age.\n",
    "\n",
    "        :param born: Date of birth \n",
    "        returns: Current age\n",
    "        \"\"\"\n",
    "        today = date.today()\n",
    "        return today.year - born.year - ((today.month, today.day) < (born.month, born.day))\n",
    "    \n",
    "    def transform(self, X, **transform_params):\n",
    "        \"\"\"\n",
    "        Function to transform column to a numeric and change a type.\n",
    "\n",
    "        :param X: pandas.core.frame.DataFrame\n",
    "        :returns: transformed pandas.core.frame.DataFrame\n",
    "        :raises keyError: raises an exception in case column was not found\n",
    "        \"\"\"\n",
    "        try:\n",
    "            if self.col != 'birthdate':\n",
    "                X[self.col].replace(self.what, inplace=True)\n",
    "                if self.category is not None:\n",
    "                    X = X.astype({self.col: self.category})\n",
    "            else:\n",
    "                X = X.astype({self.col: self.category})             # get birthdate in same format \n",
    "                X[self.col] = X[self.col].apply(self.transform_age) # get age instead of birthdate\n",
    "                X = X.rename(columns = {self.col: 'age'})           # rename col birthdate as age\n",
    "            return X\n",
    "        except KeyError:\n",
    "            print(f'Something from {self.what} not found in dataset!')  "
   ]
  },
  {
   "cell_type": "code",
   "execution_count": 116,
   "id": "4de6b011-2c84-4733-bb39-ed429987f5a8",
   "metadata": {},
   "outputs": [],
   "source": [
    "class PowerTransform(TransformerMixin):\n",
    "    \"\"\"\n",
    "    A tranformer for normalising columns via power transformation.\n",
    "    \"\"\"\n",
    "    \n",
    "    def __init__(self, data, method, *args):\n",
    "        \"\"\"\n",
    "        Initialize method.\n",
    "\n",
    "        :param data: The dataset is instance of pandas.core.frame.DataFrame\n",
    "        :param *args: tuple of *str, specifing cols to be dropped\n",
    "        \"\"\"\n",
    "        self.data = data\n",
    "        self.cols = list(args)\n",
    "        #for col in kwargs.values():\n",
    "        #    self.cols.append(col)\n",
    "        \n",
    "    def fit(self, X, y=None):\n",
    "        \"\"\"\n",
    "        Fits transformer over data.\n",
    "\n",
    "        :param X: The dataset to pass to the transformer.\n",
    "        :returns: The transformer.\n",
    "        \"\"\"\n",
    "        return self\n",
    "    \n",
    "    def transform(self, X, **transform_params):\n",
    "        \"\"\"\n",
    "        Function to delete columns specified in *args to be deleted from data.\n",
    "\n",
    "        :param data: pandas.core.frame.DataFrame\n",
    "        :param *args: tuple of *str, specifing cols to be dropped\n",
    "        :returns: pandas.core.frame.DataFrame without columns specified in *args\n",
    "        :raises keyError: raises an exception in case column was not found\n",
    "        \"\"\"\n",
    "        try:\n",
    "            for col in self.cols:\n",
    "                 X[col] = powerTransform(X[col])\n",
    "                 #X[: , col] = power_transform(X[: , col].values.reshape(-1,1))\n",
    "            return X\n",
    "        except KeyError:\n",
    "            print(f'Something from {self.cols} not found in dataset!') \n",
    "    "
   ]
  },
  {
   "cell_type": "code",
   "execution_count": 117,
   "id": "32f49939-896d-49e2-8b60-5f30fd95dc05",
   "metadata": {},
   "outputs": [],
   "source": [
    "class ScalingTransform(TransformerMixin):\n",
    "    \"\"\"\n",
    "    A tranformer for normalising columns via power transformation.\n",
    "    \"\"\"\n",
    "    \n",
    "    def __init__(self, data, method, *args):\n",
    "        \"\"\"\n",
    "        Initialize method.\n",
    "\n",
    "        :param data: The dataset is instance of pandas.core.frame.DataFrame\n",
    "        :param *args: tuple of *str, specifing cols to be dropped\n",
    "        \"\"\"\n",
    "        self.data = data\n",
    "        self.cols = list(args)\n",
    "        self.method = method\n",
    "        #for col in kwargs.values():\n",
    "        #    self.cols.append(col)\n",
    "        \n",
    "    def fit(self, X, y=None):\n",
    "        \"\"\"\n",
    "        Fits transformer over data.\n",
    "\n",
    "        :param X: The dataset to pass to the transformer.\n",
    "        :returns: The transformer.\n",
    "        \"\"\"\n",
    "        return self\n",
    "    \n",
    "    def transform(self, X, **transform_params):\n",
    "        \"\"\"\n",
    "        Function to delete columns specified in *args to be deleted from data.\n",
    "\n",
    "        :param data: pandas.core.frame.DataFrame\n",
    "        :param *args: tuple of *str, specifing cols to be dropped\n",
    "        :returns: pandas.core.frame.DataFrame without columns specified in *args\n",
    "        :raises keyError: raises an exception in case column was not found\n",
    "        \"\"\"\n",
    "        try:\n",
    "            if self.method == \"Scaling\":\n",
    "                for col in self.cols:\n",
    "                    X[col] = scalingFunct(X[col])\n",
    "                     #X[: , col] = power_transform(X[: , col].values.reshape(-1,1))\n",
    "                return X\n",
    "            if self.method == \"Standard\":\n",
    "                for col in self.cols:\n",
    "                    X[col] = standardisatingFunct(X[col])\n",
    "                     #X[: , col] = power_transform(X[: , col].values.reshape(-1,1))\n",
    "                return X\n",
    "        except KeyError:\n",
    "            print(f'Something from {self.cols} not found in dataset!') \n",
    "    "
   ]
  },
  {
   "cell_type": "code",
   "execution_count": 118,
   "id": "bcd3e192-2282-4744-9112-20b2e959208a",
   "metadata": {},
   "outputs": [],
   "source": [
    "class FillingTransform(TransformerMixin):\n",
    "    \"\"\"\n",
    "    A tranformer for normalising columns via power transformation.\n",
    "    \"\"\"\n",
    "    \n",
    "    def __init__(self, data, method, *args):\n",
    "        \"\"\"\n",
    "        Initialize method.\n",
    "\n",
    "        :param data: The dataset is instance of pandas.core.frame.DataFrame\n",
    "        :param *args: tuple of *str, specifing cols to be dropped\n",
    "        \"\"\"\n",
    "        self.data = data\n",
    "        self.cols = list(args)\n",
    "        self.method = method\n",
    "        #for col in kwargs.values():\n",
    "        #    self.cols.append(col)\n",
    "        \n",
    "    def fit(self, X, y=None):\n",
    "        \"\"\"\n",
    "        Fits transformer over data.\n",
    "\n",
    "        :param X: The dataset to pass to the transformer.\n",
    "        :returns: The transformer.\n",
    "        \"\"\"\n",
    "        return self\n",
    "    \n",
    "    def transform(self, X, **transform_params):\n",
    "        \"\"\"\n",
    "        Function to delete columns specified in *args to be deleted from data.\n",
    "\n",
    "        :param data: pandas.core.frame.DataFrame\n",
    "        :param *args: tuple of *str, specifing cols to be dropped\n",
    "        :returns: pandas.core.frame.DataFrame without columns specified in *args\n",
    "        :raises keyError: raises an exception in case column was not found\n",
    "        \"\"\"\n",
    "        try:\n",
    "            if self.method == \"mean\":\n",
    "                for col in self.cols:\n",
    "                    X[col] = X[col].fillna(X[col].mean())\n",
    "                return X\n",
    "            if self.method == \"median\":\n",
    "                for col in self.cols:\n",
    "                    X[col] = X[col].fillna(X[col].median())\n",
    "                return X\n",
    "            if self.method == \"knn\":\n",
    "                for col in self.cols:\n",
    "                    imputer = KNNImputer(n_neighbors=5)\n",
    "                    imputer.fit(X[col].values.reshape(-1,1))\n",
    "                    Xtrans = imputer.transform(X[col].values.reshape(-1,1))\n",
    "                    X[col] = pd.DataFrame(Xtrans)\n",
    "                return X\n",
    "            if self.method == \"regression\":\n",
    "                for col in self.cols:\n",
    "                    X[col] = X[col].interpolate(method='linear')\n",
    "                return X\n",
    "            \n",
    "            \n",
    "        except KeyError:\n",
    "            print(f'Something from {self.cols} not found in dataset!') \n",
    "    "
   ]
  },
  {
   "cell_type": "code",
   "execution_count": 119,
   "id": "402f0f4f-3736-4828-b657-7d7f03fc8629",
   "metadata": {},
   "outputs": [],
   "source": [
    "class RatioFillingTransformer(TransformerMixin):\n",
    "    \"\"\"\n",
    "    A tranformer for ratio.\n",
    "    \"\"\"\n",
    "    \n",
    "    def __init__(self,  data, colToFill, corrCol, *args):\n",
    "        \"\"\"\n",
    "        Initialize method.\n",
    "\n",
    "        :param data: The dataset is instance of pandas.core.frame.DataFrame\n",
    "        :param colToFill: The feature with NaN values\n",
    "        :param corrCol: The feature which correlates with the parameter colToFill\n",
    "        :param *args: optional\n",
    "        \"\"\"\n",
    "        self.data = data\n",
    "        self.colToFill = colToFill\n",
    "        self.corrCol = corrCol\n",
    "        \n",
    "    def fit(self, X, y=None):\n",
    "        \"\"\"\n",
    "        Fits transformer over data.\n",
    "\n",
    "        :param X: The dataset to pass to the transformer.\n",
    "        :returns: The transformer.\n",
    "        \"\"\"\n",
    "        return self\n",
    "    \n",
    "    def transform(self, X, **transform_params):\n",
    "        \"\"\"\n",
    "        Function to transform column to a numeric and change a type.\n",
    "\n",
    "        :param X: pandas.core.frame.DataFrame\n",
    "        :returns: transformed pandas.core.frame.DataFrame\n",
    "        :raises keyError: raises an exception in case column was not found\n",
    "        \"\"\"\n",
    "        try:\n",
    "            ratio = X[self.colToFill]/X[self.corrCol]\n",
    "            X[self.colToFill] = X[self.colToFill].fillna(X[self.corrCol] * ratio.mean())\n",
    "            return X\n",
    "        except KeyError:\n",
    "            print(f'Something from {self.what} not found in dataset!')  "
   ]
  },
  {
   "cell_type": "code",
   "execution_count": 120,
   "id": "44ecafcf-d31d-4e45-8a84-00b2346357d9",
   "metadata": {},
   "outputs": [],
   "source": [
    "class DropOutliersTransformer(TransformerMixin):\n",
    "    \"\"\"\n",
    "    A tranformer for dropping outliers from the dataset.\n",
    "    \"\"\"\n",
    "    \n",
    "    def __init__(self, data, *args):\n",
    "        \"\"\"\n",
    "        Initialize method.\n",
    "\n",
    "        :param data: The dataset is instance of pandas.core.frame.DataFrame\n",
    "        :param *args: tuple of *str, specifing columns with outliers\n",
    "        \"\"\"\n",
    "        self.data = data\n",
    "        self.cols = list(args)\n",
    "                \n",
    "    def fit(self, X, y=None):        \n",
    "        \"\"\"\n",
    "        Fits transformer over data.\n",
    "\n",
    "        :param X: The dataset to pass to the transformer.\n",
    "        :returns: The transformer.\n",
    "        \"\"\"\n",
    "        return self\n",
    "    \n",
    "    def transform(self, X, y=None):\n",
    "        \"\"\"\n",
    "        Drops outliers in columns\n",
    "\n",
    "        :param X: The dataset.\n",
    "        :param: column: Feature of pandas dataframe\n",
    "        \"\"\"\n",
    "        \n",
    "        for column in self.cols:\n",
    "            if ((stats.skew(X[column]) < -2) or (stats.skew(X[column]) > 2)):\n",
    "                X[column] = np.log(X[column]+ (-X[column].min()))\n",
    "                \n",
    "            X.loc[X[column] < X[column].quantile(.05), column] = X[column].quantile(.05)\n",
    "            X.loc[X[column] > X[column].quantile(.95), column] = X[column].quantile(.95) \n",
    "        return X"
   ]
  },
  {
   "cell_type": "markdown",
   "id": "b87c1b30-4091-4d58-810a-c5f3b8184d05",
   "metadata": {},
   "source": [
    " - transformácia údajov"
   ]
  },
  {
   "cell_type": "code",
   "execution_count": 121,
   "id": "e5208911-3747-42ae-ba39-9a6c63b66c13",
   "metadata": {},
   "outputs": [
    {
     "ename": "NameError",
     "evalue": "name 'powerTransform' is not defined",
     "output_type": "error",
     "traceback": [
      "\u001b[0;31m---------------------------------------------------------------------------\u001b[0m",
      "\u001b[0;31mNameError\u001b[0m                                 Traceback (most recent call last)",
      "\u001b[0;32m/var/folders/__/dvmgkrld1mx_38jh2344bg100000gn/T/ipykernel_4575/2910613346.py\u001b[0m in \u001b[0;36m<module>\u001b[0;34m\u001b[0m\n\u001b[1;32m     40\u001b[0m )\n\u001b[1;32m     41\u001b[0m \u001b[0;34m\u001b[0m\u001b[0m\n\u001b[0;32m---> 42\u001b[0;31m \u001b[0mdf_merged_\u001b[0m \u001b[0;34m=\u001b[0m \u001b[0mpipeline_obj\u001b[0m\u001b[0;34m.\u001b[0m\u001b[0mtransform\u001b[0m\u001b[0;34m(\u001b[0m\u001b[0mdf_merged_\u001b[0m\u001b[0;34m)\u001b[0m\u001b[0;34m\u001b[0m\u001b[0;34m\u001b[0m\u001b[0m\n\u001b[0m\u001b[1;32m     43\u001b[0m \u001b[0mdf_merged_\u001b[0m\u001b[0;34m\u001b[0m\u001b[0;34m\u001b[0m\u001b[0m\n",
      "\u001b[0;32m~/.virtualenvs/env_name/lib/python3.7/site-packages/sklearn/pipeline.py\u001b[0m in \u001b[0;36m_transform\u001b[0;34m(self, X)\u001b[0m\n\u001b[1;32m    558\u001b[0m         \u001b[0mXt\u001b[0m \u001b[0;34m=\u001b[0m \u001b[0mX\u001b[0m\u001b[0;34m\u001b[0m\u001b[0;34m\u001b[0m\u001b[0m\n\u001b[1;32m    559\u001b[0m         \u001b[0;32mfor\u001b[0m \u001b[0m_\u001b[0m\u001b[0;34m,\u001b[0m \u001b[0m_\u001b[0m\u001b[0;34m,\u001b[0m \u001b[0mtransform\u001b[0m \u001b[0;32min\u001b[0m \u001b[0mself\u001b[0m\u001b[0;34m.\u001b[0m\u001b[0m_iter\u001b[0m\u001b[0;34m(\u001b[0m\u001b[0;34m)\u001b[0m\u001b[0;34m:\u001b[0m\u001b[0;34m\u001b[0m\u001b[0;34m\u001b[0m\u001b[0m\n\u001b[0;32m--> 560\u001b[0;31m             \u001b[0mXt\u001b[0m \u001b[0;34m=\u001b[0m \u001b[0mtransform\u001b[0m\u001b[0;34m.\u001b[0m\u001b[0mtransform\u001b[0m\u001b[0;34m(\u001b[0m\u001b[0mXt\u001b[0m\u001b[0;34m)\u001b[0m\u001b[0;34m\u001b[0m\u001b[0;34m\u001b[0m\u001b[0m\n\u001b[0m\u001b[1;32m    561\u001b[0m         \u001b[0;32mreturn\u001b[0m \u001b[0mXt\u001b[0m\u001b[0;34m\u001b[0m\u001b[0;34m\u001b[0m\u001b[0m\n\u001b[1;32m    562\u001b[0m \u001b[0;34m\u001b[0m\u001b[0m\n",
      "\u001b[0;32m/var/folders/__/dvmgkrld1mx_38jh2344bg100000gn/T/ipykernel_4575/2787873832.py\u001b[0m in \u001b[0;36mtransform\u001b[0;34m(self, X, **transform_params)\u001b[0m\n\u001b[1;32m     36\u001b[0m         \u001b[0;32mtry\u001b[0m\u001b[0;34m:\u001b[0m\u001b[0;34m\u001b[0m\u001b[0;34m\u001b[0m\u001b[0m\n\u001b[1;32m     37\u001b[0m             \u001b[0;32mfor\u001b[0m \u001b[0mcol\u001b[0m \u001b[0;32min\u001b[0m \u001b[0mself\u001b[0m\u001b[0;34m.\u001b[0m\u001b[0mcols\u001b[0m\u001b[0;34m:\u001b[0m\u001b[0;34m\u001b[0m\u001b[0;34m\u001b[0m\u001b[0m\n\u001b[0;32m---> 38\u001b[0;31m                  \u001b[0mX\u001b[0m\u001b[0;34m[\u001b[0m\u001b[0mcol\u001b[0m\u001b[0;34m]\u001b[0m \u001b[0;34m=\u001b[0m \u001b[0mpowerTransform\u001b[0m\u001b[0;34m(\u001b[0m\u001b[0mX\u001b[0m\u001b[0;34m[\u001b[0m\u001b[0mcol\u001b[0m\u001b[0;34m]\u001b[0m\u001b[0;34m)\u001b[0m\u001b[0;34m\u001b[0m\u001b[0;34m\u001b[0m\u001b[0m\n\u001b[0m\u001b[1;32m     39\u001b[0m                  \u001b[0;31m#X[: , col] = power_transform(X[: , col].values.reshape(-1,1))\u001b[0m\u001b[0;34m\u001b[0m\u001b[0;34m\u001b[0m\u001b[0;34m\u001b[0m\u001b[0m\n\u001b[1;32m     40\u001b[0m             \u001b[0;32mreturn\u001b[0m \u001b[0mX\u001b[0m\u001b[0;34m\u001b[0m\u001b[0;34m\u001b[0m\u001b[0m\n",
      "\u001b[0;31mNameError\u001b[0m: name 'powerTransform' is not defined"
     ]
    }
   ],
   "source": [
    "df_merged_ = pd.DataFrame()\n",
    "\n",
    "# pipeline\n",
    "pipeline_obj = Pipeline(\n",
    "    [\n",
    "        ('merge', MergeTransformer(df_labor_, df_profiles_, column1 ='ssn', column2 ='name')),\n",
    "        ('dropCols', DropColsTransformer(df_merged, 'Unnamed: 0_x', 'name', 'ssn', 'Unnamed: 0_y', \n",
    "                                      'current_location', 'residence', 'address')),\n",
    "        ('numSex', GetNumericalTransformer(df_merged_, 'sex', {\"M\": 0, \"F\": 1}, 'category')),\n",
    "        ('numBlood', GetNumericalTransformer(df_merged_, 'blood_group', {\n",
    "                \"A+\": 1,\"A-\": 2, \"B+\": 3, \"B-\": 4, \"AB+\": 5, \"AB-\": 6, \"O+\": 7, \"O-\": 8\n",
    "            }, 'category')\n",
    "        ),\n",
    "        ('numRepairRace', GetNumericalTransformer(df_merged_, 'race', {\n",
    "            \"blsck\": \"Black\", \"black\": \"Black\", \"white\": \"White\"})\n",
    "        ),\n",
    "        ('numRace', GetNumericalTransformer(df_merged_, 'race', {\n",
    "            \"White\": 1,\"Black\": 2, \"Asian\": 3, \"Hawaiian\": 4, \"Indian\": 5}, 'category')\n",
    "        ),\n",
    "        ('numSmoker', GetNumericalTransformer(df_merged_, 'smoker', {\n",
    "            \"no\": 0, \"N\": 0, \"yes\": 1, \"Y\": 1}, 'category')\n",
    "        ),        \n",
    "        ('numAge', GetNumericalTransformer(df_merged, 'birthdate', {}, 'datetime64[ns]')),\n",
    "        ('numRelationship', GetNumericalTransformer(df_merged_, 'relationship', {\n",
    "            \"married\": 1, \"divoced\": 2, \"single\": 3, \"separated\": 4, \"nop\": 5,\"widowed\": 6}, 'category')\n",
    "        ),\n",
    "        ('Transformer_mean',FillingTransform(df_merged_, \"mean\", \"hemoglobin\", \"trombocyty\")),\n",
    "        ('Transformer_median',FillingTransform(df_merged_,\"median\", \"er-cv\", \"hematokrit\")),\n",
    "        ('Transformer_knn',FillingTransform(df_merged_,\"knn\", \"ast\", \"alp\")),\n",
    "        ('Transformer_regression',FillingTransform(df_merged_,\"regression\", \"etytr\", \"alt\")),\n",
    "        ('Transformer_ratio',RatioFillingTransformer(df_merged_, \"leukocyty\",\"etytr\")),\n",
    "        ('Transformer_ratio2',RatioFillingTransformer(df_merged_, \"erytrocyty\",\"alt\")),\n",
    "        ('Transformer_ratio3',RatioFillingTransformer(df_merged_, \"hbver\",\"erytrocyty\")),\n",
    "        ('OutliersTransformation', DropOutliersTransformer(df_merged_, 'leukocyty', \n",
    "                                                           'hemoglobin', 'erytrocyty', 'alt', 'alp', 'ast')),\n",
    "        ('Transformer_yeo', PowerTransform(df_merged_, 'yeo-johnson', 'alt')),\n",
    "        ('Transformer_scal', ScalingTransform(df_merged_, \"Scaling\", 'ast')),\n",
    "        ('Transformer_stand', ScalingTransform(df_merged_, \"Standard\", 'alp'))   \n",
    "    ]\n",
    ")\n",
    "\n",
    "df_merged_ = pipeline_obj.transform(df_merged_)\n",
    "df_merged_\n"
   ]
  },
  {
   "cell_type": "code",
   "execution_count": null,
   "id": "01388fff-2b51-4c76-a2a8-59cf5b99e290",
   "metadata": {},
   "outputs": [],
   "source": [
    "df_merged_.isna().sum()"
   ]
  },
  {
   "cell_type": "code",
   "execution_count": null,
   "id": "f78f1436-d7eb-4331-a6bc-a2cd8f2671d3",
   "metadata": {},
   "outputs": [],
   "source": [
    "sns.boxplot(df_merged_['leukocyty'])"
   ]
  },
  {
   "cell_type": "markdown",
   "id": "20693da7-eae5-440b-8923-8e1c8d29df61",
   "metadata": {},
   "source": [
    "### Opätovná prieskumná analýza"
   ]
  },
  {
   "cell_type": "code",
   "execution_count": null,
   "id": "199ea0a5-07eb-4e0f-8544-d1e3dc52f1b4",
   "metadata": {},
   "outputs": [],
   "source": [
    "important_columns=df_merged_.columns\n",
    "important_columns=list(important_columns)\n",
    "important_columns.remove('age')\n",
    "important_columns"
   ]
  },
  {
   "cell_type": "code",
   "execution_count": null,
   "id": "36def267-ab07-45ca-81e6-4ea6c1e9bb69",
   "metadata": {},
   "outputs": [],
   "source": [
    "df_backup[important_columns].info()"
   ]
  },
  {
   "cell_type": "code",
   "execution_count": null,
   "id": "1f1f5a31-0afa-4acc-aee7-ddfdee724a31",
   "metadata": {},
   "outputs": [],
   "source": [
    "df_merged_.info()"
   ]
  },
  {
   "cell_type": "code",
   "execution_count": null,
   "id": "7c90440a-a8d7-4b39-9a10-3dcdaf155815",
   "metadata": {},
   "outputs": [],
   "source": [
    "fig_a = plt.subplots(figsize = (25, 5))\n",
    "sns.boxplot(data = df_backup[important_columns])"
   ]
  },
  {
   "cell_type": "code",
   "execution_count": null,
   "id": "873075b0-5f83-4fc8-a07d-e9ca62650ff4",
   "metadata": {},
   "outputs": [],
   "source": [
    "fig_b = plt.subplots(figsize = (25, 5))\n",
    "sns.boxplot(data = df_merged_)"
   ]
  },
  {
   "cell_type": "code",
   "execution_count": null,
   "id": "17b7d733-b4a3-4524-8463-1b87db0ca009",
   "metadata": {},
   "outputs": [],
   "source": [
    "fig_c = plt.subplots(figsize = (15, 10))\n",
    "sns.heatmap(df_backup[important_columns].corr(), fmt = \".2f\", annot = True)"
   ]
  },
  {
   "cell_type": "code",
   "execution_count": null,
   "id": "aecfc2f1-0e5c-492d-ab3b-d5f69806e324",
   "metadata": {},
   "outputs": [],
   "source": [
    "fig_d = plt.subplots(figsize = (15, 10))\n",
    "sns.heatmap(df_merged_.corr(), fmt = \".2f\", annot = True)"
   ]
  },
  {
   "cell_type": "code",
   "execution_count": null,
   "id": "555243a1-6122-491f-9448-e3067fe21264",
   "metadata": {},
   "outputs": [],
   "source": []
  }
 ],
 "metadata": {
  "kernelspec": {
   "display_name": "Python 3 (ipykernel)",
   "language": "python",
   "name": "python3"
  },
  "language_info": {
   "codemirror_mode": {
    "name": "ipython",
    "version": 3
   },
   "file_extension": ".py",
   "mimetype": "text/x-python",
   "name": "python",
   "nbconvert_exporter": "python",
   "pygments_lexer": "ipython3",
   "version": "3.7.3"
  }
 },
 "nbformat": 4,
 "nbformat_minor": 5
}
