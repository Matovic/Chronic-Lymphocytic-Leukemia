{
 "cells": [
  {
   "cell_type": "markdown",
   "id": "2695902f-9de0-4c51-8d75-5965ac1ef812",
   "metadata": {},
   "source": [
    "# Data pre-processing\n",
    " \n",
    "**Autori:** Erik Matovič a Simon Kokavec   \n",
    "**Číslo datasetu:** 165  \n",
    "**Percentuálny podiel:** 50/50"
   ]
  },
  {
   "cell_type": "markdown",
   "id": "840bae8a-eb49-4053-aad9-c5a786da1819",
   "metadata": {},
   "source": [
    "## 0. Importovanie"
   ]
  },
  {
   "cell_type": "code",
   "execution_count": 1,
   "id": "38d3a0ce-170c-4fef-b2e3-c4e80396c347",
   "metadata": {},
   "outputs": [],
   "source": [
    "%matplotlib inline\n",
    "import matplotlib.pyplot as plt\n",
    "import seaborn as sns\n",
    "import pandas as pd\n",
    "import numpy as np\n",
    "import scipy.stats as stats\n",
    "import pylab as py\n",
    "import statsmodels.api as sm\n",
    "import statsmodels.stats as sm_stats\n",
    "import statsmodels.stats.api as sms\n",
    "import math\n",
    "from datetime import datetime, date\n",
    "from sklearn.pipeline import Pipeline\n",
    "from sklearn.base import TransformerMixin\n",
    "from sklearn.impute import KNNImputer\n",
    "from sklearn import preprocessing\n",
    "from sklearn.preprocessing import power_transform\n",
    "from sklearn.preprocessing import PowerTransformer"
   ]
  },
  {
   "cell_type": "markdown",
   "id": "53ca27f3-8d09-48da-b054-cd357c65b770",
   "metadata": {},
   "source": [
    "## 1. Integrácia a čistenie dát\n",
    "\n",
    "### Zadanie  \n",
    "Transformujte dáta na vhodný formát pre strojové učenie t.j. jedno pozorovanie musí byť opísané jedným riadkom a každý atribút musí byť v numerickom formáte. \n",
    "- Pri riešení chýbajúcich hodnôt (missing values) vyskúšajte rôzne stratégie z nasledujúcich podskupín:\n",
    "    - odstránenie pozorovaní s chýbajúcimi údajmi\n",
    "    - nahradenie chýbajúcej hodnoty mediánom, priemerom, pomerom (ku korelovanému atribútu), alebo pomocou lineárnej regresie resp. kNN\n",
    "- Podobne postupujte aj pri riešení vychýlených hodnôt (outlier detection):\n",
    "    - odstránenie vychýlených (odľahlých) pozorovaní\n",
    "    - nahradenie vychýlenej hodnoty hraničnými hodnotami rozdelenia (5% resp. 95%)\n",
    "    \n",
    "### Riešenie\n"
   ]
  },
  {
   "cell_type": "code",
   "execution_count": 39,
   "id": "90dfc1f0-72ef-41d7-bb6e-92bc53b937da",
   "metadata": {},
   "outputs": [],
   "source": [
    "# read labor and profiles dataset\n",
    "df_labor = pd.read_csv('../../data/labor.csv', sep='\\t')\n",
    "df_profiles = pd.read_csv('../../data/profiles.csv', sep='\\t')"
   ]
  },
  {
   "cell_type": "code",
   "execution_count": 2,
   "id": "b26a0084-a0c8-4a9c-8d94-1a1e2fdc7f8f",
   "metadata": {
    "tags": []
   },
   "outputs": [],
   "source": [
    "def meanNinja(column):\n",
    "    df_labor[column] = df_labor[column].fillna(df_labor[column].mean())\n",
    "    \n",
    "def medianNinja(column):\n",
    "    df_labor[column] = df_labor[column].fillna(df_labor[column].median())\n",
    "    \n",
    "def controlNinja(column):\n",
    "    print(df_labor[column].loc[df_labor[column].isna(),])\n",
    "    print(sum(df_labor[column].isna()))\n",
    "    \n",
    "def knnNinja(column):\n",
    "    imputer = KNNImputer(n_neighbors=5)\n",
    "    copy = df_labor[column].values.reshape(-1,1)\n",
    "    imputer.fit(copy)\n",
    "    Xtrans = imputer.transform(copy)\n",
    "    df_labor[column] = pd.DataFrame(Xtrans)\n",
    "    \n",
    "def regressionNinja(column):\n",
    "    df_labor[column].interpolate(method='linear', inplace=True)\n",
    "\n",
    "def ratioNinja(columnToFill, corrColumn):\n",
    "    ratio = df_labor[corrColumn]/df_labor[columnToFill]\n",
    "    df_labor[columnToFill] = df_labor[columnToFill].fillna(df_labor[corrColumn] * ratio.mean())"
   ]
  },
  {
   "cell_type": "markdown",
   "id": "f4921fb9-df5f-4092-84dd-ddd84931e8b3",
   "metadata": {},
   "source": [
    "#### 1. Dataset profilov\n",
    "\n",
    " - **Atribút unnamed(0)** - slúži ako index/riadkovanie, preto celý stĺpec vymazať, nie je potrebný"
   ]
  },
  {
   "cell_type": "code",
   "execution_count": 3,
   "id": "1390cca8-45df-4db0-993b-de6de990e0c8",
   "metadata": {},
   "outputs": [
    {
     "data": {
      "text/html": [
       "<div>\n",
       "<style scoped>\n",
       "    .dataframe tbody tr th:only-of-type {\n",
       "        vertical-align: middle;\n",
       "    }\n",
       "\n",
       "    .dataframe tbody tr th {\n",
       "        vertical-align: top;\n",
       "    }\n",
       "\n",
       "    .dataframe thead th {\n",
       "        text-align: right;\n",
       "    }\n",
       "</style>\n",
       "<table border=\"1\" class=\"dataframe\">\n",
       "  <thead>\n",
       "    <tr style=\"text-align: right;\">\n",
       "      <th></th>\n",
       "      <th>name</th>\n",
       "      <th>sex</th>\n",
       "      <th>current_location</th>\n",
       "      <th>blood_group</th>\n",
       "      <th>residence</th>\n",
       "      <th>birthdate</th>\n",
       "      <th>race</th>\n",
       "      <th>ssn</th>\n",
       "      <th>address</th>\n",
       "    </tr>\n",
       "  </thead>\n",
       "  <tbody>\n",
       "    <tr>\n",
       "      <th>0</th>\n",
       "      <td>Elizabeth Johnson</td>\n",
       "      <td>F</td>\n",
       "      <td>(Decimal('-64.545933'), Decimal('5.817377'))</td>\n",
       "      <td>B-</td>\n",
       "      <td>319 Bradley Tunnel Suite 246\\nBoyerstad, GA 12067</td>\n",
       "      <td>10/30/1938, 00:00:00</td>\n",
       "      <td>White</td>\n",
       "      <td>518-82-6493</td>\n",
       "      <td>09441 Joyce Route Suite 717\\nWest Megan, GA 12969</td>\n",
       "    </tr>\n",
       "    <tr>\n",
       "      <th>1</th>\n",
       "      <td>Scott Holmes</td>\n",
       "      <td>M</td>\n",
       "      <td>(Decimal('-18.8183775'), Decimal('94.375497'))</td>\n",
       "      <td>A-</td>\n",
       "      <td>28739 Hoffman Valleys Apt. 636\\nMichaelville, ...</td>\n",
       "      <td>1927-06-20</td>\n",
       "      <td>Black</td>\n",
       "      <td>015-03-8632</td>\n",
       "      <td>USNS Miller\\nFPO AE 08377</td>\n",
       "    </tr>\n",
       "    <tr>\n",
       "      <th>2</th>\n",
       "      <td>William Roth</td>\n",
       "      <td>M</td>\n",
       "      <td>(Decimal('35.903361'), Decimal('-133.029344'))</td>\n",
       "      <td>B-</td>\n",
       "      <td>8623 Jordan Canyon Suite 498\\nJoshuastad, OH 3...</td>\n",
       "      <td>1965-10-02</td>\n",
       "      <td>Black</td>\n",
       "      <td>898-78-8500</td>\n",
       "      <td>7747 Nicole Wells\\nShannonside, MI 84296</td>\n",
       "    </tr>\n",
       "    <tr>\n",
       "      <th>3</th>\n",
       "      <td>Kimberly Barnes</td>\n",
       "      <td>F</td>\n",
       "      <td>(Decimal('55.2055095'), Decimal('-121.665483'))</td>\n",
       "      <td>B+</td>\n",
       "      <td>Unit 0522 Box 6156\\nDPO AE 24368</td>\n",
       "      <td>1962-02-14</td>\n",
       "      <td>White</td>\n",
       "      <td>478-72-0155</td>\n",
       "      <td>228 Colleen Extension\\nLake Morgan, AL 34806</td>\n",
       "    </tr>\n",
       "    <tr>\n",
       "      <th>4</th>\n",
       "      <td>Sarah Escobar</td>\n",
       "      <td>F</td>\n",
       "      <td>(Decimal('49.512264'), Decimal('-121.259776'))</td>\n",
       "      <td>AB-</td>\n",
       "      <td>30306 Molina Junction\\nPort Edwardview, OK 72746</td>\n",
       "      <td>02 Oct 1936</td>\n",
       "      <td>Indian</td>\n",
       "      <td>683-31-6335</td>\n",
       "      <td>08249 Gentry Fall\\nLewisshire, NY 20037</td>\n",
       "    </tr>\n",
       "  </tbody>\n",
       "</table>\n",
       "</div>"
      ],
      "text/plain": [
       "                name sex                                 current_location  \\\n",
       "0  Elizabeth Johnson   F     (Decimal('-64.545933'), Decimal('5.817377'))   \n",
       "1       Scott Holmes   M   (Decimal('-18.8183775'), Decimal('94.375497'))   \n",
       "2       William Roth   M   (Decimal('35.903361'), Decimal('-133.029344'))   \n",
       "3    Kimberly Barnes   F  (Decimal('55.2055095'), Decimal('-121.665483'))   \n",
       "4      Sarah Escobar   F   (Decimal('49.512264'), Decimal('-121.259776'))   \n",
       "\n",
       "  blood_group                                          residence  \\\n",
       "0          B-  319 Bradley Tunnel Suite 246\\nBoyerstad, GA 12067   \n",
       "1          A-  28739 Hoffman Valleys Apt. 636\\nMichaelville, ...   \n",
       "2          B-  8623 Jordan Canyon Suite 498\\nJoshuastad, OH 3...   \n",
       "3          B+                   Unit 0522 Box 6156\\nDPO AE 24368   \n",
       "4         AB-   30306 Molina Junction\\nPort Edwardview, OK 72746   \n",
       "\n",
       "              birthdate    race          ssn  \\\n",
       "0  10/30/1938, 00:00:00   White  518-82-6493   \n",
       "1            1927-06-20   Black  015-03-8632   \n",
       "2            1965-10-02   Black  898-78-8500   \n",
       "3            1962-02-14   White  478-72-0155   \n",
       "4           02 Oct 1936  Indian  683-31-6335   \n",
       "\n",
       "                                             address  \n",
       "0  09441 Joyce Route Suite 717\\nWest Megan, GA 12969  \n",
       "1                          USNS Miller\\nFPO AE 08377  \n",
       "2           7747 Nicole Wells\\nShannonside, MI 84296  \n",
       "3       228 Colleen Extension\\nLake Morgan, AL 34806  \n",
       "4            08249 Gentry Fall\\nLewisshire, NY 20037  "
      ]
     },
     "execution_count": 3,
     "metadata": {},
     "output_type": "execute_result"
    }
   ],
   "source": [
    "df_profiles=df_profiles.drop(\"Unnamed: 0\", axis=1)\n",
    "df_profiles.head()"
   ]
  },
  {
   "cell_type": "markdown",
   "id": "75cc6f00-0f03-4ad2-9f01-2afbe463551d",
   "metadata": {},
   "source": [
    " - **Atribút name** - tento stĺpec je v poriadku, kódovať do numerického tvaru ho nebudeme, potrebný pre spojenie 2 dataframeov, avšak po spojení dataframov sa stane nepotrebný "
   ]
  },
  {
   "cell_type": "code",
   "execution_count": 4,
   "id": "cb62ceae-3aa6-4d68-be9c-191816628f33",
   "metadata": {},
   "outputs": [
    {
     "data": {
      "text/plain": [
       "0    Elizabeth Johnson\n",
       "1         Scott Holmes\n",
       "2         William Roth\n",
       "3      Kimberly Barnes\n",
       "4        Sarah Escobar\n",
       "Name: name, dtype: object"
      ]
     },
     "execution_count": 4,
     "metadata": {},
     "output_type": "execute_result"
    }
   ],
   "source": [
    "df_profiles[\"name\"].head()"
   ]
  },
  {
   "cell_type": "markdown",
   "id": "ba0d7a2b-be5d-49d2-9a28-a279e423cf13",
   "metadata": {},
   "source": [
    " - **Atribút sex** - tento stĺpec treba pretransformovať z typu *_object_* na numerický typ nasledovne: **1 - žena**, **0 - muž**"
   ]
  },
  {
   "cell_type": "code",
   "execution_count": 5,
   "id": "ef5fddf8-bf20-412b-aa14-54142ec29888",
   "metadata": {},
   "outputs": [
    {
     "data": {
      "text/plain": [
       "0    F\n",
       "1    M\n",
       "2    M\n",
       "3    F\n",
       "4    F\n",
       "Name: sex, dtype: object"
      ]
     },
     "execution_count": 5,
     "metadata": {},
     "output_type": "execute_result"
    }
   ],
   "source": [
    "df_profiles[\"sex\"].head()"
   ]
  },
  {
   "cell_type": "code",
   "execution_count": 6,
   "id": "2973fe8f-fec7-4994-b817-6ece320cac37",
   "metadata": {},
   "outputs": [
    {
     "data": {
      "text/plain": [
       "0    1557\n",
       "1    1507\n",
       "Name: sex, dtype: int64"
      ]
     },
     "execution_count": 6,
     "metadata": {},
     "output_type": "execute_result"
    }
   ],
   "source": [
    "df_profiles[\"sex\"].replace({\"M\": 0, \"F\": 1}, inplace=True)\n",
    "df_profiles = df_profiles.astype({'sex': 'category'})\n",
    "df_profiles[\"sex\"].value_counts()"
   ]
  },
  {
   "cell_type": "markdown",
   "id": "d01a8dae-7bc8-41d9-a4aa-641ab339fea8",
   "metadata": {},
   "source": [
    "Tento stĺpec sme úspešne transformovali na dátový typ *_category_* a nahradili sme jeho východiskové hodnoty M a F za 0 a 1 ako dokazuje nasledovná bunka:"
   ]
  },
  {
   "cell_type": "code",
   "execution_count": 7,
   "id": "83198114-72af-490c-8e44-06f7234eed2c",
   "metadata": {},
   "outputs": [
    {
     "data": {
      "text/plain": [
       "0    1\n",
       "1    0\n",
       "2    0\n",
       "3    1\n",
       "4    1\n",
       "Name: sex, dtype: category\n",
       "Categories (2, int64): [0, 1]"
      ]
     },
     "execution_count": 7,
     "metadata": {},
     "output_type": "execute_result"
    }
   ],
   "source": [
    "df_profiles[\"sex\"].head()"
   ]
  },
  {
   "cell_type": "markdown",
   "id": "dda5f3a1-627a-4289-a67f-f34e989de4ff",
   "metadata": {
    "tags": []
   },
   "source": [
    "# TODO:\n",
    "- **Atribbút current_location** - tento nebudeme potrebovať pri strojovom učení, nebudeme riešiť kódovanie na numerický tvar, ale jeho vymazanie"
   ]
  },
  {
   "cell_type": "code",
   "execution_count": 8,
   "id": "7c0b0e50-7eab-4321-b963-2199b6f9a72b",
   "metadata": {},
   "outputs": [
    {
     "data": {
      "text/plain": [
       "0       (Decimal('-64.545933'), Decimal('5.817377'))\n",
       "1     (Decimal('-18.8183775'), Decimal('94.375497'))\n",
       "2     (Decimal('35.903361'), Decimal('-133.029344'))\n",
       "3    (Decimal('55.2055095'), Decimal('-121.665483'))\n",
       "4     (Decimal('49.512264'), Decimal('-121.259776'))\n",
       "Name: current_location, dtype: object"
      ]
     },
     "execution_count": 8,
     "metadata": {},
     "output_type": "execute_result"
    }
   ],
   "source": [
    "df_profiles[\"current_location\"].head()"
   ]
  },
  {
   "cell_type": "markdown",
   "id": "78f2504e-26a3-4909-aae7-47fc4a7f48ab",
   "metadata": {},
   "source": [
    " - **Atribút blood_group** - hodnoty typu *_object_* kategorizujeme nasledovne: **1(A+), 2(A-), 3(B+), 4(B-), 5(AB+), 6(AB-), 7(O+) a 8(O-)**"
   ]
  },
  {
   "cell_type": "code",
   "execution_count": 9,
   "id": "dd2bc8b9-032e-4ab7-b86b-6ad2f57ac1dd",
   "metadata": {},
   "outputs": [
    {
     "data": {
      "text/plain": [
       "0        B-\n",
       "1        A-\n",
       "2        B-\n",
       "3        B+\n",
       "4       AB-\n",
       "       ... \n",
       "3059    AB+\n",
       "3060     O+\n",
       "3061     B+\n",
       "3062     B-\n",
       "3063    AB+\n",
       "Name: blood_group, Length: 3064, dtype: object"
      ]
     },
     "execution_count": 9,
     "metadata": {},
     "output_type": "execute_result"
    }
   ],
   "source": [
    "df_profiles['blood_group']"
   ]
  },
  {
   "cell_type": "code",
   "execution_count": 10,
   "id": "42f08de4-ff36-4653-a346-8858dcaeb376",
   "metadata": {},
   "outputs": [
    {
     "data": {
      "text/plain": [
       "1    398\n",
       "3    395\n",
       "8    394\n",
       "7    389\n",
       "5    388\n",
       "2    377\n",
       "6    364\n",
       "4    359\n",
       "Name: blood_group, dtype: int64"
      ]
     },
     "execution_count": 10,
     "metadata": {},
     "output_type": "execute_result"
    }
   ],
   "source": [
    "df_profiles['blood_group'] = df_profiles['blood_group'].replace({\"A+\": 1,\"A-\": 2, \"B+\": 3, \"B-\": 4, \"AB+\": 5, \"AB-\": 6, \"O+\": 7, \"O-\": 8})\n",
    "df_profiles = df_profiles.astype({'blood_group': 'category'})\n",
    "df_profiles.blood_group.value_counts()"
   ]
  },
  {
   "cell_type": "markdown",
   "id": "a80af556-91c2-4a36-a0e9-72701c587b4a",
   "metadata": {},
   "source": [
    "Tento stĺpec sme úspešne transformovali na dátový typ *_category_* a nahradili sme jeho východiskové hodnoty za 1, 2, 3, 4, 5, 6, 7 a 8 ako dokazuje nasledovná bunka:"
   ]
  },
  {
   "cell_type": "code",
   "execution_count": 11,
   "id": "f7707f37-723c-47af-b5fc-12a43568ea40",
   "metadata": {},
   "outputs": [
    {
     "data": {
      "text/plain": [
       "0    4\n",
       "1    2\n",
       "2    4\n",
       "3    3\n",
       "4    6\n",
       "Name: blood_group, dtype: category\n",
       "Categories (8, int64): [1, 2, 3, 4, 5, 6, 7, 8]"
      ]
     },
     "execution_count": 11,
     "metadata": {},
     "output_type": "execute_result"
    }
   ],
   "source": [
    "df_profiles[\"blood_group\"].head()"
   ]
  },
  {
   "cell_type": "markdown",
   "id": "24080e2e-aae9-41dc-ae1d-f15067abca9f",
   "metadata": {},
   "source": [
    "# TODO:\n",
    "- **Atribút residence** - tento stĺpec je v poriadku, avšak pri strojovom učení nebudeme ho potrebovať, a preto ho odstránime:"
   ]
  },
  {
   "cell_type": "code",
   "execution_count": 12,
   "id": "a7c984c1-fa49-4378-9318-72b99f7f0f45",
   "metadata": {},
   "outputs": [
    {
     "data": {
      "text/plain": [
       "0    319 Bradley Tunnel Suite 246\\nBoyerstad, GA 12067\n",
       "1    28739 Hoffman Valleys Apt. 636\\nMichaelville, ...\n",
       "2    8623 Jordan Canyon Suite 498\\nJoshuastad, OH 3...\n",
       "3                     Unit 0522 Box 6156\\nDPO AE 24368\n",
       "4     30306 Molina Junction\\nPort Edwardview, OK 72746\n",
       "Name: residence, dtype: object"
      ]
     },
     "execution_count": 12,
     "metadata": {},
     "output_type": "execute_result"
    }
   ],
   "source": [
    "df_profiles[\"residence\"].head()"
   ]
  },
  {
   "cell_type": "markdown",
   "id": "3e779e18-743d-41c5-a57d-ffef98a31342",
   "metadata": {},
   "source": [
    " - **Atribút birthdate** - neobsahuje žiadne chýbajúce hodnoty, avšak je potrebné získať jednotný tvar, pretože súčasný tvar je rôznorodý a zároveň nie je potrebné pre naše účely dátum narodenia pacienta, avšak súčasný vek pacienta môže byť potrebný, a preto nahradíme dátum narodenia za súčasný vek pacienta, ktorý môže byť pre nás viac informatívny"
   ]
  },
  {
   "cell_type": "code",
   "execution_count": 13,
   "id": "121e174d-d491-4bc3-b771-dcc04026a12a",
   "metadata": {},
   "outputs": [
    {
     "data": {
      "text/plain": [
       "0   1938-10-30\n",
       "1   1927-06-20\n",
       "2   1965-10-02\n",
       "3   1962-02-14\n",
       "4   1936-10-02\n",
       "Name: birthdate, dtype: datetime64[ns]"
      ]
     },
     "execution_count": 13,
     "metadata": {},
     "output_type": "execute_result"
    }
   ],
   "source": [
    "df_profiles['birthdate'] = df_profiles['birthdate'].astype('datetime64[ns]')\n",
    "df_profiles['birthdate'].head()"
   ]
  },
  {
   "cell_type": "code",
   "execution_count": 14,
   "id": "c6b8c087-4a9c-4117-9921-c4ac12cfdd60",
   "metadata": {},
   "outputs": [
    {
     "data": {
      "text/plain": [
       "False    3064\n",
       "Name: birthdate, dtype: int64"
      ]
     },
     "execution_count": 14,
     "metadata": {},
     "output_type": "execute_result"
    }
   ],
   "source": [
    "df_profiles['birthdate'].isna().value_counts()"
   ]
  },
  {
   "cell_type": "code",
   "execution_count": 15,
   "id": "5ca6b421-13af-4cdf-b9d2-da63c9d211a4",
   "metadata": {},
   "outputs": [
    {
     "data": {
      "text/plain": [
       "0    83\n",
       "1    94\n",
       "2    56\n",
       "3    59\n",
       "4    85\n",
       "Name: age, dtype: int64"
      ]
     },
     "execution_count": 15,
     "metadata": {},
     "output_type": "execute_result"
    }
   ],
   "source": [
    "def age(born):\n",
    "    \"\"\"\n",
    "    Computes current age.\n",
    "    \n",
    "    :param born: Date of birth \n",
    "    returns: Current age\n",
    "    \"\"\"\n",
    "    today = date.today()\n",
    "    return today.year - born.year - ((today.month, \n",
    "                                      today.day) < (born.month, \n",
    "                                                    born.day))\n",
    "  \n",
    "df_profiles['age'] = df_profiles['birthdate'].apply(age)\n",
    "df_profiles['age'].head()"
   ]
  },
  {
   "cell_type": "markdown",
   "id": "09251430-4ceb-4911-b8bc-4d6a7979b6cb",
   "metadata": {},
   "source": [
    " - **Atribút race** - neobsahuje žiadne chýbajúce hodnoty, hodnoty kategorizujeme nasledovne: **1(White), 2(Black), 3(Asian), 4(Hawaiian), 5(Indian)**"
   ]
  },
  {
   "cell_type": "code",
   "execution_count": 16,
   "id": "abd424ee-f2d8-4d17-b964-68aa8633bdf9",
   "metadata": {},
   "outputs": [
    {
     "data": {
      "text/plain": [
       "White       1565\n",
       "Black        722\n",
       "Asian        281\n",
       "Hawaiian     170\n",
       "Indian       159\n",
       "black        102\n",
       "white         36\n",
       "blsck         29\n",
       "Name: race, dtype: int64"
      ]
     },
     "execution_count": 16,
     "metadata": {},
     "output_type": "execute_result"
    }
   ],
   "source": [
    "df_profiles.race.value_counts()"
   ]
  },
  {
   "cell_type": "markdown",
   "id": "955aeecf-27e0-4b68-81a1-109792ebffd1",
   "metadata": {},
   "source": [
    "Najskôr musíme upraviť hodnoty kde je chyba a ktoré majú na začiatku malé písmeno namiesto veľkého."
   ]
  },
  {
   "cell_type": "code",
   "execution_count": 17,
   "id": "ae3e9326-f737-4489-9960-225670e32456",
   "metadata": {},
   "outputs": [
    {
     "data": {
      "text/plain": [
       "White       1601\n",
       "Black        853\n",
       "Asian        281\n",
       "Hawaiian     170\n",
       "Indian       159\n",
       "Name: race, dtype: int64"
      ]
     },
     "execution_count": 17,
     "metadata": {},
     "output_type": "execute_result"
    }
   ],
   "source": [
    "df_profiles['race'] = df_profiles['race'].replace({\"blsck\": \"Black\", \"black\": \"Black\", \"white\": \"White\"})\n",
    "df_profiles.race.value_counts()"
   ]
  },
  {
   "cell_type": "markdown",
   "id": "cb3970d3-bd1c-41c5-a401-814a8fb6ae4f",
   "metadata": {},
   "source": [
    "Následne tieto hodnoty kategorizujeme ako sme uviedli vyššie."
   ]
  },
  {
   "cell_type": "code",
   "execution_count": 18,
   "id": "39d4f643-9d4e-4c81-bbfa-b465652eee69",
   "metadata": {},
   "outputs": [
    {
     "data": {
      "text/plain": [
       "1    1601\n",
       "2     853\n",
       "3     281\n",
       "4     170\n",
       "5     159\n",
       "Name: race, dtype: int64"
      ]
     },
     "execution_count": 18,
     "metadata": {},
     "output_type": "execute_result"
    }
   ],
   "source": [
    "df_profiles['race'] = df_profiles['race'].replace({\"White\": 1,\"Black\": 2, \"Asian\": 3, \"Hawaiian\": 4, \"Indian\": 5})\n",
    "df_profiles = df_profiles.astype({'race': 'category'})\n",
    "df_profiles.race.value_counts()"
   ]
  },
  {
   "cell_type": "code",
   "execution_count": 19,
   "id": "9a46dbf0-d1d9-4204-802a-0fcba8e269df",
   "metadata": {},
   "outputs": [
    {
     "data": {
      "text/plain": [
       "0    1\n",
       "1    2\n",
       "2    2\n",
       "3    1\n",
       "4    5\n",
       "Name: race, dtype: category\n",
       "Categories (5, int64): [1, 2, 3, 4, 5]"
      ]
     },
     "execution_count": 19,
     "metadata": {},
     "output_type": "execute_result"
    }
   ],
   "source": [
    "df_profiles[\"race\"].head()"
   ]
  },
  {
   "cell_type": "markdown",
   "id": "0a9db012-5124-441e-b9f2-a2d5607a7f44",
   "metadata": {},
   "source": [
    "# TODO:\n",
    "- **Atribút ssn** - tento stĺpec je v poriadku, avšak po spojení dataframeov je nepotrebný pre naše účely, preto ho odstránime"
   ]
  },
  {
   "cell_type": "code",
   "execution_count": 20,
   "id": "5c274cc1-6d11-447a-8205-052d73b23859",
   "metadata": {},
   "outputs": [
    {
     "data": {
      "text/plain": [
       "0    518-82-6493\n",
       "1    015-03-8632\n",
       "2    898-78-8500\n",
       "3    478-72-0155\n",
       "4    683-31-6335\n",
       "Name: ssn, dtype: object"
      ]
     },
     "execution_count": 20,
     "metadata": {},
     "output_type": "execute_result"
    }
   ],
   "source": [
    "df_profiles[\"ssn\"].head()"
   ]
  },
  {
   "cell_type": "markdown",
   "id": "cf56d621-25cc-4e3f-a709-21a14ab16177",
   "metadata": {},
   "source": [
    " - **Atribút address** - tento stĺpec je celý v poriadku, avšak nepotrebný pre naše účely, preto ho nebudeme transformovať, ale odstránime ho"
   ]
  },
  {
   "cell_type": "code",
   "execution_count": 21,
   "id": "1bf61f10-470f-4c9b-ae84-ad17efc615a1",
   "metadata": {},
   "outputs": [
    {
     "data": {
      "text/plain": [
       "0    09441 Joyce Route Suite 717\\nWest Megan, GA 12969\n",
       "1                            USNS Miller\\nFPO AE 08377\n",
       "2             7747 Nicole Wells\\nShannonside, MI 84296\n",
       "3         228 Colleen Extension\\nLake Morgan, AL 34806\n",
       "4              08249 Gentry Fall\\nLewisshire, NY 20037\n",
       "Name: address, dtype: object"
      ]
     },
     "execution_count": 21,
     "metadata": {},
     "output_type": "execute_result"
    }
   ],
   "source": [
    "df_profiles[\"address\"].head()"
   ]
  },
  {
   "cell_type": "markdown",
   "id": "e62da1f0-f7d1-4f11-8263-0b02e1afde86",
   "metadata": {},
   "source": [
    "#### Dataset laboratórnych výsledkov  \n",
    "\n",
    " - **Atribút unnamed(0)** - slúži ako index/riadkovanie, preto celý stĺpec vymazať, nie je potrebný"
   ]
  },
  {
   "cell_type": "code",
   "execution_count": 22,
   "id": "db74252a-a7dd-471d-a384-047009d0b446",
   "metadata": {},
   "outputs": [
    {
     "data": {
      "text/html": [
       "<div>\n",
       "<style scoped>\n",
       "    .dataframe tbody tr th:only-of-type {\n",
       "        vertical-align: middle;\n",
       "    }\n",
       "\n",
       "    .dataframe tbody tr th {\n",
       "        vertical-align: top;\n",
       "    }\n",
       "\n",
       "    .dataframe thead th {\n",
       "        text-align: right;\n",
       "    }\n",
       "</style>\n",
       "<table border=\"1\" class=\"dataframe\">\n",
       "  <thead>\n",
       "    <tr style=\"text-align: right;\">\n",
       "      <th></th>\n",
       "      <th>hemoglobin</th>\n",
       "      <th>leukocyty</th>\n",
       "      <th>etytr</th>\n",
       "      <th>weight</th>\n",
       "      <th>trombocyty</th>\n",
       "      <th>ast</th>\n",
       "      <th>alp</th>\n",
       "      <th>relationship</th>\n",
       "      <th>name</th>\n",
       "      <th>alt</th>\n",
       "      <th>hbver</th>\n",
       "      <th>smoker</th>\n",
       "      <th>erytrocyty</th>\n",
       "      <th>er-cv</th>\n",
       "      <th>indicator</th>\n",
       "      <th>ssn</th>\n",
       "      <th>hematokrit</th>\n",
       "    </tr>\n",
       "  </thead>\n",
       "  <tbody>\n",
       "    <tr>\n",
       "      <th>0</th>\n",
       "      <td>6.77299</td>\n",
       "      <td>5.28153</td>\n",
       "      <td>4.79087</td>\n",
       "      <td>104.22450</td>\n",
       "      <td>7.22472</td>\n",
       "      <td>61.85014</td>\n",
       "      <td>80.77401</td>\n",
       "      <td>married</td>\n",
       "      <td>Kathryn Wagner</td>\n",
       "      <td>2.01576</td>\n",
       "      <td>9.04461</td>\n",
       "      <td>no</td>\n",
       "      <td>7.94417</td>\n",
       "      <td>61.31451</td>\n",
       "      <td>0.0</td>\n",
       "      <td>887-91-9698</td>\n",
       "      <td>5.40103</td>\n",
       "    </tr>\n",
       "    <tr>\n",
       "      <th>1</th>\n",
       "      <td>6.35217</td>\n",
       "      <td>5.45245</td>\n",
       "      <td>3.34754</td>\n",
       "      <td>65.03608</td>\n",
       "      <td>7.00407</td>\n",
       "      <td>66.90722</td>\n",
       "      <td>90.01585</td>\n",
       "      <td>widowed</td>\n",
       "      <td>Frank Becker</td>\n",
       "      <td>0.81519</td>\n",
       "      <td>9.09262</td>\n",
       "      <td>no</td>\n",
       "      <td>5.33302</td>\n",
       "      <td>58.00624</td>\n",
       "      <td>0.0</td>\n",
       "      <td>506-37-0250</td>\n",
       "      <td>7.68167</td>\n",
       "    </tr>\n",
       "    <tr>\n",
       "      <th>2</th>\n",
       "      <td>5.37162</td>\n",
       "      <td>7.36106</td>\n",
       "      <td>7.10989</td>\n",
       "      <td>63.61518</td>\n",
       "      <td>6.95232</td>\n",
       "      <td>65.33091</td>\n",
       "      <td>74.23784</td>\n",
       "      <td>married</td>\n",
       "      <td>Stephanie Lewis</td>\n",
       "      <td>0.79787</td>\n",
       "      <td>6.18215</td>\n",
       "      <td>no</td>\n",
       "      <td>6.38771</td>\n",
       "      <td>62.73102</td>\n",
       "      <td>1.0</td>\n",
       "      <td>331-52-1241</td>\n",
       "      <td>6.27422</td>\n",
       "    </tr>\n",
       "    <tr>\n",
       "      <th>3</th>\n",
       "      <td>4.60987</td>\n",
       "      <td>8.04010</td>\n",
       "      <td>4.97779</td>\n",
       "      <td>30.35294</td>\n",
       "      <td>6.63243</td>\n",
       "      <td>67.33708</td>\n",
       "      <td>34.67995</td>\n",
       "      <td>married</td>\n",
       "      <td>Luis Williams</td>\n",
       "      <td>0.83917</td>\n",
       "      <td>5.22920</td>\n",
       "      <td>no</td>\n",
       "      <td>5.05640</td>\n",
       "      <td>62.60592</td>\n",
       "      <td>1.0</td>\n",
       "      <td>407-22-7513</td>\n",
       "      <td>6.61263</td>\n",
       "    </tr>\n",
       "    <tr>\n",
       "      <th>4</th>\n",
       "      <td>5.97408</td>\n",
       "      <td>6.66899</td>\n",
       "      <td>5.58872</td>\n",
       "      <td>97.97181</td>\n",
       "      <td>6.18242</td>\n",
       "      <td>67.48751</td>\n",
       "      <td>89.31030</td>\n",
       "      <td>divoced</td>\n",
       "      <td>Donald Hall</td>\n",
       "      <td>1.20122</td>\n",
       "      <td>4.97805</td>\n",
       "      <td>yes</td>\n",
       "      <td>5.10205</td>\n",
       "      <td>59.32470</td>\n",
       "      <td>1.0</td>\n",
       "      <td>486-30-7935</td>\n",
       "      <td>6.23117</td>\n",
       "    </tr>\n",
       "  </tbody>\n",
       "</table>\n",
       "</div>"
      ],
      "text/plain": [
       "   hemoglobin  leukocyty    etytr     weight  trombocyty       ast       alp  \\\n",
       "0     6.77299    5.28153  4.79087  104.22450     7.22472  61.85014  80.77401   \n",
       "1     6.35217    5.45245  3.34754   65.03608     7.00407  66.90722  90.01585   \n",
       "2     5.37162    7.36106  7.10989   63.61518     6.95232  65.33091  74.23784   \n",
       "3     4.60987    8.04010  4.97779   30.35294     6.63243  67.33708  34.67995   \n",
       "4     5.97408    6.66899  5.58872   97.97181     6.18242  67.48751  89.31030   \n",
       "\n",
       "  relationship             name      alt    hbver smoker  erytrocyty  \\\n",
       "0      married   Kathryn Wagner  2.01576  9.04461     no     7.94417   \n",
       "1      widowed     Frank Becker  0.81519  9.09262     no     5.33302   \n",
       "2      married  Stephanie Lewis  0.79787  6.18215     no     6.38771   \n",
       "3      married    Luis Williams  0.83917  5.22920     no     5.05640   \n",
       "4      divoced      Donald Hall  1.20122  4.97805    yes     5.10205   \n",
       "\n",
       "      er-cv  indicator          ssn  hematokrit  \n",
       "0  61.31451        0.0  887-91-9698     5.40103  \n",
       "1  58.00624        0.0  506-37-0250     7.68167  \n",
       "2  62.73102        1.0  331-52-1241     6.27422  \n",
       "3  62.60592        1.0  407-22-7513     6.61263  \n",
       "4  59.32470        1.0  486-30-7935     6.23117  "
      ]
     },
     "execution_count": 22,
     "metadata": {},
     "output_type": "execute_result"
    }
   ],
   "source": [
    "df_labor=df_labor.drop(\"Unnamed: 0\", axis=1)\n",
    "df_labor.head()"
   ]
  },
  {
   "cell_type": "markdown",
   "id": "25fa384b-c076-41a8-a73f-4206b8a33f2b",
   "metadata": {},
   "source": [
    " - **Atribút hemoglobin** - obsahuje chýbajúce hodnoty, riešime ich nahradenie *_priemerom_*"
   ]
  },
  {
   "cell_type": "code",
   "execution_count": 4,
   "id": "56b72b21-6bb8-4469-bb85-0bce62e3efad",
   "metadata": {},
   "outputs": [],
   "source": [
    "meanNinja(\"hemoglobin\")"
   ]
  },
  {
   "cell_type": "markdown",
   "id": "42215a76-3c7e-4441-afc1-9b40dd7d1695",
   "metadata": {},
   "source": [
    "Dôkaz o tom, že chýbajúce hodnoty boli nahradené:"
   ]
  },
  {
   "cell_type": "code",
   "execution_count": 5,
   "id": "c87963fc-6ed9-4c14-ae0a-570bdac0c50d",
   "metadata": {},
   "outputs": [
    {
     "name": "stdout",
     "output_type": "stream",
     "text": [
      "Series([], Name: hemoglobin, dtype: float64)\n",
      "0\n"
     ]
    }
   ],
   "source": [
    "controlNinja(\"hemoglobin\")"
   ]
  },
  {
   "cell_type": "markdown",
   "id": "2a03afdb-ffa0-4454-a15a-0337c27892fa",
   "metadata": {},
   "source": [
    " - **Atribút leukocyty** - obsahuje chýbajúce hodnoty, riešime ich nahradenie *_priemerom_*"
   ]
  },
  {
   "cell_type": "code",
   "execution_count": 6,
   "id": "4ea246a1-ab3e-4aed-ba97-398daca927f9",
   "metadata": {},
   "outputs": [],
   "source": [
    "ratioNinja(\"leukocyty\",\"etytr\")"
   ]
  },
  {
   "cell_type": "markdown",
   "id": "a3c9b5ab-21cb-4fea-84b7-ffdcaf91bd97",
   "metadata": {},
   "source": [
    "Dôkaz o tom, že chýbajúce hodnoty boli nahradené:"
   ]
  },
  {
   "cell_type": "code",
   "execution_count": 7,
   "id": "57029558-879b-40f9-bbc4-79846948f18e",
   "metadata": {},
   "outputs": [
    {
     "name": "stdout",
     "output_type": "stream",
     "text": [
      "Series([], Name: leukocyty, dtype: float64)\n",
      "0\n"
     ]
    }
   ],
   "source": [
    "controlNinja(\"leukocyty\")"
   ]
  },
  {
   "cell_type": "markdown",
   "id": "22d26739-2299-4ae4-9ef4-89163f77653c",
   "metadata": {},
   "source": [
    " - **Atribút etytr** - obsahuje chýbajúce hodnoty, riešime ich nahradenie *<insert metóda>*"
   ]
  },
  {
   "cell_type": "code",
   "execution_count": 8,
   "id": "e80df1d9-467d-421e-86e7-2810a1ba4885",
   "metadata": {},
   "outputs": [],
   "source": [
    "regressionNinja(\"etytr\")"
   ]
  },
  {
   "cell_type": "markdown",
   "id": "ff67405a-dd8b-42ae-8c91-ddf33f9703d3",
   "metadata": {},
   "source": [
    "Dôkaz o tom, že chýbajúce hodnoty boli nahradené:"
   ]
  },
  {
   "cell_type": "code",
   "execution_count": 9,
   "id": "0090724c-2425-462e-ab39-360061395baa",
   "metadata": {},
   "outputs": [
    {
     "name": "stdout",
     "output_type": "stream",
     "text": [
      "Series([], Name: etytr, dtype: float64)\n",
      "0\n"
     ]
    }
   ],
   "source": [
    "controlNinja(\"etytr\")"
   ]
  },
  {
   "cell_type": "markdown",
   "id": "4c96a991-8a6d-404b-beae-6e71df1c9df2",
   "metadata": {},
   "source": [
    " - **Atribút weight** - neobsahuje žiadne chýbajúce hodnoty, avšak obsahuje chybné hodnoty(zápornú váhu), ktoré odstránime"
   ]
  },
  {
   "cell_type": "code",
   "execution_count": 29,
   "id": "38740c26-f104-4ea3-b8c4-7982837d9653",
   "metadata": {},
   "outputs": [
    {
     "data": {
      "text/plain": [
       "55     -12.45169\n",
       "92     -12.09550\n",
       "99     -32.91044\n",
       "101     -6.81291\n",
       "102     -2.97803\n",
       "          ...   \n",
       "9705   -16.85572\n",
       "9739    -5.06729\n",
       "9899    -3.18994\n",
       "9918    -4.53449\n",
       "9947    -4.22324\n",
       "Name: weight, Length: 203, dtype: float64"
      ]
     },
     "execution_count": 29,
     "metadata": {},
     "output_type": "execute_result"
    }
   ],
   "source": [
    "df_labor[\"weight\"].loc[df_labor[\"weight\"] < 0]"
   ]
  },
  {
   "cell_type": "code",
   "execution_count": 30,
   "id": "34ed5d8c-5629-452a-aeaf-2de1f19bdb90",
   "metadata": {},
   "outputs": [],
   "source": [
    "weight_median=df_labor[\"weight\"].median()\n",
    "df_labor.loc[df_labor[\"weight\"] < 0] = weight_median"
   ]
  },
  {
   "cell_type": "code",
   "execution_count": 31,
   "id": "8136420f-c106-4e6b-a751-0aad4fb7284c",
   "metadata": {},
   "outputs": [
    {
     "data": {
      "text/plain": [
       "0"
      ]
     },
     "execution_count": 31,
     "metadata": {},
     "output_type": "execute_result"
    }
   ],
   "source": [
    "df_labor[\"weight\"].loc[df_labor[\"weight\"] < 0].count()"
   ]
  },
  {
   "cell_type": "markdown",
   "id": "75034646-3383-438c-838a-fa17f051b7c1",
   "metadata": {},
   "source": [
    " - **Atribút trombocyty** - obsahuje chýbajúce hodnoty, riešime ich nahradenie *<insert metóda>*"
   ]
  },
  {
   "cell_type": "code",
   "execution_count": 10,
   "id": "e8afdbc5-79a4-4140-8b0b-1ddc7be5d10d",
   "metadata": {},
   "outputs": [],
   "source": [
    "meanNinja(\"trombocyty\")"
   ]
  },
  {
   "cell_type": "markdown",
   "id": "489670c5-9122-4567-be83-6bc85e63696d",
   "metadata": {},
   "source": [
    "Dôkaz o tom, že chýbajúce hodnoty boli nahradené:"
   ]
  },
  {
   "cell_type": "code",
   "execution_count": 11,
   "id": "aa0e963f-120e-4a83-998a-461809e72e86",
   "metadata": {},
   "outputs": [
    {
     "name": "stdout",
     "output_type": "stream",
     "text": [
      "Series([], Name: trombocyty, dtype: float64)\n",
      "0\n"
     ]
    }
   ],
   "source": [
    "controlNinja(\"trombocyty\")"
   ]
  },
  {
   "cell_type": "markdown",
   "id": "b36db736-e57f-4ef9-87d1-e962d2a06dee",
   "metadata": {},
   "source": [
    " - **Atribút ast** - obsahuje chýbajúce hodnoty, riešime ich nahradenie *<insert metóda>*"
   ]
  },
  {
   "cell_type": "code",
   "execution_count": 12,
   "id": "475e7544-00e9-48c5-961f-a22aa7175e1a",
   "metadata": {},
   "outputs": [],
   "source": [
    "knnNinja(\"ast\")"
   ]
  },
  {
   "cell_type": "markdown",
   "id": "1be6ee9c-da8a-445c-aae7-8b42abf2b962",
   "metadata": {},
   "source": [
    "Dôkaz o tom, že chýbajúce hodnoty boli nahradené:"
   ]
  },
  {
   "cell_type": "code",
   "execution_count": 13,
   "id": "40535c2c-11ce-4ae3-b8d2-c13114fa3841",
   "metadata": {},
   "outputs": [
    {
     "name": "stdout",
     "output_type": "stream",
     "text": [
      "Series([], Name: ast, dtype: float64)\n",
      "0\n"
     ]
    }
   ],
   "source": [
    "controlNinja(\"ast\")"
   ]
  },
  {
   "cell_type": "markdown",
   "id": "368ce639-1739-4949-9b25-2e10e6a62aad",
   "metadata": {},
   "source": [
    " - **Atribút alp** -obsahuje chýbajúce hodnoty, riešime ich nahradenie *<insert metóda>*"
   ]
  },
  {
   "cell_type": "code",
   "execution_count": 15,
   "id": "4a42557a-251d-47e3-9f68-77b880d4bbb6",
   "metadata": {},
   "outputs": [],
   "source": [
    "knnNinja(\"alp\")"
   ]
  },
  {
   "cell_type": "markdown",
   "id": "c94e14d0-eba7-4e06-a073-796b420cdfa2",
   "metadata": {},
   "source": [
    "Dôkaz o tom, že chýbajúce hodnoty boli nahradené:"
   ]
  },
  {
   "cell_type": "code",
   "execution_count": 16,
   "id": "d2fa9293-63d7-4452-9a3d-4aabeb628393",
   "metadata": {},
   "outputs": [
    {
     "name": "stdout",
     "output_type": "stream",
     "text": [
      "Series([], Name: alp, dtype: float64)\n",
      "0\n"
     ]
    }
   ],
   "source": [
    "controlNinja(\"alp\")"
   ]
  },
  {
   "cell_type": "markdown",
   "id": "fea43d44-eb7f-4c37-b6c9-de09bb31fb37",
   "metadata": {},
   "source": [
    " - **Atribút relationship** - neobsahuje žiadne chýbajúce hodnoty, avšak potrebné je kategorizovať hodnoty, zvolili sme kategorizovanie nasledovane: **1(Married), 2(Divorced), 3(Single), 4(Separated), 5(nop), 6(widowed)**"
   ]
  },
  {
   "cell_type": "code",
   "execution_count": 35,
   "id": "168efc93-5e09-4e17-a328-a98de8691017",
   "metadata": {},
   "outputs": [
    {
     "data": {
      "text/plain": [
       "divoced      2445\n",
       "married      2439\n",
       "single       1973\n",
       "separated    1053\n",
       "nop           981\n",
       "widowed       941\n",
       "69.49181      203\n",
       "Name: relationship, dtype: int64"
      ]
     },
     "execution_count": 35,
     "metadata": {},
     "output_type": "execute_result"
    }
   ],
   "source": [
    "df_labor.relationship.value_counts()"
   ]
  },
  {
   "cell_type": "code",
   "execution_count": 36,
   "id": "149548c4-c1ad-4795-93d0-f23004b928c2",
   "metadata": {},
   "outputs": [
    {
     "data": {
      "text/plain": [
       "2.0         2445\n",
       "1.0         2439\n",
       "3.0         1973\n",
       "4.0         1053\n",
       "5.0          981\n",
       "6.0          941\n",
       "69.49181     203\n",
       "Name: relationship, dtype: int64"
      ]
     },
     "execution_count": 36,
     "metadata": {},
     "output_type": "execute_result"
    }
   ],
   "source": [
    "df_labor['relationship'] = df_labor['relationship'].replace({\"married\": 1, \"divoced\": 2, \"single\": 3, \"separated\": 4, \"nop\": 5,\"widowed\": 6})\n",
    "df_labor = df_labor.astype({'relationship': 'category'})\n",
    "df_labor.relationship.value_counts()"
   ]
  },
  {
   "cell_type": "code",
   "execution_count": 37,
   "id": "94fa082f-f9ea-4207-a899-5f54351d8f5e",
   "metadata": {},
   "outputs": [
    {
     "name": "stderr",
     "output_type": "stream",
     "text": [
      "/home/erik/.local/lib/python3.9/site-packages/pandas/io/formats/format.py:1429: FutureWarning: Index.ravel returning ndarray is deprecated; in a future version this will return a view on self.\n",
      "  for val, m in zip(values.ravel(), mask.ravel())\n"
     ]
    },
    {
     "data": {
      "text/plain": [
       "0    1.0\n",
       "1    6.0\n",
       "2    1.0\n",
       "3    1.0\n",
       "4    2.0\n",
       "Name: relationship, dtype: category\n",
       "Categories (7, float64): [1.00000, 2.00000, 3.00000, 4.00000, 5.00000, 6.00000, 69.49181]"
      ]
     },
     "execution_count": 37,
     "metadata": {},
     "output_type": "execute_result"
    }
   ],
   "source": [
    "df_labor[\"relationship\"].head()"
   ]
  },
  {
   "cell_type": "markdown",
   "id": "0dc5bc00-4585-452b-ba94-246894e1b20d",
   "metadata": {},
   "source": [
    "# TODO:\n",
    "- **Atribút name** - neobsahuje žiadne chýbajúce hodnoty, potrebné pre spojenie dataframeov, potom už nepotrebné, preto odstránime"
   ]
  },
  {
   "cell_type": "code",
   "execution_count": 38,
   "id": "e182a9f2-0e5d-435a-aac2-e2f63ecb32c9",
   "metadata": {},
   "outputs": [
    {
     "data": {
      "text/plain": [
       "0            Kathryn Wagner\n",
       "1              Frank Becker\n",
       "2           Stephanie Lewis\n",
       "3             Luis Williams\n",
       "4               Donald Hall\n",
       "                ...        \n",
       "10030            Gary Parks\n",
       "10031        Michael Haynes\n",
       "10032         Donald Porter\n",
       "10033    Cassandra Williams\n",
       "10034          Jessica Diaz\n",
       "Name: name, Length: 10035, dtype: object"
      ]
     },
     "execution_count": 38,
     "metadata": {},
     "output_type": "execute_result"
    }
   ],
   "source": [
    "df_labor.name"
   ]
  },
  {
   "cell_type": "markdown",
   "id": "50f75bd9-cadb-4142-bd0f-1364fac95224",
   "metadata": {},
   "source": [
    " - **Atribút alt** - Obsahuje chýbajúce hodnoty, riešime ich nahradenie *<insert metóda>*"
   ]
  },
  {
   "cell_type": "code",
   "execution_count": 17,
   "id": "942e4191-4e2e-40c6-bdb6-063ea59b1316",
   "metadata": {},
   "outputs": [],
   "source": [
    "regressionNinja(\"alt\")"
   ]
  },
  {
   "cell_type": "markdown",
   "id": "63e9fe14-6d79-47e4-aea6-38534ae7a128",
   "metadata": {},
   "source": [
    "Dôkaz o tom, že chýbajúce hodnoty boli nahradené:"
   ]
  },
  {
   "cell_type": "code",
   "execution_count": 18,
   "id": "b8f50829-9125-44b1-9158-cf4dee5c6875",
   "metadata": {},
   "outputs": [
    {
     "name": "stdout",
     "output_type": "stream",
     "text": [
      "Series([], Name: alt, dtype: float64)\n",
      "0\n"
     ]
    }
   ],
   "source": [
    "controlNinja(\"alt\")"
   ]
  },
  {
   "cell_type": "markdown",
   "id": "a2f21827-444b-42a5-972c-8583587bb2de",
   "metadata": {},
   "source": [
    " - **Atribút erytrocyty** - obsahuje chýbajúce hodnoty"
   ]
  },
  {
   "cell_type": "code",
   "execution_count": 20,
   "id": "4e32c35e-c7c1-4fd0-b704-be932afb2cf3",
   "metadata": {},
   "outputs": [],
   "source": [
    "ratioNinja(\"erytrocyty\",\"alt\")"
   ]
  },
  {
   "cell_type": "markdown",
   "id": "6548da31-981b-418f-a310-9b7adc10c8bf",
   "metadata": {},
   "source": [
    "Dôkaz o tom, že chýbajúce hodnoty boli nahradené:"
   ]
  },
  {
   "cell_type": "code",
   "execution_count": 21,
   "id": "6f4512b6-9a69-40c3-8acf-29101e8acb7b",
   "metadata": {},
   "outputs": [
    {
     "name": "stdout",
     "output_type": "stream",
     "text": [
      "Series([], Name: erytrocyty, dtype: float64)\n",
      "0\n"
     ]
    }
   ],
   "source": [
    "controlNinja(\"erytrocyty\")"
   ]
  },
  {
   "cell_type": "markdown",
   "id": "c77656eb-bb8e-46cc-821f-0fe65c1fa6c9",
   "metadata": {},
   "source": [
    " - **Atribút hbver** - obsahuje chýbajúce hodnoty, riešime ich nahradenie *<insert metóda>*"
   ]
  },
  {
   "cell_type": "code",
   "execution_count": 22,
   "id": "7ea09434-eee9-4b35-9c2b-413f4752c294",
   "metadata": {},
   "outputs": [],
   "source": [
    "ratioNinja(\"hbver\",\"erytrocyty\")"
   ]
  },
  {
   "cell_type": "markdown",
   "id": "8ea6d285-c255-42db-92ca-a998ab0b25bd",
   "metadata": {},
   "source": [
    "Dôkaz o tom, že chýbajúce hodnoty boli nahradené:"
   ]
  },
  {
   "cell_type": "code",
   "execution_count": 23,
   "id": "c2938621-4167-4c8a-b8f6-20ad2c9820c4",
   "metadata": {},
   "outputs": [
    {
     "name": "stdout",
     "output_type": "stream",
     "text": [
      "Series([], Name: hbver, dtype: float64)\n",
      "0\n"
     ]
    }
   ],
   "source": [
    "controlNinja(\"hbver\")"
   ]
  },
  {
   "cell_type": "markdown",
   "id": "30520e2d-5912-405c-ae1e-c6dde4b67efd",
   "metadata": {},
   "source": [
    " - **Atribút smoker** - neobsahuje žiadne chýbajúce hodnoty, zjednotiť hodnoty(no, Y, yes, N) na dve a kategorizovať hodnoty nasledovane: **1(Yes), 0(No)**"
   ]
  },
  {
   "cell_type": "code",
   "execution_count": 41,
   "id": "4866babd-48a5-4652-9977-2eb17299fe15",
   "metadata": {},
   "outputs": [
    {
     "data": {
      "text/plain": [
       "no          5320\n",
       "Y           2046\n",
       "yes         1927\n",
       "N            539\n",
       "69.49181     203\n",
       "Name: smoker, dtype: int64"
      ]
     },
     "execution_count": 41,
     "metadata": {},
     "output_type": "execute_result"
    }
   ],
   "source": [
    "df_labor.smoker.value_counts()"
   ]
  },
  {
   "cell_type": "code",
   "execution_count": 42,
   "id": "fea9e698-bb02-4e45-9f45-155e67a82de2",
   "metadata": {},
   "outputs": [
    {
     "data": {
      "text/plain": [
       "0.0         5859\n",
       "1.0         3973\n",
       "69.49181     203\n",
       "Name: smoker, dtype: int64"
      ]
     },
     "execution_count": 42,
     "metadata": {},
     "output_type": "execute_result"
    }
   ],
   "source": [
    "df_labor['smoker'] = df_labor['smoker'].replace({\"no\": 0, \"N\": 0, \"yes\": 1, \"Y\": 1})\n",
    "df_labor = df_labor.astype({'smoker': 'category'})\n",
    "df_labor.smoker.value_counts()"
   ]
  },
  {
   "cell_type": "markdown",
   "id": "3e01824c-c025-4e72-86e3-41b59b479248",
   "metadata": {},
   "source": [
    "Dôkaz o tom, že chýbajúce hodnoty boli nahradené:"
   ]
  },
  {
   "cell_type": "code",
   "execution_count": 43,
   "id": "69965819-c867-4acf-8dc2-5fe33b2739db",
   "metadata": {},
   "outputs": [
    {
     "data": {
      "text/plain": [
       "0    0.0\n",
       "1    0.0\n",
       "2    0.0\n",
       "3    0.0\n",
       "4    1.0\n",
       "Name: smoker, dtype: category\n",
       "Categories (3, float64): [0.00000, 1.00000, 69.49181]"
      ]
     },
     "execution_count": 43,
     "metadata": {},
     "output_type": "execute_result"
    }
   ],
   "source": [
    "df_labor[\"smoker\"].head()"
   ]
  },
  {
   "cell_type": "markdown",
   "id": "13d9d367-8b12-4eed-bc25-cb0f6bfcc9e9",
   "metadata": {},
   "source": [
    " - **Atribút er-cv** - obsahuje chýbajúce hodnoty"
   ]
  },
  {
   "cell_type": "code",
   "execution_count": 24,
   "id": "aa6d47de-3711-4d48-a411-eae68c04713b",
   "metadata": {},
   "outputs": [],
   "source": [
    "medianNinja(\"er-cv\")"
   ]
  },
  {
   "cell_type": "markdown",
   "id": "b7c633a4-803e-421b-9045-624e502e2b47",
   "metadata": {},
   "source": [
    "Dôkaz o tom, že chýbajúce hodnoty boli nahradené:"
   ]
  },
  {
   "cell_type": "code",
   "execution_count": 25,
   "id": "4fd7f442-b0dd-40ca-84a0-79c55f2b3d43",
   "metadata": {},
   "outputs": [
    {
     "name": "stdout",
     "output_type": "stream",
     "text": [
      "Series([], Name: er-cv, dtype: float64)\n",
      "0\n"
     ]
    }
   ],
   "source": [
    "controlNinja(\"er-cv\")"
   ]
  },
  {
   "cell_type": "markdown",
   "id": "27c61b60-3bd7-4e9f-a2f3-78633542e4f3",
   "metadata": {},
   "source": [
    " - **Atribút indicator** - neobsahuje žiadne chýbajúce hodnoty, zmeniť dátový typ stĺpcu"
   ]
  },
  {
   "cell_type": "code",
   "execution_count": 46,
   "id": "2fa88466-b355-45c8-a57e-85c6157a5747",
   "metadata": {},
   "outputs": [
    {
     "data": {
      "text/plain": [
       "1.0         6304\n",
       "0.0         3528\n",
       "69.49181     203\n",
       "Name: indicator, dtype: int64"
      ]
     },
     "execution_count": 46,
     "metadata": {},
     "output_type": "execute_result"
    }
   ],
   "source": [
    "df_labor = df_labor.astype({'indicator': 'category'})\n",
    "df_labor.indicator.value_counts()"
   ]
  },
  {
   "cell_type": "code",
   "execution_count": 47,
   "id": "0064d2ed-84bf-47c2-aa8c-e76ca0c55de5",
   "metadata": {},
   "outputs": [
    {
     "data": {
      "text/plain": [
       "0    0.0\n",
       "1    0.0\n",
       "2    1.0\n",
       "3    1.0\n",
       "4    1.0\n",
       "Name: indicator, dtype: category\n",
       "Categories (3, float64): [0.00000, 1.00000, 69.49181]"
      ]
     },
     "execution_count": 47,
     "metadata": {},
     "output_type": "execute_result"
    }
   ],
   "source": [
    "df_labor[\"indicator\"].head()"
   ]
  },
  {
   "cell_type": "markdown",
   "id": "1b7c36da-af65-47b6-a9c4-d50fda0d2a4b",
   "metadata": {},
   "source": [
    "# TODO\n",
    "- **Atribút ssn** - neobsahuje žiadne chýbajúce hodnoty, ale je neptorebný po zlúčei tabuliek, preto vymažeme"
   ]
  },
  {
   "cell_type": "code",
   "execution_count": null,
   "id": "724ab0b9-89c3-4847-8f9a-74d4dfdec1a5",
   "metadata": {},
   "outputs": [],
   "source": []
  },
  {
   "cell_type": "markdown",
   "id": "e8f9c24f-f0a6-46b0-84fb-bb77838f80a1",
   "metadata": {},
   "source": [
    " - **Atribút hematokrit** - obsahuje chýbajúce hodnoty"
   ]
  },
  {
   "cell_type": "code",
   "execution_count": 27,
   "id": "190f834b-3ce9-4d70-b6f1-e35adf5b4d85",
   "metadata": {},
   "outputs": [],
   "source": [
    "medianNinja(\"hematokrit\")"
   ]
  },
  {
   "cell_type": "markdown",
   "id": "54ad20b2-d62a-4eeb-b491-7ec09ac499d6",
   "metadata": {},
   "source": [
    "Dôkaz o tom, že chýbajúce hodnoty boli nahradené:"
   ]
  },
  {
   "cell_type": "code",
   "execution_count": 28,
   "id": "098301f2-9d9a-4671-94fb-72bc23a7424d",
   "metadata": {},
   "outputs": [
    {
     "name": "stdout",
     "output_type": "stream",
     "text": [
      "Series([], Name: hematokrit, dtype: float64)\n",
      "0\n"
     ]
    }
   ],
   "source": [
    "controlNinja(\"hematokrit\")"
   ]
  },
  {
   "cell_type": "markdown",
   "id": "b5aa77a0-1e20-4e8a-91c6-955f0382b4fb",
   "metadata": {
    "tags": []
   },
   "source": [
    "#### Deduplikácia (odstránenie duplikátov)"
   ]
  },
  {
   "cell_type": "code",
   "execution_count": 49,
   "id": "15e5a946-38ac-4a85-a015-3b5197d21e12",
   "metadata": {
    "tags": []
   },
   "outputs": [
    {
     "data": {
      "text/plain": [
       "False    9636\n",
       "True      399\n",
       "dtype: int64"
      ]
     },
     "execution_count": 49,
     "metadata": {},
     "output_type": "execute_result"
    }
   ],
   "source": [
    "df_labor.duplicated(keep=False).value_counts()"
   ]
  },
  {
   "cell_type": "code",
   "execution_count": 50,
   "id": "0618ba95-75bb-4424-ab3d-ac6df3b6847c",
   "metadata": {
    "tags": []
   },
   "outputs": [
    {
     "data": {
      "text/plain": [
       "False    9735\n",
       "dtype: int64"
      ]
     },
     "execution_count": 50,
     "metadata": {},
     "output_type": "execute_result"
    }
   ],
   "source": [
    "df_labor=df_labor.drop_duplicates()\n",
    "df_labor.duplicated(keep=False).value_counts()"
   ]
  },
  {
   "cell_type": "markdown",
   "id": "57e230ab-f12d-4fb1-9e2b-bd624d8055f6",
   "metadata": {},
   "source": [
    "#### Outliers"
   ]
  },
  {
   "cell_type": "code",
   "execution_count": 51,
   "id": "7ffd36df-ad0a-40fe-bb8a-00bd5efc77bf",
   "metadata": {},
   "outputs": [],
   "source": [
    "def outlier_ninja(column):\n",
    "    global df_labor\n",
    "    df_labor.loc[df_labor[column] < df_labor[column].quantile(.05), column] = df_labor[column].quantile(.05)\n",
    "    df_labor.loc[df_labor[column] > df_labor[column].quantile(.95) , column] = df_labor[column].quantile(.95) \n",
    "\n",
    "def release_outlier_ninja():\n",
    "    global df_labor\n",
    "    outlier_ninja('leukocyty')\n",
    "    outlier_ninja('hemoglobin')\n",
    "    outlier_ninja('erytrocyty')\n",
    "\n",
    "\n",
    "def outlier_ninja2(column):\n",
    "    global df_labor\n",
    "    if ((stats.skew(df_labor[column]) < -2) or (stats.skew(df_labor[column]) > 2)):\n",
    "        df_labor[column] = np.log(df_labor[column]+ (-df_labor[column].min()))\n",
    "    df_labor.loc[df_labor[column] < df_labor[column].quantile(.05), column] = df_labor[column].quantile(.05)\n",
    "    df_labor.loc[df_labor[column] > df_labor[column].quantile(.95) , column] = df_labor[column].quantile(.95) \n",
    "\n",
    "def release_outlier_ninja2():\n",
    "    global df_labor\n",
    "    outlier_ninja2('leukocyty')\n",
    "    outlier_ninja2('hemoglobin')\n",
    "    outlier_ninja2('erytrocyty')\n",
    "\n"
   ]
  },
  {
   "cell_type": "code",
   "execution_count": 52,
   "id": "3e764c9e-df90-4f85-8aa2-c181a1449b10",
   "metadata": {},
   "outputs": [],
   "source": [
    "release_outlier_ninja()"
   ]
  },
  {
   "cell_type": "code",
   "execution_count": 53,
   "id": "a168d430-3e33-44e0-b800-bed9564083f9",
   "metadata": {},
   "outputs": [
    {
     "data": {
      "text/plain": [
       "<AxesSubplot:>"
      ]
     },
     "execution_count": 53,
     "metadata": {},
     "output_type": "execute_result"
    },
    {
     "data": {
      "image/png": "[encoded data removed]",
      "text/plain": [
       "<Figure size 432x288 with 1 Axes>"
      ]
     },
     "metadata": {
      "needs_background": "light"
     },
     "output_type": "display_data"
    }
   ],
   "source": [
    "df_labor.boxplot(column=['leukocyty'])"
   ]
  },
  {
   "cell_type": "code",
   "execution_count": 54,
   "id": "0c1771a5-688a-4d05-a6d0-61b242665637",
   "metadata": {},
   "outputs": [],
   "source": [
    "release_outlier_ninja2()"
   ]
  },
  {
   "cell_type": "code",
   "execution_count": 55,
   "id": "039744bc-b490-4a8f-9d6e-49635d2eb268",
   "metadata": {},
   "outputs": [
    {
     "data": {
      "text/plain": [
       "<AxesSubplot:>"
      ]
     },
     "execution_count": 55,
     "metadata": {},
     "output_type": "execute_result"
    },
    {
     "data": {
      "image/png": "[encoded data removed]",
      "text/plain": [
       "<Figure size 432x288 with 1 Axes>"
      ]
     },
     "metadata": {
      "needs_background": "light"
     },
     "output_type": "display_data"
    }
   ],
   "source": [
    "df_labor.boxplot(column=['leukocyty'])"
   ]
  },
  {
   "cell_type": "markdown",
   "id": "cf02328a-aa6e-469a-8cb5-0036583cadfa",
   "metadata": {},
   "source": [
    "#### Spojenie datasetov  \n",
    "\n",
    "Spojenie datasetov riešime metódou dataframu **merge** na základe *_ssn_* a *_name_*:"
   ]
  },
  {
   "cell_type": "code",
   "execution_count": 56,
   "id": "f86d00b4-9313-4c98-8ce3-d0526d8ea18c",
   "metadata": {},
   "outputs": [
    {
     "name": "stdout",
     "output_type": "stream",
     "text": [
      "<class 'pandas.core.frame.DataFrame'>\n",
      "Int64Index: 9734 entries, 0 to 9733\n",
      "Data columns (total 25 columns):\n",
      " #   Column            Non-Null Count  Dtype         \n",
      "---  ------            --------------  -----         \n",
      " 0   hemoglobin        9704 non-null   float64       \n",
      " 1   leukocyty         9705 non-null   float64       \n",
      " 2   etytr             9705 non-null   float64       \n",
      " 3   weight            9734 non-null   float64       \n",
      " 4   trombocyty        9704 non-null   float64       \n",
      " 5   ast               9704 non-null   float64       \n",
      " 6   alp               9704 non-null   float64       \n",
      " 7   relationship      9734 non-null   category      \n",
      " 8   name              9734 non-null   object        \n",
      " 9   alt               9705 non-null   float64       \n",
      " 10  hbver             9704 non-null   float64       \n",
      " 11  smoker            9734 non-null   category      \n",
      " 12  erytrocyty        9704 non-null   float64       \n",
      " 13  er-cv             9704 non-null   float64       \n",
      " 14  indicator         9734 non-null   category      \n",
      " 15  ssn               9734 non-null   object        \n",
      " 16  hematokrit        9704 non-null   float64       \n",
      " 17  sex               9734 non-null   category      \n",
      " 18  current_location  9734 non-null   object        \n",
      " 19  blood_group       9734 non-null   category      \n",
      " 20  residence         9734 non-null   object        \n",
      " 21  birthdate         9734 non-null   datetime64[ns]\n",
      " 22  race              9734 non-null   category      \n",
      " 23  address           9734 non-null   object        \n",
      " 24  age               9734 non-null   int64         \n",
      "dtypes: category(6), datetime64[ns](1), float64(12), int64(1), object(5)\n",
      "memory usage: 1.5+ MB\n"
     ]
    }
   ],
   "source": [
    "df_merged = df_labor.merge(df_profiles, on=['ssn', 'name'], how='inner')\n",
    "df_merged.info()"
   ]
  },
  {
   "cell_type": "markdown",
   "id": "77778661-5026-4184-ac77-ad43bb98d332",
   "metadata": {},
   "source": [
    "Na základe **info** je potrebné riešiť transformáciu viacerých údajov na numerické"
   ]
  },
  {
   "cell_type": "code",
   "execution_count": null,
   "id": "2037bcf8-98d1-40f6-97c3-a18e71288067",
   "metadata": {},
   "outputs": [],
   "source": []
  },
  {
   "cell_type": "markdown",
   "id": "20b6e3de-a402-4d41-a4e6-96dbfc166ca9",
   "metadata": {},
   "source": [
    "## 2. Realizácia predspracovania dát \n",
    "\n",
    "### Zadanie  \n",
    "- Transformované dáta pre strojové učenie si rozdeľuje na trénovaciu a testovaciu množinu (train and test dataset) podľa vami preddefinovaným pomerom. Naďalej pracujte len s trénovacím datasetom.\n",
    "- Transformujte atribútov dát pre strojové učenie podľa dostupných techník (minimálne 2 techniky) ako scaling, transformers a ďalšie.\n",
    "- Zdôvodnite Vašu voľby/rozhodnutie pre realizáciu (t.j. zdokumentovanie)\n",
    "    \n",
    "### Riešenie\n",
    "\n"
   ]
  },
  {
   "cell_type": "code",
   "execution_count": 29,
   "id": "7a7f71f0-10f7-42a7-b2c3-9606b60868af",
   "metadata": {},
   "outputs": [],
   "source": [
    "def scalingNinja(df_toScale):   \n",
    "    min_max_scaler = preprocessing.MinMaxScaler(feature_range =(0, 1))\n",
    "    scaled_dataframe = min_max_scaler.fit_transform(df_toScale.values.reshape(-1,1))\n",
    "    return scaled_dataframe\n",
    "\n",
    "def standardisatingNinja(df_toScale):\n",
    "    Standardisation = preprocessing.StandardScaler()\n",
    "    scaled_dataframe = Standardisation.fit_transform(df_toScale.values.reshape(-1,1))\n",
    "    return scaled_dataframe\n",
    "\n",
    "def powerTransform(df_toTransform):\n",
    "    return power_transform(df_toTransform.values.reshape(-1,1))"
   ]
  },
  {
   "cell_type": "code",
   "execution_count": 30,
   "id": "04b76b7a-ee7d-41d7-8c72-a5f194f878ec",
   "metadata": {},
   "outputs": [
    {
     "data": {
      "text/plain": [
       "0    0.618501\n",
       "1    0.669072\n",
       "2    0.653309\n",
       "3    0.673371\n",
       "4    0.674875\n",
       "Name: ast, dtype: float64"
      ]
     },
     "execution_count": 30,
     "metadata": {},
     "output_type": "execute_result"
    }
   ],
   "source": [
    "df_labor[\"ast\"] = scalingNinja(df_labor[\"ast\"])\n",
    "df_labor[\"ast\"].head()"
   ]
  },
  {
   "cell_type": "code",
   "execution_count": 31,
   "id": "754d208c-48e1-42df-9091-7dc295114b2b",
   "metadata": {},
   "outputs": [
    {
     "data": {
      "text/plain": [
       "0    0.497458\n",
       "1    0.983211\n",
       "2    0.153915\n",
       "3   -1.925259\n",
       "4    0.946127\n",
       "Name: alp, dtype: float64"
      ]
     },
     "execution_count": 31,
     "metadata": {},
     "output_type": "execute_result"
    }
   ],
   "source": [
    "df_labor[\"alp\"] = standardisatingNinja(df_labor[\"alp\"])\n",
    "df_labor[\"alp\"].head()"
   ]
  },
  {
   "cell_type": "code",
   "execution_count": 32,
   "id": "7a3b8312-9cd5-4790-abaf-d7610f03ba44",
   "metadata": {},
   "outputs": [
    {
     "data": {
      "text/plain": [
       "0    0.675003\n",
       "1   -0.897033\n",
       "2   -0.938073\n",
       "3   -0.841692\n",
       "4   -0.173226\n",
       "Name: alt, dtype: float64"
      ]
     },
     "execution_count": 32,
     "metadata": {},
     "output_type": "execute_result"
    }
   ],
   "source": [
    "df_labor[\"alt\"] = powerTransform(df_labor[\"alt\"])\n",
    "df_labor[\"alt\"].head()"
   ]
  },
  {
   "cell_type": "code",
   "execution_count": 33,
   "id": "83044e0d-3688-4428-883b-53a1f9a31410",
   "metadata": {},
   "outputs": [
    {
     "data": {
      "text/html": [
       "<div>\n",
       "<style scoped>\n",
       "    .dataframe tbody tr th:only-of-type {\n",
       "        vertical-align: middle;\n",
       "    }\n",
       "\n",
       "    .dataframe tbody tr th {\n",
       "        vertical-align: top;\n",
       "    }\n",
       "\n",
       "    .dataframe thead th {\n",
       "        text-align: right;\n",
       "    }\n",
       "</style>\n",
       "<table border=\"1\" class=\"dataframe\">\n",
       "  <thead>\n",
       "    <tr style=\"text-align: right;\">\n",
       "      <th></th>\n",
       "      <th>Unnamed: 0</th>\n",
       "      <th>hemoglobin</th>\n",
       "      <th>leukocyty</th>\n",
       "      <th>etytr</th>\n",
       "      <th>weight</th>\n",
       "      <th>trombocyty</th>\n",
       "      <th>ast</th>\n",
       "      <th>alp</th>\n",
       "      <th>relationship</th>\n",
       "      <th>name</th>\n",
       "      <th>alt</th>\n",
       "      <th>hbver</th>\n",
       "      <th>smoker</th>\n",
       "      <th>erytrocyty</th>\n",
       "      <th>er-cv</th>\n",
       "      <th>indicator</th>\n",
       "      <th>ssn</th>\n",
       "      <th>hematokrit</th>\n",
       "    </tr>\n",
       "  </thead>\n",
       "  <tbody>\n",
       "    <tr>\n",
       "      <th>0</th>\n",
       "      <td>0</td>\n",
       "      <td>6.77299</td>\n",
       "      <td>5.28153</td>\n",
       "      <td>4.79087</td>\n",
       "      <td>104.22450</td>\n",
       "      <td>7.22472</td>\n",
       "      <td>0.618501</td>\n",
       "      <td>0.497458</td>\n",
       "      <td>married</td>\n",
       "      <td>Kathryn Wagner</td>\n",
       "      <td>0.675003</td>\n",
       "      <td>9.04461</td>\n",
       "      <td>no</td>\n",
       "      <td>7.94417</td>\n",
       "      <td>61.31451</td>\n",
       "      <td>0.0</td>\n",
       "      <td>887-91-9698</td>\n",
       "      <td>5.40103</td>\n",
       "    </tr>\n",
       "    <tr>\n",
       "      <th>1</th>\n",
       "      <td>1</td>\n",
       "      <td>6.35217</td>\n",
       "      <td>5.45245</td>\n",
       "      <td>3.34754</td>\n",
       "      <td>65.03608</td>\n",
       "      <td>7.00407</td>\n",
       "      <td>0.669072</td>\n",
       "      <td>0.983211</td>\n",
       "      <td>widowed</td>\n",
       "      <td>Frank Becker</td>\n",
       "      <td>-0.897033</td>\n",
       "      <td>9.09262</td>\n",
       "      <td>no</td>\n",
       "      <td>5.33302</td>\n",
       "      <td>58.00624</td>\n",
       "      <td>0.0</td>\n",
       "      <td>506-37-0250</td>\n",
       "      <td>7.68167</td>\n",
       "    </tr>\n",
       "    <tr>\n",
       "      <th>2</th>\n",
       "      <td>2</td>\n",
       "      <td>5.37162</td>\n",
       "      <td>7.36106</td>\n",
       "      <td>7.10989</td>\n",
       "      <td>63.61518</td>\n",
       "      <td>6.95232</td>\n",
       "      <td>0.653309</td>\n",
       "      <td>0.153915</td>\n",
       "      <td>married</td>\n",
       "      <td>Stephanie Lewis</td>\n",
       "      <td>-0.938073</td>\n",
       "      <td>6.18215</td>\n",
       "      <td>no</td>\n",
       "      <td>6.38771</td>\n",
       "      <td>62.73102</td>\n",
       "      <td>1.0</td>\n",
       "      <td>331-52-1241</td>\n",
       "      <td>6.27422</td>\n",
       "    </tr>\n",
       "    <tr>\n",
       "      <th>3</th>\n",
       "      <td>3</td>\n",
       "      <td>4.60987</td>\n",
       "      <td>8.04010</td>\n",
       "      <td>4.97779</td>\n",
       "      <td>30.35294</td>\n",
       "      <td>6.63243</td>\n",
       "      <td>0.673371</td>\n",
       "      <td>-1.925259</td>\n",
       "      <td>married</td>\n",
       "      <td>Luis Williams</td>\n",
       "      <td>-0.841692</td>\n",
       "      <td>5.22920</td>\n",
       "      <td>no</td>\n",
       "      <td>5.05640</td>\n",
       "      <td>62.60592</td>\n",
       "      <td>1.0</td>\n",
       "      <td>407-22-7513</td>\n",
       "      <td>6.61263</td>\n",
       "    </tr>\n",
       "    <tr>\n",
       "      <th>4</th>\n",
       "      <td>4</td>\n",
       "      <td>5.97408</td>\n",
       "      <td>6.66899</td>\n",
       "      <td>5.58872</td>\n",
       "      <td>97.97181</td>\n",
       "      <td>6.18242</td>\n",
       "      <td>0.674875</td>\n",
       "      <td>0.946127</td>\n",
       "      <td>divoced</td>\n",
       "      <td>Donald Hall</td>\n",
       "      <td>-0.173226</td>\n",
       "      <td>4.97805</td>\n",
       "      <td>yes</td>\n",
       "      <td>5.10205</td>\n",
       "      <td>59.32470</td>\n",
       "      <td>1.0</td>\n",
       "      <td>486-30-7935</td>\n",
       "      <td>6.23117</td>\n",
       "    </tr>\n",
       "  </tbody>\n",
       "</table>\n",
       "</div>"
      ],
      "text/plain": [
       "   Unnamed: 0  hemoglobin  leukocyty    etytr     weight  trombocyty  \\\n",
       "0           0     6.77299    5.28153  4.79087  104.22450     7.22472   \n",
       "1           1     6.35217    5.45245  3.34754   65.03608     7.00407   \n",
       "2           2     5.37162    7.36106  7.10989   63.61518     6.95232   \n",
       "3           3     4.60987    8.04010  4.97779   30.35294     6.63243   \n",
       "4           4     5.97408    6.66899  5.58872   97.97181     6.18242   \n",
       "\n",
       "        ast       alp relationship             name       alt    hbver smoker  \\\n",
       "0  0.618501  0.497458      married   Kathryn Wagner  0.675003  9.04461     no   \n",
       "1  0.669072  0.983211      widowed     Frank Becker -0.897033  9.09262     no   \n",
       "2  0.653309  0.153915      married  Stephanie Lewis -0.938073  6.18215     no   \n",
       "3  0.673371 -1.925259      married    Luis Williams -0.841692  5.22920     no   \n",
       "4  0.674875  0.946127      divoced      Donald Hall -0.173226  4.97805    yes   \n",
       "\n",
       "   erytrocyty     er-cv  indicator          ssn  hematokrit  \n",
       "0     7.94417  61.31451        0.0  887-91-9698     5.40103  \n",
       "1     5.33302  58.00624        0.0  506-37-0250     7.68167  \n",
       "2     6.38771  62.73102        1.0  331-52-1241     6.27422  \n",
       "3     5.05640  62.60592        1.0  407-22-7513     6.61263  \n",
       "4     5.10205  59.32470        1.0  486-30-7935     6.23117  "
      ]
     },
     "execution_count": 33,
     "metadata": {},
     "output_type": "execute_result"
    }
   ],
   "source": [
    "df_labor.head()"
   ]
  },
  {
   "cell_type": "markdown",
   "id": "6380af47-91eb-4906-b52c-f2dd3e9760e6",
   "metadata": {},
   "source": [
    "## 3. Výber atribútov pre strojové učenie\n",
    "\n",
    "### Zadanie  \n",
    "- Zistite ktoré atribúty (features) vo vašich dátach pre strojové učenie sú informatívne k atribútu “indikator”.\n",
    "- Zoradíte tie atribúty v poradí podľa dôležitosti. \n",
    "- Zdôvodnite Vašu voľby/rozhodnutie pre realizáciu (t.j. zdokumentovanie) \n",
    "\n",
    "### Riešenie\n",
    "\n",
    "\n"
   ]
  },
  {
   "cell_type": "code",
   "execution_count": null,
   "id": "684c5c00-8425-4dd7-a83e-e927195403f7",
   "metadata": {},
   "outputs": [],
   "source": []
  },
  {
   "cell_type": "markdown",
   "id": "b8346d3d-3133-437f-9c84-e1dd41c2bc58",
   "metadata": {},
   "source": [
    "## 4. Replikovateľnosť predspracovania\n",
    "\n",
    "### Zadanie  \n",
    "- Upravte váš kód realizujúci predspracovanie trénovacej množiny tak, aby ho bolo možné bez ďalších úprav znovu použiť na predspracovanie testovacej množiny (napr. pomocou funkcie/í)\n",
    "- Očakáva sa aj využitie možnosti sklearn.pipeline\n",
    "\n",
    "### Riešenie  \n",
    "\n",
    " - Pre replikovateľnosť kódu znovu načítame dataset, aby sme mohli realizovať jednoltivé časti zadania vo funkciách:  "
   ]
  },
  {
   "cell_type": "code",
   "execution_count": 3,
   "id": "34fcc57b-eda8-42ad-b3c5-f52445022d57",
   "metadata": {},
   "outputs": [],
   "source": [
    "# read labor and profiles dataset\n",
    "df_labor_ = pd.read_csv('../../data/labor.csv', sep='\\t')\n",
    "df_profiles_ = pd.read_csv('../../data/profiles.csv', sep='\\t')"
   ]
  },
  {
   "cell_type": "markdown",
   "id": "c574f78e-ed0e-454f-9b1d-5c660d879a3d",
   "metadata": {},
   "source": [
    " - spojenie datasetov cez funkciu: "
   ]
  },
  {
   "cell_type": "code",
   "execution_count": 40,
   "id": "1bd6034e-1128-44a1-bdc0-9f55707d4a6d",
   "metadata": {},
   "outputs": [],
   "source": [
    "# https://stackoverflow.com/questions/48320396/create-a-custom-sklearn-transformermixin-that-transforms-categorical-variables-c\n",
    "class MergeTransformer(TransformerMixin):\n",
    "    \"\"\"\n",
    "    A tranformer for merging 2 datasets.\n",
    "    \"\"\"\n",
    "    cols = list()\n",
    "    \n",
    "    def __init__(self, *args, **kwargs):\n",
    "        \"\"\"\n",
    "        Initialize method.\n",
    "\n",
    "        :param *args: 2 datasets are instance of pandas.core.frame.DataFrame\n",
    "        :param **kwargs: dictionary of names of columns\n",
    "        \"\"\"\n",
    "        self.data1 = args[0]\n",
    "        self.data2 = args[1]\n",
    "        for col in kwargs.values():\n",
    "            self.cols.append(col)\n",
    "        \n",
    "    def fit(self, X, y=None):\n",
    "        \"\"\"\n",
    "        Fits transformer over data.\n",
    "\n",
    "        :param X: The dataset to pass to the transformer.\n",
    "        :returns: The transformer.\n",
    "        \"\"\"\n",
    "        return self\n",
    "    \n",
    "    def transform(self, X, **transform_params):\n",
    "        \"\"\"\n",
    "        Function to merge 2 datasets in *args with columns in **kwargs.\n",
    "\n",
    "        :param X: 2 datasets are instance of pandas.core.frame.DataFrame\n",
    "        :returns: pandas.core.frame.DataFrame\n",
    "        \"\"\"\n",
    "        X = self.data1.merge(self.data2, on=self.cols, how = 'inner')\n",
    "        return X"
   ]
  },
  {
   "cell_type": "markdown",
   "id": "91d6eadd-1f18-4f8c-afb6-1f2052e2a3c1",
   "metadata": {},
   "source": [
    " - odstránenie zadaných stĺpcov cez funkciu"
   ]
  },
  {
   "cell_type": "code",
   "execution_count": 42,
   "id": "4ba8a948-8977-43e3-82e4-a1e49e8bb9cd",
   "metadata": {},
   "outputs": [],
   "source": [
    "class DropColsTransformer(TransformerMixin):\n",
    "    \"\"\"\n",
    "    A tranformer for droping columns from the dataset.\n",
    "    \"\"\"\n",
    "    \n",
    "    def __init__(self, data, *args):\n",
    "        \"\"\"\n",
    "        Initialize method.\n",
    "\n",
    "        :param data: The dataset is instance of pandas.core.frame.DataFrame\n",
    "        :param *args: tuple of *str, specifing cols to be dropped\n",
    "        \"\"\"\n",
    "        self.data = data\n",
    "        self.cols = list(args)\n",
    "        \n",
    "    def fit(self, X, y=None):\n",
    "        \"\"\"\n",
    "        Fits transformer over data.\n",
    "\n",
    "        :param X: The dataset to pass to the transformer.\n",
    "        :returns: The transformer.\n",
    "        \"\"\"\n",
    "        return self\n",
    "    \n",
    "    def transform(self, X, **transform_params):\n",
    "        \"\"\"\n",
    "        Function to delete columns specified in *args to be deleted from data.\n",
    "\n",
    "        :param X: pandas.core.frame.DataFrame\n",
    "        :returns: pandas.core.frame.DataFrame without columns specified in *args\n",
    "        :raises keyError: raises an exception in case column was not found\n",
    "        \"\"\"\n",
    "        try:\n",
    "            X = X.drop(self.cols, axis=1)\n",
    "            return X\n",
    "        except KeyError:\n",
    "            print(f'Something from {self.cols} not found in dataset!') "
   ]
  },
  {
   "cell_type": "markdown",
   "id": "8e1ed531-57b0-48fa-ade0-6e3fd6219863",
   "metadata": {},
   "source": [
    " - numerical transformer"
   ]
  },
  {
   "cell_type": "code",
   "execution_count": 43,
   "id": "f91f201a-ca47-4bbe-9ef2-2de599c0d909",
   "metadata": {},
   "outputs": [],
   "source": [
    "class GetNumericalTransformer(TransformerMixin):\n",
    "    \"\"\"\n",
    "    A tranformer for getting numerical values from the dataset.\n",
    "    \"\"\"\n",
    "    \n",
    "    def __init__(self, data, col, what, category=None, *args):\n",
    "        \"\"\"\n",
    "        Initialize method.\n",
    "\n",
    "        :param data: The dataset is instance of pandas.core.frame.DataFrame\n",
    "        :param col: col to be transformed\n",
    "        :param what: dictionary, transform based on this\n",
    "        :param category: change type based on this\n",
    "        :param *args: -\n",
    "        \"\"\"\n",
    "        self.data = data\n",
    "        self.col = col\n",
    "        self.what = what\n",
    "        self.category = category\n",
    "        \n",
    "    def fit(self, X, y=None):\n",
    "        \"\"\"\n",
    "        Fits transformer over data.\n",
    "\n",
    "        :param X: The dataset to pass to the transformer.\n",
    "        :returns: The transformer.\n",
    "        \"\"\"\n",
    "        return self\n",
    "    \n",
    "    def transform(self, X, **transform_params):\n",
    "        \"\"\"\n",
    "        Function to transform column to a numeric and change a type.\n",
    "\n",
    "        :param X: pandas.core.frame.DataFrame\n",
    "        :returns: transformed pandas.core.frame.DataFrame\n",
    "        :raises keyError: raises an exception in case column was not found\n",
    "        \"\"\"\n",
    "        try:\n",
    "            X[self.col].replace(self.what, inplace=True)\n",
    "            if self.category is not None:\n",
    "                X = X.astype({self.col: self.category})\n",
    "            return X\n",
    "        except KeyError:\n",
    "            print(f'Something from {self.what} not found in dataset!')  "
   ]
  },
  {
   "cell_type": "code",
   "execution_count": 34,
   "id": "4de6b011-2c84-4733-bb39-ed429987f5a8",
   "metadata": {},
   "outputs": [],
   "source": [
    "class PowerTransform(TransformerMixin):\n",
    "    \"\"\"\n",
    "    A tranformer for normalising columns via power transformation.\n",
    "    \"\"\"\n",
    "    \n",
    "    def __init__(self, data, method, *args):\n",
    "        \"\"\"\n",
    "        Initialize method.\n",
    "\n",
    "        :param data: The dataset is instance of pandas.core.frame.DataFrame\n",
    "        :param *args: tuple of *str, specifing cols to be dropped\n",
    "        \"\"\"\n",
    "        self.data = data\n",
    "        self.cols = list(args)\n",
    "        #for col in kwargs.values():\n",
    "        #    self.cols.append(col)\n",
    "        \n",
    "    def fit(self, X, y=None):\n",
    "        \"\"\"\n",
    "        Fits transformer over data.\n",
    "\n",
    "        :param X: The dataset to pass to the transformer.\n",
    "        :returns: The transformer.\n",
    "        \"\"\"\n",
    "        return self\n",
    "    \n",
    "    def transform(self, X, **transform_params):\n",
    "        \"\"\"\n",
    "        Function to delete columns specified in *args to be deleted from data.\n",
    "\n",
    "        :param data: pandas.core.frame.DataFrame\n",
    "        :param *args: tuple of *str, specifing cols to be dropped\n",
    "        :returns: pandas.core.frame.DataFrame without columns specified in *args\n",
    "        :raises keyError: raises an exception in case column was not found\n",
    "        \"\"\"\n",
    "        try:\n",
    "            for col in self.cols:\n",
    "                 X[col] = powerTransform(X[col])\n",
    "                 #X[: , col] = power_transform(X[: , col].values.reshape(-1,1))\n",
    "            return X\n",
    "        except KeyError:\n",
    "            print(f'Something from {self.cols} not found in dataset!') \n",
    "    "
   ]
  },
  {
   "cell_type": "code",
   "execution_count": 44,
   "id": "32f49939-896d-49e2-8b60-5f30fd95dc05",
   "metadata": {},
   "outputs": [],
   "source": [
    "class ScalingTransform(TransformerMixin):\n",
    "    \"\"\"\n",
    "    A tranformer for normalising columns via power transformation.\n",
    "    \"\"\"\n",
    "    \n",
    "    def __init__(self, data, method, *args):\n",
    "        \"\"\"\n",
    "        Initialize method.\n",
    "\n",
    "        :param data: The dataset is instance of pandas.core.frame.DataFrame\n",
    "        :param *args: tuple of *str, specifing cols to be dropped\n",
    "        \"\"\"\n",
    "        self.data = data\n",
    "        self.cols = list(args)\n",
    "        self.method = method\n",
    "        #for col in kwargs.values():\n",
    "        #    self.cols.append(col)\n",
    "        \n",
    "    def fit(self, X, y=None):\n",
    "        \"\"\"\n",
    "        Fits transformer over data.\n",
    "\n",
    "        :param X: The dataset to pass to the transformer.\n",
    "        :returns: The transformer.\n",
    "        \"\"\"\n",
    "        return self\n",
    "    \n",
    "    def transform(self, X, **transform_params):\n",
    "        \"\"\"\n",
    "        Function to delete columns specified in *args to be deleted from data.\n",
    "\n",
    "        :param data: pandas.core.frame.DataFrame\n",
    "        :param *args: tuple of *str, specifing cols to be dropped\n",
    "        :returns: pandas.core.frame.DataFrame without columns specified in *args\n",
    "        :raises keyError: raises an exception in case column was not found\n",
    "        \"\"\"\n",
    "        try:\n",
    "            if self.method == \"Scaling\":\n",
    "                for col in self.cols:\n",
    "                    X[col] = scalingNinja(X[col])\n",
    "                     #X[: , col] = power_transform(X[: , col].values.reshape(-1,1))\n",
    "                return X\n",
    "            if self.method == \"Standard\":\n",
    "                for col in self.cols:\n",
    "                    X[col] = standardisatingNinja(X[col])\n",
    "                     #X[: , col] = power_transform(X[: , col].values.reshape(-1,1))\n",
    "                return X\n",
    "        except KeyError:\n",
    "            print(f'Something from {self.cols} not found in dataset!') \n",
    "    "
   ]
  },
  {
   "cell_type": "code",
   "execution_count": 45,
   "id": "bcd3e192-2282-4744-9112-20b2e959208a",
   "metadata": {},
   "outputs": [],
   "source": [
    "class FillingTransform(TransformerMixin):\n",
    "    \"\"\"\n",
    "    A tranformer for normalising columns via power transformation.\n",
    "    \"\"\"\n",
    "    \n",
    "    def __init__(self, data, method, *args):\n",
    "        \"\"\"\n",
    "        Initialize method.\n",
    "\n",
    "        :param data: The dataset is instance of pandas.core.frame.DataFrame\n",
    "        :param *args: tuple of *str, specifing cols to be dropped\n",
    "        \"\"\"\n",
    "        self.data = data\n",
    "        self.cols = list(args)\n",
    "        self.method = method\n",
    "        #for col in kwargs.values():\n",
    "        #    self.cols.append(col)\n",
    "        \n",
    "    def fit(self, X, y=None):\n",
    "        \"\"\"\n",
    "        Fits transformer over data.\n",
    "\n",
    "        :param X: The dataset to pass to the transformer.\n",
    "        :returns: The transformer.\n",
    "        \"\"\"\n",
    "        return self\n",
    "    \n",
    "    def transform(self, X, **transform_params):\n",
    "        \"\"\"\n",
    "        Function to delete columns specified in *args to be deleted from data.\n",
    "\n",
    "        :param data: pandas.core.frame.DataFrame\n",
    "        :param *args: tuple of *str, specifing cols to be dropped\n",
    "        :returns: pandas.core.frame.DataFrame without columns specified in *args\n",
    "        :raises keyError: raises an exception in case column was not found\n",
    "        \"\"\"\n",
    "        try:\n",
    "            if self.method == \"mean\":\n",
    "                for col in self.cols:\n",
    "                    X[col] = X[col].fillna(X[col].mean())\n",
    "                return X\n",
    "            if self.method == \"median\":\n",
    "                for col in self.cols:\n",
    "                    X[col] = X[col].fillna(X[col].median())\n",
    "                return X\n",
    "            if self.method == \"knn\":\n",
    "                for col in self.cols:\n",
    "                    imputer = KNNImputer(n_neighbors=5)\n",
    "                    imputer.fit(X[col].values.reshape(-1,1))\n",
    "                    Xtrans = imputer.transform(X[col].values.reshape(-1,1))\n",
    "                    X[col] = pd.DataFrame(Xtrans)\n",
    "                return X\n",
    "            if self.method == \"regression\":\n",
    "                for col in self.cols:\n",
    "                    X[col] = X[col].interpolate(method='linear')\n",
    "                return X\n",
    "            \n",
    "            \n",
    "        except KeyError:\n",
    "            print(f'Something from {self.cols} not found in dataset!') \n",
    "    "
   ]
  },
  {
   "cell_type": "code",
   "execution_count": 46,
   "id": "402f0f4f-3736-4828-b657-7d7f03fc8629",
   "metadata": {},
   "outputs": [],
   "source": [
    "class RatioFillingTransformer(TransformerMixin):\n",
    "    \"\"\"\n",
    "    A tranformer for getting numerical values from the dataset.\n",
    "    \"\"\"\n",
    "    \n",
    "    def __init__(self,  data, colToFill, corrCol, *args):\n",
    "        \"\"\"\n",
    "        Initialize method.\n",
    "\n",
    "        :param data: The dataset is instance of pandas.core.frame.DataFrame\n",
    "        :param col: col to be transformed\n",
    "        :param what: dictionary, transform based on this\n",
    "        :param category: change type based on this\n",
    "        :param *args: -\n",
    "        \"\"\"\n",
    "        self.data = data\n",
    "        self.colToFill = colToFill\n",
    "        self.corrCol = corrCol\n",
    "        \n",
    "    def fit(self, X, y=None):\n",
    "        \"\"\"\n",
    "        Fits transformer over data.\n",
    "\n",
    "        :param X: The dataset to pass to the transformer.\n",
    "        :returns: The transformer.\n",
    "        \"\"\"\n",
    "        return self\n",
    "    \n",
    "    def transform(self, X, **transform_params):\n",
    "        \"\"\"\n",
    "        Function to transform column to a numeric and change a type.\n",
    "\n",
    "        :param X: pandas.core.frame.DataFrame\n",
    "        :returns: transformed pandas.core.frame.DataFrame\n",
    "        :raises keyError: raises an exception in case column was not found\n",
    "        \"\"\"\n",
    "        try:\n",
    "            ratio = X[self.colToFill]/X[self.corrCol]\n",
    "            X[self.colToFill] = X[self.colToFill].fillna(X[self.corrCol] * ratio.mean())\n",
    "            return X\n",
    "        except KeyError:\n",
    "            print(f'Something from {self.what} not found in dataset!')  "
   ]
  },
  {
   "cell_type": "markdown",
   "id": "b87c1b30-4091-4d58-810a-c5f3b8184d05",
   "metadata": {},
   "source": [
    " - transformácia údajov"
   ]
  },
  {
   "cell_type": "code",
   "execution_count": 47,
   "id": "e5208911-3747-42ae-ba39-9a6c63b66c13",
   "metadata": {},
   "outputs": [
    {
     "ename": "NameError",
     "evalue": "name 'df_labor_' is not defined",
     "output_type": "error",
     "traceback": [
      "\u001b[0;31m---------------------------------------------------------------------------\u001b[0m",
      "\u001b[0;31mNameError\u001b[0m                                 Traceback (most recent call last)",
      "\u001b[0;32m/var/folders/__/dvmgkrld1mx_38jh2344bg100000gn/T/ipykernel_1722/2203655308.py\u001b[0m in \u001b[0;36m<module>\u001b[0;34m\u001b[0m\n\u001b[1;32m      4\u001b[0m merge_pipeline = Pipeline(\n\u001b[1;32m      5\u001b[0m     [\n\u001b[0;32m----> 6\u001b[0;31m         \u001b[0;34m(\u001b[0m\u001b[0;34m'merge'\u001b[0m\u001b[0;34m,\u001b[0m \u001b[0mMergeTransformer\u001b[0m\u001b[0;34m(\u001b[0m\u001b[0mdf_labor_\u001b[0m\u001b[0;34m,\u001b[0m \u001b[0mdf_profiles_\u001b[0m\u001b[0;34m,\u001b[0m \u001b[0mcolumn1\u001b[0m \u001b[0;34m=\u001b[0m\u001b[0;34m'ssn'\u001b[0m\u001b[0;34m,\u001b[0m \u001b[0mcolumn2\u001b[0m \u001b[0;34m=\u001b[0m\u001b[0;34m'name'\u001b[0m\u001b[0;34m)\u001b[0m\u001b[0;34m)\u001b[0m\u001b[0;34m,\u001b[0m\u001b[0;34m\u001b[0m\u001b[0;34m\u001b[0m\u001b[0m\n\u001b[0m\u001b[1;32m      7\u001b[0m         ('dropCols', DropColsTransformer(df_merged, 'Unnamed: 0_x', 'name', 'ssn', 'Unnamed: 0_y', \n\u001b[1;32m      8\u001b[0m                                       'current_location', 'residence', 'address')),\n",
      "\u001b[0;31mNameError\u001b[0m: name 'df_labor_' is not defined"
     ]
    }
   ],
   "source": [
    "df_merged = pd.DataFrame()\n",
    "\n",
    "# pipeline pre spojenie dát\n",
    "merge_pipeline = Pipeline(\n",
    "    [\n",
    "        ('merge', MergeTransformer(df_labor_, df_profiles_, column1 ='ssn', column2 ='name')),\n",
    "        ('dropCols', DropColsTransformer(df_merged, 'Unnamed: 0_x', 'name', 'ssn', 'Unnamed: 0_y', \n",
    "                                      'current_location', 'residence', 'address')),\n",
    "        ('numSex', GetNumericalTransformer(df_merged, 'sex', {\"M\": 0, \"F\": 1}, 'category')),\n",
    "        ('numBlood', GetNumericalTransformer(df_merged, 'blood_group', {\n",
    "                \"A+\": 1,\"A-\": 2, \"B+\": 3, \"B-\": 4, \"AB+\": 5, \"AB-\": 6, \"O+\": 7, \"O-\": 8\n",
    "            }, 'category')\n",
    "        ),\n",
    "        ('numRepairRace', GetNumericalTransformer(df_merged, 'race', {\n",
    "            \"blsck\": \"Black\", \"black\": \"Black\", \"white\": \"White\"})\n",
    "        ),\n",
    "        ('numRace', GetNumericalTransformer(df_merged, 'race', {\n",
    "            \"White\": 1,\"Black\": 2, \"Asian\": 3, \"Hawaiian\": 4, \"Indian\": 5}, 'category')\n",
    "        ),\n",
    "        ('numSmoker', GetNumericalTransformer(df_merged, 'smoker', {\n",
    "            \"no\": 0, \"N\": 0, \"yes\": 1, \"Y\": 1}, 'category')\n",
    "        ),\n",
    "        ('Transformer_mean',FillingTransform(df_labor, \"mean\", \"hemoglobin\", \"trombocyty\")),\n",
    "        ('Transformer_median',FillingTransform(df_labor,\"median\", \"er-cv\", \"hematokrit\")),\n",
    "        ('Transformer_knn',FillingTransform(df_labor,\"knn\", \"ast\", \"alp\")),\n",
    "        ('Transformer_regression',FillingTransform(df_labor,\"regression\", \"etytr\", \"alt\")),\n",
    "        ('Transformer_ratio',RatioFillingTransformer(df_labor, \"leukocyty\",\"etytr\")),\n",
    "        ('Transformer_ratio2',RatioFillingTransformer(df_labor, \"erytrocyty\",\"alt\")),\n",
    "        ('Transformer_ratio3',RatioFillingTransformer(df_labor, \"hbver\",\"erytrocyty\")),\n",
    "        ('Transformer_yeo', PowerTransform(df_labor, 'yeo-johnson', 'alt')),\n",
    "        ('Transformer_scal', ScalingTransform(df_labor, \"Scaling\", 'ast')),\n",
    "        ('Transformer_stand', ScalingTransform(df_labor, \"Standard\", 'alp'))\n",
    "    ]\n",
    ")\n",
    "\n",
    "df_merged = merge_pipeline.transform(df_merged)\n",
    "df_merged\n"
   ]
  },
  {
   "cell_type": "code",
   "execution_count": null,
   "id": "01388fff-2b51-4c76-a2a8-59cf5b99e290",
   "metadata": {},
   "outputs": [],
   "source": [
    "df_labor.isna().sum()"
   ]
  }
 ],
 "metadata": {
  "kernelspec": {
   "display_name": "Python 3 (ipykernel)",
   "language": "python",
   "name": "python3"
  },
  "language_info": {
   "codemirror_mode": {
    "name": "ipython",
    "version": 3
   },
   "file_extension": ".py",
   "mimetype": "text/x-python",
   "name": "python",
   "nbconvert_exporter": "python",
   "pygments_lexer": "ipython3",
   "version": "3.7.3"
  }
 },
 "nbformat": 4,
 "nbformat_minor": 5
}
