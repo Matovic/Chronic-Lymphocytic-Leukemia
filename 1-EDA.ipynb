{
 "cells": [
  {
   "cell_type": "markdown",
   "id": "24513f49-1397-43f4-9b40-d4610c0a03f1",
   "metadata": {},
   "source": [
    "# Exploratory Data Analysis\n",
    "Erik Matovič a Simon Kokavec"
   ]
  },
  {
   "cell_type": "markdown",
   "id": "a0a3c443-6047-4951-af61-c5f3781b0252",
   "metadata": {},
   "source": [
    "## 0. Importovanie"
   ]
  },
  {
   "cell_type": "code",
   "execution_count": 1,
   "id": "b6ae8e29-e4be-4a7f-83bb-ae96602cb1dd",
   "metadata": {},
   "outputs": [],
   "source": [
    "%matplotlib inline\n",
    "import matplotlib.pyplot as plt\n",
    "import seaborn as sns\n",
    "import pandas as pd\n",
    "import numpy as np\n",
    "import scipy.stats as stats"
   ]
  },
  {
   "cell_type": "markdown",
   "id": "8cded1cd-1b4a-4345-962c-ebc87acbb4e5",
   "metadata": {},
   "source": [
    "## 1. Základný opis dát spolu s ich charakteristikami\n",
    "\n",
    "### Zadanie  \n",
    "Pre dosiahnutie plného počtu bodov uveďte  \n",
    " - počet záznamov,\n",
    " - počet atribútov,\n",
    " - ich typy,\n",
    " - pre zvolené významné atribúty ich distribúcie, základné deskriptívne štatistiky a pod.\n",
    " \n",
    " ### Riešenie\n",
    " \n",
    " "
   ]
  },
  {
   "cell_type": "code",
   "execution_count": 2,
   "id": "9952c8b2-f96a-446d-8759-febfda6f1a8b",
   "metadata": {},
   "outputs": [],
   "source": [
    "# read labor and profiles dataset\n",
    "df_labor = pd.read_csv('./data/labor.csv', sep='\\t')\n",
    "df_profiles = pd.read_csv('./data/profiles.csv', sep='\\t')"
   ]
  },
  {
   "cell_type": "markdown",
   "id": "2fb0cbd5-577e-4db6-911b-932e81daab04",
   "metadata": {},
   "source": [
    "### Štatistika profilov pacientov\n",
    "\n",
    "- ##### **Unnamed** (ID) - Číslo riadku\n",
    "\n",
    "- ##### **name** (Meno) - Meno pacienta\n",
    "\n",
    "- ##### **sex** (Pohlavie) - Pohlavie pacienta\n",
    "\n",
    "- ##### **current_location** (Poloha) - \n",
    "\n",
    "- ##### **blood_group** (Krvná skupina) - Krvná skupina pacienta\n",
    "\n",
    "- ##### **residence** (Bydlisko) - \n",
    "\n",
    "- ##### **birthdate** (Dátum narodenia) - Dátum narodenia pacienta\n",
    "\n",
    "- ##### **race** (Rasa) - Rasová príslušnosť pacienta\n",
    "\n",
    "- ##### **ssn** (Social Secuirty Number - Sociálne Bezpečnostné číslo) - Deväť miestne číslo obyvateľov USA.\n",
    "\n",
    "- ##### **address** (Adresa) - Adresa trvalého bydliska pacienta\n",
    "\n",
    "\n",
    "### Štatistika laboratórnych výsledkov\n",
    "\n",
    "- ##### **Unnamed** (ID) - Číslo riadku\n",
    "\n",
    "- ##### **hemoglobin** (Hemoglobín) - Červené krvné farbivo. Tvorí veľkú časť erytrocytov. Zabezpečuje prenos kyslíka z pľúc do tkanív.\n",
    "\n",
    "- ##### **leukocyty** (Leukocyty) - Biela krvinka. V krvi je ich menej ako erytrocytov. Leukocyty sú zodpovedné za imunitnú odpoveď. Zabezpečujú ochranu proti chorobám a nemociam.\n",
    "\n",
    "- ##### **etytr** () -\n",
    "\n",
    "- ##### **weight** (Hmotnosť) - Hmotnosť pacienta\n",
    "\n",
    "- ##### **trombocyty** (Trombocyty) - Krvné doštičky. Veľké množstvo v krvi. Ich úlohou je udržiavať správnu zrážanlivosť krvi a tým zabezpečiť zastavenie krvácania.\n",
    "\n",
    "- ##### **ast** (Aspartate transaminase - Aspartát transamináza) - Pečeňový enzým. Ukazateľ poškodenia najmä pečene ale aj srdca, kostrových svalov (napr. biceps), obličiek a mozgu.\n",
    "\n",
    "- ##### **alp** (Alkaline phosphatase - Alkalická fosfatáza) - Pečeňový enzým. Ukazateľ poškodenia najmä pečene ale aj žlčových ciest, obličiek, kostí a tak ďalej.\n",
    "\n",
    "- ##### **relationship** (Vzťah) - Rodinné založenie pacienta (Ženatý, rozvedený...)\n",
    "\n",
    "- ##### **name** (Meno) - Meno pacienta\n",
    "\n",
    "- ##### **alt** (Alanine transaminase - Alanín transamináza) - Pečeňový enzým. Najdôležitejší marker ukazovania poškodenia pečene.\n",
    "\n",
    "- ##### **hbver** () -\n",
    "\n",
    "- ##### **smoker** (Fajčiar) - Indikuje či pacient je fajčiar\n",
    "\n",
    "- ##### **erytrocyty** (Erytrocyty) - Červené krvinky. Pomocou hemoglobin prepravujú kyslík z pľúc do tkanív. Následný oremenený oxid uhličitý nesú naspäť do pľúc.\n",
    "\n",
    "- ##### **er-cv** () -\n",
    "\n",
    "- ##### **indicator** (Indikátor) - Indikuje stav pacienta.\n",
    "\n",
    "- ##### **ssn** (Social Secuirty Number - Sociálne Bezpečnostné číslo) - Deväť miestne číslo obyvateľov USA.\n",
    "\n",
    "- ##### **hematokrit** (Hematokrit) - Pomer erytrocytov v krvi. "
   ]
  },
  {
   "cell_type": "code",
   "execution_count": 3,
   "id": "9baec192-f91f-49b6-86b7-029e5031b3af",
   "metadata": {},
   "outputs": [
    {
     "data": {
      "text/plain": [
       "((10035, 18), (3064, 10))"
      ]
     },
     "execution_count": 3,
     "metadata": {},
     "output_type": "execute_result"
    }
   ],
   "source": [
    "df_labor.shape, df_profiles.shape"
   ]
  },
  {
   "cell_type": "markdown",
   "id": "85e2395f-a216-431b-a45c-cbbe9dcc0d6b",
   "metadata": {},
   "source": [
    " - labor.csv má 10035 riadkov/atributov a 18 stĺpcov/features  \n",
    " - profiles.csv má 3064 riadkov/atributov a 10 stĺpcov/features "
   ]
  },
  {
   "cell_type": "code",
   "execution_count": 4,
   "id": "f8386935-230a-4b63-adf7-32eb1fa48a88",
   "metadata": {},
   "outputs": [
    {
     "name": "stdout",
     "output_type": "stream",
     "text": [
      "<class 'pandas.core.frame.DataFrame'>\n",
      "RangeIndex: 10035 entries, 0 to 10034\n",
      "Data columns (total 18 columns):\n",
      " #   Column        Non-Null Count  Dtype  \n",
      "---  ------        --------------  -----  \n",
      " 0   Unnamed: 0    10035 non-null  int64  \n",
      " 1   hemoglobin    10005 non-null  float64\n",
      " 2   leukocyty     10004 non-null  float64\n",
      " 3   etytr         10005 non-null  float64\n",
      " 4   weight        10035 non-null  float64\n",
      " 5   trombocyty    10005 non-null  float64\n",
      " 6   ast           10005 non-null  float64\n",
      " 7   alp           10004 non-null  float64\n",
      " 8   relationship  10035 non-null  object \n",
      " 9   name          10035 non-null  object \n",
      " 10  alt           10005 non-null  float64\n",
      " 11  hbver         10005 non-null  float64\n",
      " 12  smoker        10035 non-null  object \n",
      " 13  erytrocyty    10005 non-null  float64\n",
      " 14  er-cv         10005 non-null  float64\n",
      " 15  indicator     10035 non-null  float64\n",
      " 16  ssn           10035 non-null  object \n",
      " 17  hematokrit    10005 non-null  float64\n",
      "dtypes: float64(13), int64(1), object(4)\n",
      "memory usage: 1.4+ MB\n"
     ]
    }
   ],
   "source": [
    "df_labor.info()"
   ]
  },
  {
   "cell_type": "markdown",
   "id": "991a1759-ad1f-435a-88a2-983641a9c4c0",
   "metadata": {},
   "source": [
    " - labor.csv má 18 stĺpcov, prevažne sú numerického typu(int a float), niektoré sú typu object(str)  \n",
    " - zároveň je vidieť nesúmer medzi poćtom atribútov - 10035 je celkový poćet, avšak niektoré záznamy majú o 30 menej, t.j. 10005(stĺpce hematokrit, er-cv, erytrocyty, hbver, alt, ast, trombocyty, eryrt, hemoglobin) a niektoré(leukocyty a alp) majú 10004 -> nutnosť riešiť pri transformácií údajov\n",
    " - dáta nemajú null hodnoty, ale vzhľadom na rozdielny poćet medzi stĺpcami majú NaN hodnoty(viď tail() nižšie)"
   ]
  },
  {
   "cell_type": "code",
   "execution_count": 5,
   "id": "9973b647-7b64-4778-8e90-3972e53d0857",
   "metadata": {},
   "outputs": [
    {
     "name": "stdout",
     "output_type": "stream",
     "text": [
      "<class 'pandas.core.frame.DataFrame'>\n",
      "RangeIndex: 3064 entries, 0 to 3063\n",
      "Data columns (total 10 columns):\n",
      " #   Column            Non-Null Count  Dtype \n",
      "---  ------            --------------  ----- \n",
      " 0   Unnamed: 0        3064 non-null   int64 \n",
      " 1   name              3064 non-null   object\n",
      " 2   sex               3064 non-null   object\n",
      " 3   current_location  3064 non-null   object\n",
      " 4   blood_group       3064 non-null   object\n",
      " 5   residence         3064 non-null   object\n",
      " 6   birthdate         3064 non-null   object\n",
      " 7   race              3064 non-null   object\n",
      " 8   ssn               3064 non-null   object\n",
      " 9   address           3064 non-null   object\n",
      "dtypes: int64(1), object(9)\n",
      "memory usage: 239.5+ KB\n"
     ]
    }
   ],
   "source": [
    "df_profiles.info()"
   ]
  },
  {
   "cell_type": "markdown",
   "id": "607863c9-fca0-4bbb-b503-e8b5ffa6e82c",
   "metadata": {},
   "source": [
    " - profiles.csv má 10 stĺpcov, prevažne sú objektového typu(str), unnamed: 0 je celočíselného typu(integer) \n",
    " - zároveň je vidieť, že všetky záznamy majú rovnaký poćet atribútov - 3064"
   ]
  },
  {
   "cell_type": "code",
   "execution_count": 6,
   "id": "1a048f5e-83f0-4e61-97a9-1e019f1ee8d2",
   "metadata": {},
   "outputs": [
    {
     "data": {
      "text/html": [
       "<div>\n",
       "<style scoped>\n",
       "    .dataframe tbody tr th:only-of-type {\n",
       "        vertical-align: middle;\n",
       "    }\n",
       "\n",
       "    .dataframe tbody tr th {\n",
       "        vertical-align: top;\n",
       "    }\n",
       "\n",
       "    .dataframe thead th {\n",
       "        text-align: right;\n",
       "    }\n",
       "</style>\n",
       "<table border=\"1\" class=\"dataframe\">\n",
       "  <thead>\n",
       "    <tr style=\"text-align: right;\">\n",
       "      <th></th>\n",
       "      <th>Unnamed: 0</th>\n",
       "      <th>hemoglobin</th>\n",
       "      <th>leukocyty</th>\n",
       "      <th>etytr</th>\n",
       "      <th>weight</th>\n",
       "      <th>trombocyty</th>\n",
       "      <th>ast</th>\n",
       "      <th>alp</th>\n",
       "      <th>relationship</th>\n",
       "      <th>name</th>\n",
       "      <th>alt</th>\n",
       "      <th>hbver</th>\n",
       "      <th>smoker</th>\n",
       "      <th>erytrocyty</th>\n",
       "      <th>er-cv</th>\n",
       "      <th>indicator</th>\n",
       "      <th>ssn</th>\n",
       "      <th>hematokrit</th>\n",
       "    </tr>\n",
       "  </thead>\n",
       "  <tbody>\n",
       "    <tr>\n",
       "      <th>0</th>\n",
       "      <td>0</td>\n",
       "      <td>6.77299</td>\n",
       "      <td>5.28153</td>\n",
       "      <td>4.79087</td>\n",
       "      <td>104.22450</td>\n",
       "      <td>7.22472</td>\n",
       "      <td>61.85014</td>\n",
       "      <td>80.77401</td>\n",
       "      <td>married</td>\n",
       "      <td>Kathryn Wagner</td>\n",
       "      <td>2.01576</td>\n",
       "      <td>9.04461</td>\n",
       "      <td>no</td>\n",
       "      <td>7.94417</td>\n",
       "      <td>61.31451</td>\n",
       "      <td>0.0</td>\n",
       "      <td>887-91-9698</td>\n",
       "      <td>5.40103</td>\n",
       "    </tr>\n",
       "    <tr>\n",
       "      <th>1</th>\n",
       "      <td>1</td>\n",
       "      <td>6.35217</td>\n",
       "      <td>5.45245</td>\n",
       "      <td>3.34754</td>\n",
       "      <td>65.03608</td>\n",
       "      <td>7.00407</td>\n",
       "      <td>66.90722</td>\n",
       "      <td>90.01585</td>\n",
       "      <td>widowed</td>\n",
       "      <td>Frank Becker</td>\n",
       "      <td>0.81519</td>\n",
       "      <td>9.09262</td>\n",
       "      <td>no</td>\n",
       "      <td>5.33302</td>\n",
       "      <td>58.00624</td>\n",
       "      <td>0.0</td>\n",
       "      <td>506-37-0250</td>\n",
       "      <td>7.68167</td>\n",
       "    </tr>\n",
       "    <tr>\n",
       "      <th>2</th>\n",
       "      <td>2</td>\n",
       "      <td>5.37162</td>\n",
       "      <td>7.36106</td>\n",
       "      <td>7.10989</td>\n",
       "      <td>63.61518</td>\n",
       "      <td>6.95232</td>\n",
       "      <td>65.33091</td>\n",
       "      <td>74.23784</td>\n",
       "      <td>married</td>\n",
       "      <td>Stephanie Lewis</td>\n",
       "      <td>0.79787</td>\n",
       "      <td>6.18215</td>\n",
       "      <td>no</td>\n",
       "      <td>6.38771</td>\n",
       "      <td>62.73102</td>\n",
       "      <td>1.0</td>\n",
       "      <td>331-52-1241</td>\n",
       "      <td>6.27422</td>\n",
       "    </tr>\n",
       "    <tr>\n",
       "      <th>3</th>\n",
       "      <td>3</td>\n",
       "      <td>4.60987</td>\n",
       "      <td>8.04010</td>\n",
       "      <td>4.97779</td>\n",
       "      <td>30.35294</td>\n",
       "      <td>6.63243</td>\n",
       "      <td>67.33708</td>\n",
       "      <td>34.67995</td>\n",
       "      <td>married</td>\n",
       "      <td>Luis Williams</td>\n",
       "      <td>0.83917</td>\n",
       "      <td>5.22920</td>\n",
       "      <td>no</td>\n",
       "      <td>5.05640</td>\n",
       "      <td>62.60592</td>\n",
       "      <td>1.0</td>\n",
       "      <td>407-22-7513</td>\n",
       "      <td>6.61263</td>\n",
       "    </tr>\n",
       "    <tr>\n",
       "      <th>4</th>\n",
       "      <td>4</td>\n",
       "      <td>5.97408</td>\n",
       "      <td>6.66899</td>\n",
       "      <td>5.58872</td>\n",
       "      <td>97.97181</td>\n",
       "      <td>6.18242</td>\n",
       "      <td>67.48751</td>\n",
       "      <td>89.31030</td>\n",
       "      <td>divoced</td>\n",
       "      <td>Donald Hall</td>\n",
       "      <td>1.20122</td>\n",
       "      <td>4.97805</td>\n",
       "      <td>yes</td>\n",
       "      <td>5.10205</td>\n",
       "      <td>59.32470</td>\n",
       "      <td>1.0</td>\n",
       "      <td>486-30-7935</td>\n",
       "      <td>6.23117</td>\n",
       "    </tr>\n",
       "  </tbody>\n",
       "</table>\n",
       "</div>"
      ],
      "text/plain": [
       "   Unnamed: 0  hemoglobin  leukocyty    etytr     weight  trombocyty  \\\n",
       "0           0     6.77299    5.28153  4.79087  104.22450     7.22472   \n",
       "1           1     6.35217    5.45245  3.34754   65.03608     7.00407   \n",
       "2           2     5.37162    7.36106  7.10989   63.61518     6.95232   \n",
       "3           3     4.60987    8.04010  4.97779   30.35294     6.63243   \n",
       "4           4     5.97408    6.66899  5.58872   97.97181     6.18242   \n",
       "\n",
       "        ast       alp relationship             name      alt    hbver smoker  \\\n",
       "0  61.85014  80.77401      married   Kathryn Wagner  2.01576  9.04461     no   \n",
       "1  66.90722  90.01585      widowed     Frank Becker  0.81519  9.09262     no   \n",
       "2  65.33091  74.23784      married  Stephanie Lewis  0.79787  6.18215     no   \n",
       "3  67.33708  34.67995      married    Luis Williams  0.83917  5.22920     no   \n",
       "4  67.48751  89.31030      divoced      Donald Hall  1.20122  4.97805    yes   \n",
       "\n",
       "   erytrocyty     er-cv  indicator          ssn  hematokrit  \n",
       "0     7.94417  61.31451        0.0  887-91-9698     5.40103  \n",
       "1     5.33302  58.00624        0.0  506-37-0250     7.68167  \n",
       "2     6.38771  62.73102        1.0  331-52-1241     6.27422  \n",
       "3     5.05640  62.60592        1.0  407-22-7513     6.61263  \n",
       "4     5.10205  59.32470        1.0  486-30-7935     6.23117  "
      ]
     },
     "execution_count": 6,
     "metadata": {},
     "output_type": "execute_result"
    }
   ],
   "source": [
    "df_labor.head()"
   ]
  },
  {
   "cell_type": "code",
   "execution_count": 7,
   "id": "ffd55c66-7050-4f35-9465-2eb2a487f4c4",
   "metadata": {},
   "outputs": [
    {
     "data": {
      "text/html": [
       "<div>\n",
       "<style scoped>\n",
       "    .dataframe tbody tr th:only-of-type {\n",
       "        vertical-align: middle;\n",
       "    }\n",
       "\n",
       "    .dataframe tbody tr th {\n",
       "        vertical-align: top;\n",
       "    }\n",
       "\n",
       "    .dataframe thead th {\n",
       "        text-align: right;\n",
       "    }\n",
       "</style>\n",
       "<table border=\"1\" class=\"dataframe\">\n",
       "  <thead>\n",
       "    <tr style=\"text-align: right;\">\n",
       "      <th></th>\n",
       "      <th>Unnamed: 0</th>\n",
       "      <th>name</th>\n",
       "      <th>sex</th>\n",
       "      <th>current_location</th>\n",
       "      <th>blood_group</th>\n",
       "      <th>residence</th>\n",
       "      <th>birthdate</th>\n",
       "      <th>race</th>\n",
       "      <th>ssn</th>\n",
       "      <th>address</th>\n",
       "    </tr>\n",
       "  </thead>\n",
       "  <tbody>\n",
       "    <tr>\n",
       "      <th>0</th>\n",
       "      <td>0</td>\n",
       "      <td>Elizabeth Johnson</td>\n",
       "      <td>F</td>\n",
       "      <td>(Decimal('-64.545933'), Decimal('5.817377'))</td>\n",
       "      <td>B-</td>\n",
       "      <td>319 Bradley Tunnel Suite 246\\nBoyerstad, GA 12067</td>\n",
       "      <td>10/30/1938, 00:00:00</td>\n",
       "      <td>White</td>\n",
       "      <td>518-82-6493</td>\n",
       "      <td>09441 Joyce Route Suite 717\\nWest Megan, GA 12969</td>\n",
       "    </tr>\n",
       "    <tr>\n",
       "      <th>1</th>\n",
       "      <td>1</td>\n",
       "      <td>Scott Holmes</td>\n",
       "      <td>M</td>\n",
       "      <td>(Decimal('-18.8183775'), Decimal('94.375497'))</td>\n",
       "      <td>A-</td>\n",
       "      <td>28739 Hoffman Valleys Apt. 636\\nMichaelville, ...</td>\n",
       "      <td>1927-06-20</td>\n",
       "      <td>Black</td>\n",
       "      <td>015-03-8632</td>\n",
       "      <td>USNS Miller\\nFPO AE 08377</td>\n",
       "    </tr>\n",
       "    <tr>\n",
       "      <th>2</th>\n",
       "      <td>2</td>\n",
       "      <td>William Roth</td>\n",
       "      <td>M</td>\n",
       "      <td>(Decimal('35.903361'), Decimal('-133.029344'))</td>\n",
       "      <td>B-</td>\n",
       "      <td>8623 Jordan Canyon Suite 498\\nJoshuastad, OH 3...</td>\n",
       "      <td>1965-10-02</td>\n",
       "      <td>Black</td>\n",
       "      <td>898-78-8500</td>\n",
       "      <td>7747 Nicole Wells\\nShannonside, MI 84296</td>\n",
       "    </tr>\n",
       "    <tr>\n",
       "      <th>3</th>\n",
       "      <td>3</td>\n",
       "      <td>Kimberly Barnes</td>\n",
       "      <td>F</td>\n",
       "      <td>(Decimal('55.2055095'), Decimal('-121.665483'))</td>\n",
       "      <td>B+</td>\n",
       "      <td>Unit 0522 Box 6156\\nDPO AE 24368</td>\n",
       "      <td>1962-02-14</td>\n",
       "      <td>White</td>\n",
       "      <td>478-72-0155</td>\n",
       "      <td>228 Colleen Extension\\nLake Morgan, AL 34806</td>\n",
       "    </tr>\n",
       "    <tr>\n",
       "      <th>4</th>\n",
       "      <td>4</td>\n",
       "      <td>Sarah Escobar</td>\n",
       "      <td>F</td>\n",
       "      <td>(Decimal('49.512264'), Decimal('-121.259776'))</td>\n",
       "      <td>AB-</td>\n",
       "      <td>30306 Molina Junction\\nPort Edwardview, OK 72746</td>\n",
       "      <td>02 Oct 1936</td>\n",
       "      <td>Indian</td>\n",
       "      <td>683-31-6335</td>\n",
       "      <td>08249 Gentry Fall\\nLewisshire, NY 20037</td>\n",
       "    </tr>\n",
       "  </tbody>\n",
       "</table>\n",
       "</div>"
      ],
      "text/plain": [
       "   Unnamed: 0               name sex  \\\n",
       "0           0  Elizabeth Johnson   F   \n",
       "1           1       Scott Holmes   M   \n",
       "2           2       William Roth   M   \n",
       "3           3    Kimberly Barnes   F   \n",
       "4           4      Sarah Escobar   F   \n",
       "\n",
       "                                  current_location blood_group  \\\n",
       "0     (Decimal('-64.545933'), Decimal('5.817377'))          B-   \n",
       "1   (Decimal('-18.8183775'), Decimal('94.375497'))          A-   \n",
       "2   (Decimal('35.903361'), Decimal('-133.029344'))          B-   \n",
       "3  (Decimal('55.2055095'), Decimal('-121.665483'))          B+   \n",
       "4   (Decimal('49.512264'), Decimal('-121.259776'))         AB-   \n",
       "\n",
       "                                           residence             birthdate  \\\n",
       "0  319 Bradley Tunnel Suite 246\\nBoyerstad, GA 12067  10/30/1938, 00:00:00   \n",
       "1  28739 Hoffman Valleys Apt. 636\\nMichaelville, ...            1927-06-20   \n",
       "2  8623 Jordan Canyon Suite 498\\nJoshuastad, OH 3...            1965-10-02   \n",
       "3                   Unit 0522 Box 6156\\nDPO AE 24368            1962-02-14   \n",
       "4   30306 Molina Junction\\nPort Edwardview, OK 72746           02 Oct 1936   \n",
       "\n",
       "     race          ssn                                            address  \n",
       "0   White  518-82-6493  09441 Joyce Route Suite 717\\nWest Megan, GA 12969  \n",
       "1   Black  015-03-8632                          USNS Miller\\nFPO AE 08377  \n",
       "2   Black  898-78-8500           7747 Nicole Wells\\nShannonside, MI 84296  \n",
       "3   White  478-72-0155       228 Colleen Extension\\nLake Morgan, AL 34806  \n",
       "4  Indian  683-31-6335            08249 Gentry Fall\\nLewisshire, NY 20037  "
      ]
     },
     "execution_count": 7,
     "metadata": {},
     "output_type": "execute_result"
    }
   ],
   "source": [
    "df_profiles.head()"
   ]
  },
  {
   "cell_type": "markdown",
   "id": "a9ed11b3-960a-48fe-b73d-2fe44c73c6be",
   "metadata": {},
   "source": [
    " - pozrieme sa na dáta cez head"
   ]
  },
  {
   "cell_type": "code",
   "execution_count": 8,
   "id": "8a61e854-0b52-4bcb-b4a5-b4c0162286e5",
   "metadata": {},
   "outputs": [
    {
     "data": {
      "text/html": [
       "<div>\n",
       "<style scoped>\n",
       "    .dataframe tbody tr th:only-of-type {\n",
       "        vertical-align: middle;\n",
       "    }\n",
       "\n",
       "    .dataframe tbody tr th {\n",
       "        vertical-align: top;\n",
       "    }\n",
       "\n",
       "    .dataframe thead th {\n",
       "        text-align: right;\n",
       "    }\n",
       "</style>\n",
       "<table border=\"1\" class=\"dataframe\">\n",
       "  <thead>\n",
       "    <tr style=\"text-align: right;\">\n",
       "      <th></th>\n",
       "      <th>Unnamed: 0</th>\n",
       "      <th>hemoglobin</th>\n",
       "      <th>leukocyty</th>\n",
       "      <th>etytr</th>\n",
       "      <th>weight</th>\n",
       "      <th>trombocyty</th>\n",
       "      <th>ast</th>\n",
       "      <th>alp</th>\n",
       "      <th>relationship</th>\n",
       "      <th>name</th>\n",
       "      <th>alt</th>\n",
       "      <th>hbver</th>\n",
       "      <th>smoker</th>\n",
       "      <th>erytrocyty</th>\n",
       "      <th>er-cv</th>\n",
       "      <th>indicator</th>\n",
       "      <th>ssn</th>\n",
       "      <th>hematokrit</th>\n",
       "    </tr>\n",
       "  </thead>\n",
       "  <tbody>\n",
       "    <tr>\n",
       "      <th>10030</th>\n",
       "      <td>10030</td>\n",
       "      <td>5.52171</td>\n",
       "      <td>7.37800</td>\n",
       "      <td>7.04815</td>\n",
       "      <td>83.93728</td>\n",
       "      <td>7.29506</td>\n",
       "      <td>74.91299</td>\n",
       "      <td>74.00027</td>\n",
       "      <td>single</td>\n",
       "      <td>Gary Parks</td>\n",
       "      <td>6.29230</td>\n",
       "      <td>9.31528</td>\n",
       "      <td>N</td>\n",
       "      <td>9.21009</td>\n",
       "      <td>40.17639</td>\n",
       "      <td>1.0</td>\n",
       "      <td>028-45-3066</td>\n",
       "      <td>6.95568</td>\n",
       "    </tr>\n",
       "    <tr>\n",
       "      <th>10031</th>\n",
       "      <td>10031</td>\n",
       "      <td>5.72390</td>\n",
       "      <td>8.34137</td>\n",
       "      <td>5.88201</td>\n",
       "      <td>78.01508</td>\n",
       "      <td>6.43991</td>\n",
       "      <td>62.61013</td>\n",
       "      <td>82.18824</td>\n",
       "      <td>divoced</td>\n",
       "      <td>Michael Haynes</td>\n",
       "      <td>0.57249</td>\n",
       "      <td>5.58052</td>\n",
       "      <td>Y</td>\n",
       "      <td>5.01783</td>\n",
       "      <td>22.59664</td>\n",
       "      <td>1.0</td>\n",
       "      <td>041-77-3799</td>\n",
       "      <td>6.69757</td>\n",
       "    </tr>\n",
       "    <tr>\n",
       "      <th>10032</th>\n",
       "      <td>10032</td>\n",
       "      <td>7.12205</td>\n",
       "      <td>5.31366</td>\n",
       "      <td>4.84312</td>\n",
       "      <td>78.80204</td>\n",
       "      <td>7.76331</td>\n",
       "      <td>78.71905</td>\n",
       "      <td>75.14270</td>\n",
       "      <td>married</td>\n",
       "      <td>Donald Porter</td>\n",
       "      <td>2.38935</td>\n",
       "      <td>8.82716</td>\n",
       "      <td>Y</td>\n",
       "      <td>7.88062</td>\n",
       "      <td>65.02538</td>\n",
       "      <td>0.0</td>\n",
       "      <td>227-65-3699</td>\n",
       "      <td>5.46733</td>\n",
       "    </tr>\n",
       "    <tr>\n",
       "      <th>10033</th>\n",
       "      <td>10033</td>\n",
       "      <td>5.39175</td>\n",
       "      <td>5.72726</td>\n",
       "      <td>4.45572</td>\n",
       "      <td>15.18502</td>\n",
       "      <td>5.97680</td>\n",
       "      <td>63.31698</td>\n",
       "      <td>70.90388</td>\n",
       "      <td>single</td>\n",
       "      <td>Cassandra Williams</td>\n",
       "      <td>1.50721</td>\n",
       "      <td>NaN</td>\n",
       "      <td>no</td>\n",
       "      <td>6.81522</td>\n",
       "      <td>64.56211</td>\n",
       "      <td>0.0</td>\n",
       "      <td>669-16-6262</td>\n",
       "      <td>6.82568</td>\n",
       "    </tr>\n",
       "    <tr>\n",
       "      <th>10034</th>\n",
       "      <td>10034</td>\n",
       "      <td>7.11616</td>\n",
       "      <td>6.86954</td>\n",
       "      <td>6.25132</td>\n",
       "      <td>53.84799</td>\n",
       "      <td>5.55897</td>\n",
       "      <td>63.52155</td>\n",
       "      <td>76.31498</td>\n",
       "      <td>married</td>\n",
       "      <td>Jessica Diaz</td>\n",
       "      <td>1.62680</td>\n",
       "      <td>7.17967</td>\n",
       "      <td>N</td>\n",
       "      <td>7.49288</td>\n",
       "      <td>70.23548</td>\n",
       "      <td>1.0</td>\n",
       "      <td>524-42-2099</td>\n",
       "      <td>7.11213</td>\n",
       "    </tr>\n",
       "  </tbody>\n",
       "</table>\n",
       "</div>"
      ],
      "text/plain": [
       "       Unnamed: 0  hemoglobin  leukocyty    etytr    weight  trombocyty  \\\n",
       "10030       10030     5.52171    7.37800  7.04815  83.93728     7.29506   \n",
       "10031       10031     5.72390    8.34137  5.88201  78.01508     6.43991   \n",
       "10032       10032     7.12205    5.31366  4.84312  78.80204     7.76331   \n",
       "10033       10033     5.39175    5.72726  4.45572  15.18502     5.97680   \n",
       "10034       10034     7.11616    6.86954  6.25132  53.84799     5.55897   \n",
       "\n",
       "            ast       alp relationship                name      alt    hbver  \\\n",
       "10030  74.91299  74.00027       single          Gary Parks  6.29230  9.31528   \n",
       "10031  62.61013  82.18824      divoced      Michael Haynes  0.57249  5.58052   \n",
       "10032  78.71905  75.14270      married       Donald Porter  2.38935  8.82716   \n",
       "10033  63.31698  70.90388       single  Cassandra Williams  1.50721      NaN   \n",
       "10034  63.52155  76.31498      married        Jessica Diaz  1.62680  7.17967   \n",
       "\n",
       "      smoker  erytrocyty     er-cv  indicator          ssn  hematokrit  \n",
       "10030      N     9.21009  40.17639        1.0  028-45-3066     6.95568  \n",
       "10031      Y     5.01783  22.59664        1.0  041-77-3799     6.69757  \n",
       "10032      Y     7.88062  65.02538        0.0  227-65-3699     5.46733  \n",
       "10033     no     6.81522  64.56211        0.0  669-16-6262     6.82568  \n",
       "10034      N     7.49288  70.23548        1.0  524-42-2099     7.11213  "
      ]
     },
     "execution_count": 8,
     "metadata": {},
     "output_type": "execute_result"
    }
   ],
   "source": [
    "df_labor.tail()"
   ]
  },
  {
   "cell_type": "code",
   "execution_count": 9,
   "id": "43b3aa4e-c3ca-48de-87b1-5a31e81b94f8",
   "metadata": {},
   "outputs": [
    {
     "data": {
      "text/html": [
       "<div>\n",
       "<style scoped>\n",
       "    .dataframe tbody tr th:only-of-type {\n",
       "        vertical-align: middle;\n",
       "    }\n",
       "\n",
       "    .dataframe tbody tr th {\n",
       "        vertical-align: top;\n",
       "    }\n",
       "\n",
       "    .dataframe thead th {\n",
       "        text-align: right;\n",
       "    }\n",
       "</style>\n",
       "<table border=\"1\" class=\"dataframe\">\n",
       "  <thead>\n",
       "    <tr style=\"text-align: right;\">\n",
       "      <th></th>\n",
       "      <th>Unnamed: 0</th>\n",
       "      <th>name</th>\n",
       "      <th>sex</th>\n",
       "      <th>current_location</th>\n",
       "      <th>blood_group</th>\n",
       "      <th>residence</th>\n",
       "      <th>birthdate</th>\n",
       "      <th>race</th>\n",
       "      <th>ssn</th>\n",
       "      <th>address</th>\n",
       "    </tr>\n",
       "  </thead>\n",
       "  <tbody>\n",
       "    <tr>\n",
       "      <th>3059</th>\n",
       "      <td>3059</td>\n",
       "      <td>Mark Washington</td>\n",
       "      <td>M</td>\n",
       "      <td>(Decimal('-29.355461'), Decimal('39.128253'))</td>\n",
       "      <td>AB+</td>\n",
       "      <td>Unit 8496 Box 2991\\nDPO AP 60676</td>\n",
       "      <td>02/06/1948, 00:00:00</td>\n",
       "      <td>Black</td>\n",
       "      <td>769-02-2637</td>\n",
       "      <td>96780 Justin Knoll Suite 589\\nJonesview, FL 29858</td>\n",
       "    </tr>\n",
       "    <tr>\n",
       "      <th>3060</th>\n",
       "      <td>3060</td>\n",
       "      <td>Kevin Torres</td>\n",
       "      <td>M</td>\n",
       "      <td>(Decimal('44.1155125'), Decimal('-61.909003'))</td>\n",
       "      <td>O+</td>\n",
       "      <td>Unit 6807 Box 8669\\nDPO AP 84633</td>\n",
       "      <td>2004-08-16</td>\n",
       "      <td>white</td>\n",
       "      <td>377-66-0191</td>\n",
       "      <td>03913 Wendy Prairie Suite 372\\nWatsonberg, ND ...</td>\n",
       "    </tr>\n",
       "    <tr>\n",
       "      <th>3061</th>\n",
       "      <td>3061</td>\n",
       "      <td>Sarah Hill</td>\n",
       "      <td>F</td>\n",
       "      <td>(Decimal('50.745986'), Decimal('63.552771'))</td>\n",
       "      <td>B+</td>\n",
       "      <td>419 Barrett Radial Apt. 974\\nParkermouth, PA 6...</td>\n",
       "      <td>01/04/1993, 00:00:00</td>\n",
       "      <td>White</td>\n",
       "      <td>749-86-9765</td>\n",
       "      <td>882 Shawn Springs Suite 743\\nNorth Amanda, DC ...</td>\n",
       "    </tr>\n",
       "    <tr>\n",
       "      <th>3062</th>\n",
       "      <td>3062</td>\n",
       "      <td>Pamela Tran</td>\n",
       "      <td>F</td>\n",
       "      <td>(Decimal('34.925995'), Decimal('-144.163677'))</td>\n",
       "      <td>B-</td>\n",
       "      <td>5877 Jessica Viaduct Apt. 409\\nLake Kevin, WY ...</td>\n",
       "      <td>1923-01-19</td>\n",
       "      <td>black</td>\n",
       "      <td>300-60-6784</td>\n",
       "      <td>56665 Jorge Manors Apt. 278\\nMarcoview, AL 06505</td>\n",
       "    </tr>\n",
       "    <tr>\n",
       "      <th>3063</th>\n",
       "      <td>3063</td>\n",
       "      <td>John Robertson</td>\n",
       "      <td>M</td>\n",
       "      <td>(Decimal('-5.7541135'), Decimal('-147.114234'))</td>\n",
       "      <td>AB+</td>\n",
       "      <td>1990 Paul Tunnel Apt. 686\\nNorth Andreachester...</td>\n",
       "      <td>1966/04/22</td>\n",
       "      <td>Black</td>\n",
       "      <td>408-26-3386</td>\n",
       "      <td>2569 Christensen Rapids\\nGarrettchester, NM 24512</td>\n",
       "    </tr>\n",
       "  </tbody>\n",
       "</table>\n",
       "</div>"
      ],
      "text/plain": [
       "      Unnamed: 0             name sex  \\\n",
       "3059        3059  Mark Washington   M   \n",
       "3060        3060     Kevin Torres   M   \n",
       "3061        3061       Sarah Hill   F   \n",
       "3062        3062      Pamela Tran   F   \n",
       "3063        3063   John Robertson   M   \n",
       "\n",
       "                                     current_location blood_group  \\\n",
       "3059    (Decimal('-29.355461'), Decimal('39.128253'))         AB+   \n",
       "3060   (Decimal('44.1155125'), Decimal('-61.909003'))          O+   \n",
       "3061     (Decimal('50.745986'), Decimal('63.552771'))          B+   \n",
       "3062   (Decimal('34.925995'), Decimal('-144.163677'))          B-   \n",
       "3063  (Decimal('-5.7541135'), Decimal('-147.114234'))         AB+   \n",
       "\n",
       "                                              residence             birthdate  \\\n",
       "3059                   Unit 8496 Box 2991\\nDPO AP 60676  02/06/1948, 00:00:00   \n",
       "3060                   Unit 6807 Box 8669\\nDPO AP 84633            2004-08-16   \n",
       "3061  419 Barrett Radial Apt. 974\\nParkermouth, PA 6...  01/04/1993, 00:00:00   \n",
       "3062  5877 Jessica Viaduct Apt. 409\\nLake Kevin, WY ...            1923-01-19   \n",
       "3063  1990 Paul Tunnel Apt. 686\\nNorth Andreachester...            1966/04/22   \n",
       "\n",
       "       race          ssn                                            address  \n",
       "3059  Black  769-02-2637  96780 Justin Knoll Suite 589\\nJonesview, FL 29858  \n",
       "3060  white  377-66-0191  03913 Wendy Prairie Suite 372\\nWatsonberg, ND ...  \n",
       "3061  White  749-86-9765  882 Shawn Springs Suite 743\\nNorth Amanda, DC ...  \n",
       "3062  black  300-60-6784   56665 Jorge Manors Apt. 278\\nMarcoview, AL 06505  \n",
       "3063  Black  408-26-3386  2569 Christensen Rapids\\nGarrettchester, NM 24512  "
      ]
     },
     "execution_count": 9,
     "metadata": {},
     "output_type": "execute_result"
    }
   ],
   "source": [
    "df_profiles.tail()"
   ]
  },
  {
   "cell_type": "markdown",
   "id": "34e8a54c-497b-4465-b626-13b4cd35b50b",
   "metadata": {},
   "source": [
    " - pozrieme sa odzadu na dáta"
   ]
  },
  {
   "cell_type": "markdown",
   "id": "bb60f9d6-0c22-4472-8b84-cfd7a0381ad1",
   "metadata": {},
   "source": [
    " - môžeme vidieť, že v oboch prípadoch stĺpec **Unnamed:0** slúži ako index/riadkovanie, tak to upravíme\n",
    " - profiles má rozdielny zápis pri birthday\n",
    " - ssn = social security number"
   ]
  },
  {
   "cell_type": "code",
   "execution_count": 10,
   "id": "ad5b8224-2210-4100-b426-6a8b3fef629d",
   "metadata": {},
   "outputs": [
    {
     "data": {
      "text/html": [
       "<div>\n",
       "<style scoped>\n",
       "    .dataframe tbody tr th:only-of-type {\n",
       "        vertical-align: middle;\n",
       "    }\n",
       "\n",
       "    .dataframe tbody tr th {\n",
       "        vertical-align: top;\n",
       "    }\n",
       "\n",
       "    .dataframe thead th {\n",
       "        text-align: right;\n",
       "    }\n",
       "</style>\n",
       "<table border=\"1\" class=\"dataframe\">\n",
       "  <thead>\n",
       "    <tr style=\"text-align: right;\">\n",
       "      <th></th>\n",
       "      <th>Unnamed: 0</th>\n",
       "    </tr>\n",
       "  </thead>\n",
       "  <tbody>\n",
       "    <tr>\n",
       "      <th>count</th>\n",
       "      <td>3064.000000</td>\n",
       "    </tr>\n",
       "    <tr>\n",
       "      <th>mean</th>\n",
       "      <td>1531.500000</td>\n",
       "    </tr>\n",
       "    <tr>\n",
       "      <th>std</th>\n",
       "      <td>884.644938</td>\n",
       "    </tr>\n",
       "    <tr>\n",
       "      <th>min</th>\n",
       "      <td>0.000000</td>\n",
       "    </tr>\n",
       "    <tr>\n",
       "      <th>25%</th>\n",
       "      <td>765.750000</td>\n",
       "    </tr>\n",
       "    <tr>\n",
       "      <th>50%</th>\n",
       "      <td>1531.500000</td>\n",
       "    </tr>\n",
       "    <tr>\n",
       "      <th>75%</th>\n",
       "      <td>2297.250000</td>\n",
       "    </tr>\n",
       "    <tr>\n",
       "      <th>max</th>\n",
       "      <td>3063.000000</td>\n",
       "    </tr>\n",
       "  </tbody>\n",
       "</table>\n",
       "</div>"
      ],
      "text/plain": [
       "        Unnamed: 0\n",
       "count  3064.000000\n",
       "mean   1531.500000\n",
       "std     884.644938\n",
       "min       0.000000\n",
       "25%     765.750000\n",
       "50%    1531.500000\n",
       "75%    2297.250000\n",
       "max    3063.000000"
      ]
     },
     "execution_count": 10,
     "metadata": {},
     "output_type": "execute_result"
    }
   ],
   "source": [
    "df_profiles.describe()"
   ]
  },
  {
   "cell_type": "markdown",
   "id": "fff5f66b-69fe-42df-86c2-e7cfd960ff3f",
   "metadata": {},
   "source": [
    " - descibe na profiles je zbytočný, kedžde **Unnamed: 0** má byť indexovanie"
   ]
  },
  {
   "cell_type": "code",
   "execution_count": 11,
   "id": "91809963-6dcc-46ec-9005-5d624bcaf088",
   "metadata": {},
   "outputs": [
    {
     "data": {
      "text/html": [
       "<div>\n",
       "<style scoped>\n",
       "    .dataframe tbody tr th:only-of-type {\n",
       "        vertical-align: middle;\n",
       "    }\n",
       "\n",
       "    .dataframe tbody tr th {\n",
       "        vertical-align: top;\n",
       "    }\n",
       "\n",
       "    .dataframe thead th {\n",
       "        text-align: right;\n",
       "    }\n",
       "</style>\n",
       "<table border=\"1\" class=\"dataframe\">\n",
       "  <thead>\n",
       "    <tr style=\"text-align: right;\">\n",
       "      <th></th>\n",
       "      <th>Unnamed: 0</th>\n",
       "      <th>hemoglobin</th>\n",
       "      <th>leukocyty</th>\n",
       "      <th>etytr</th>\n",
       "      <th>weight</th>\n",
       "      <th>trombocyty</th>\n",
       "      <th>ast</th>\n",
       "      <th>alp</th>\n",
       "      <th>alt</th>\n",
       "      <th>hbver</th>\n",
       "      <th>erytrocyty</th>\n",
       "      <th>er-cv</th>\n",
       "      <th>indicator</th>\n",
       "      <th>hematokrit</th>\n",
       "    </tr>\n",
       "  </thead>\n",
       "  <tbody>\n",
       "    <tr>\n",
       "      <th>count</th>\n",
       "      <td>10035.00000</td>\n",
       "      <td>10005.000000</td>\n",
       "      <td>10004.000000</td>\n",
       "      <td>10005.000000</td>\n",
       "      <td>10035.000000</td>\n",
       "      <td>10005.000000</td>\n",
       "      <td>10005.000000</td>\n",
       "      <td>10004.000000</td>\n",
       "      <td>10005.000000</td>\n",
       "      <td>10005.000000</td>\n",
       "      <td>10005.000000</td>\n",
       "      <td>10005.000000</td>\n",
       "      <td>10035.000000</td>\n",
       "      <td>10005.000000</td>\n",
       "    </tr>\n",
       "    <tr>\n",
       "      <th>mean</th>\n",
       "      <td>5017.00000</td>\n",
       "      <td>6.416198</td>\n",
       "      <td>6.777737</td>\n",
       "      <td>5.990406</td>\n",
       "      <td>69.859131</td>\n",
       "      <td>6.437079</td>\n",
       "      <td>68.231703</td>\n",
       "      <td>71.309492</td>\n",
       "      <td>2.197095</td>\n",
       "      <td>6.864928</td>\n",
       "      <td>6.427883</td>\n",
       "      <td>50.593076</td>\n",
       "      <td>0.641455</td>\n",
       "      <td>6.417913</td>\n",
       "    </tr>\n",
       "    <tr>\n",
       "      <th>std</th>\n",
       "      <td>2896.99931</td>\n",
       "      <td>1.006319</td>\n",
       "      <td>1.645043</td>\n",
       "      <td>1.633699</td>\n",
       "      <td>34.627389</td>\n",
       "      <td>0.988548</td>\n",
       "      <td>8.291273</td>\n",
       "      <td>19.056185</td>\n",
       "      <td>3.726174</td>\n",
       "      <td>1.700452</td>\n",
       "      <td>1.701901</td>\n",
       "      <td>13.840494</td>\n",
       "      <td>0.479597</td>\n",
       "      <td>1.004907</td>\n",
       "    </tr>\n",
       "    <tr>\n",
       "      <th>min</th>\n",
       "      <td>0.00000</td>\n",
       "      <td>2.944150</td>\n",
       "      <td>0.217130</td>\n",
       "      <td>0.000000</td>\n",
       "      <td>-68.325310</td>\n",
       "      <td>2.999650</td>\n",
       "      <td>0.000000</td>\n",
       "      <td>0.000000</td>\n",
       "      <td>0.000000</td>\n",
       "      <td>1.495520</td>\n",
       "      <td>1.032780</td>\n",
       "      <td>0.000000</td>\n",
       "      <td>0.000000</td>\n",
       "      <td>2.713920</td>\n",
       "    </tr>\n",
       "    <tr>\n",
       "      <th>25%</th>\n",
       "      <td>2508.50000</td>\n",
       "      <td>5.735950</td>\n",
       "      <td>5.474353</td>\n",
       "      <td>4.823230</td>\n",
       "      <td>46.136205</td>\n",
       "      <td>5.764240</td>\n",
       "      <td>62.610470</td>\n",
       "      <td>62.698557</td>\n",
       "      <td>0.926420</td>\n",
       "      <td>5.422540</td>\n",
       "      <td>5.151340</td>\n",
       "      <td>41.482190</td>\n",
       "      <td>0.000000</td>\n",
       "      <td>5.735940</td>\n",
       "    </tr>\n",
       "    <tr>\n",
       "      <th>50%</th>\n",
       "      <td>5017.00000</td>\n",
       "      <td>6.428260</td>\n",
       "      <td>6.828010</td>\n",
       "      <td>5.823300</td>\n",
       "      <td>69.491810</td>\n",
       "      <td>6.443160</td>\n",
       "      <td>68.257620</td>\n",
       "      <td>77.772515</td>\n",
       "      <td>1.229920</td>\n",
       "      <td>6.752090</td>\n",
       "      <td>6.296280</td>\n",
       "      <td>50.508420</td>\n",
       "      <td>1.000000</td>\n",
       "      <td>6.425880</td>\n",
       "    </tr>\n",
       "    <tr>\n",
       "      <th>75%</th>\n",
       "      <td>7525.50000</td>\n",
       "      <td>7.095870</td>\n",
       "      <td>8.013475</td>\n",
       "      <td>7.103040</td>\n",
       "      <td>93.608480</td>\n",
       "      <td>7.097900</td>\n",
       "      <td>73.892760</td>\n",
       "      <td>84.970195</td>\n",
       "      <td>1.966430</td>\n",
       "      <td>8.115930</td>\n",
       "      <td>7.672460</td>\n",
       "      <td>59.893420</td>\n",
       "      <td>1.000000</td>\n",
       "      <td>7.085230</td>\n",
       "    </tr>\n",
       "    <tr>\n",
       "      <th>max</th>\n",
       "      <td>10034.00000</td>\n",
       "      <td>10.049840</td>\n",
       "      <td>12.580870</td>\n",
       "      <td>11.632230</td>\n",
       "      <td>191.261970</td>\n",
       "      <td>10.383570</td>\n",
       "      <td>100.000000</td>\n",
       "      <td>100.000000</td>\n",
       "      <td>100.000000</td>\n",
       "      <td>13.080820</td>\n",
       "      <td>12.155200</td>\n",
       "      <td>100.000000</td>\n",
       "      <td>1.000000</td>\n",
       "      <td>10.628720</td>\n",
       "    </tr>\n",
       "  </tbody>\n",
       "</table>\n",
       "</div>"
      ],
      "text/plain": [
       "        Unnamed: 0    hemoglobin     leukocyty         etytr        weight  \\\n",
       "count  10035.00000  10005.000000  10004.000000  10005.000000  10035.000000   \n",
       "mean    5017.00000      6.416198      6.777737      5.990406     69.859131   \n",
       "std     2896.99931      1.006319      1.645043      1.633699     34.627389   \n",
       "min        0.00000      2.944150      0.217130      0.000000    -68.325310   \n",
       "25%     2508.50000      5.735950      5.474353      4.823230     46.136205   \n",
       "50%     5017.00000      6.428260      6.828010      5.823300     69.491810   \n",
       "75%     7525.50000      7.095870      8.013475      7.103040     93.608480   \n",
       "max    10034.00000     10.049840     12.580870     11.632230    191.261970   \n",
       "\n",
       "         trombocyty           ast           alp           alt         hbver  \\\n",
       "count  10005.000000  10005.000000  10004.000000  10005.000000  10005.000000   \n",
       "mean       6.437079     68.231703     71.309492      2.197095      6.864928   \n",
       "std        0.988548      8.291273     19.056185      3.726174      1.700452   \n",
       "min        2.999650      0.000000      0.000000      0.000000      1.495520   \n",
       "25%        5.764240     62.610470     62.698557      0.926420      5.422540   \n",
       "50%        6.443160     68.257620     77.772515      1.229920      6.752090   \n",
       "75%        7.097900     73.892760     84.970195      1.966430      8.115930   \n",
       "max       10.383570    100.000000    100.000000    100.000000     13.080820   \n",
       "\n",
       "         erytrocyty         er-cv     indicator    hematokrit  \n",
       "count  10005.000000  10005.000000  10035.000000  10005.000000  \n",
       "mean       6.427883     50.593076      0.641455      6.417913  \n",
       "std        1.701901     13.840494      0.479597      1.004907  \n",
       "min        1.032780      0.000000      0.000000      2.713920  \n",
       "25%        5.151340     41.482190      0.000000      5.735940  \n",
       "50%        6.296280     50.508420      1.000000      6.425880  \n",
       "75%        7.672460     59.893420      1.000000      7.085230  \n",
       "max       12.155200    100.000000      1.000000     10.628720  "
      ]
     },
     "execution_count": 11,
     "metadata": {},
     "output_type": "execute_result"
    }
   ],
   "source": [
    "df_labor.describe()"
   ]
  },
  {
   "cell_type": "code",
   "execution_count": 12,
   "id": "4b555d47-ebca-49a6-881e-1a5da55ee3c8",
   "metadata": {},
   "outputs": [
    {
     "data": {
      "text/html": [
       "<div>\n",
       "<style scoped>\n",
       "    .dataframe tbody tr th:only-of-type {\n",
       "        vertical-align: middle;\n",
       "    }\n",
       "\n",
       "    .dataframe tbody tr th {\n",
       "        vertical-align: top;\n",
       "    }\n",
       "\n",
       "    .dataframe thead th {\n",
       "        text-align: right;\n",
       "    }\n",
       "</style>\n",
       "<table border=\"1\" class=\"dataframe\">\n",
       "  <thead>\n",
       "    <tr style=\"text-align: right;\">\n",
       "      <th></th>\n",
       "      <th>Unnamed: 0</th>\n",
       "      <th>hemoglobin</th>\n",
       "      <th>leukocyty</th>\n",
       "      <th>etytr</th>\n",
       "      <th>weight</th>\n",
       "      <th>trombocyty</th>\n",
       "      <th>ast</th>\n",
       "      <th>alp</th>\n",
       "      <th>relationship</th>\n",
       "      <th>name</th>\n",
       "      <th>alt</th>\n",
       "      <th>hbver</th>\n",
       "      <th>smoker</th>\n",
       "      <th>erytrocyty</th>\n",
       "      <th>er-cv</th>\n",
       "      <th>indicator</th>\n",
       "      <th>ssn</th>\n",
       "      <th>hematokrit</th>\n",
       "    </tr>\n",
       "  </thead>\n",
       "  <tbody>\n",
       "    <tr>\n",
       "      <th>0</th>\n",
       "      <td>0</td>\n",
       "      <td>5.49908</td>\n",
       "      <td>5.15386</td>\n",
       "      <td>5.09355</td>\n",
       "      <td>-25.99875</td>\n",
       "      <td>5.55556</td>\n",
       "      <td>47.47899</td>\n",
       "      <td>3.93519</td>\n",
       "      <td>married</td>\n",
       "      <td>Lisa Johnson</td>\n",
       "      <td>0.80941</td>\n",
       "      <td>4.18238</td>\n",
       "      <td>no</td>\n",
       "      <td>4.39560</td>\n",
       "      <td>8.03320</td>\n",
       "      <td>1.0</td>\n",
       "      <td>025-80-8154</td>\n",
       "      <td>5.37203</td>\n",
       "    </tr>\n",
       "    <tr>\n",
       "      <th>1</th>\n",
       "      <td>1</td>\n",
       "      <td>5.94626</td>\n",
       "      <td>8.38053</td>\n",
       "      <td>NaN</td>\n",
       "      <td>1.90895</td>\n",
       "      <td>5.94844</td>\n",
       "      <td>47.48398</td>\n",
       "      <td>13.05501</td>\n",
       "      <td>NaN</td>\n",
       "      <td>William Smith</td>\n",
       "      <td>0.94810</td>\n",
       "      <td>4.30120</td>\n",
       "      <td>NaN</td>\n",
       "      <td>4.65822</td>\n",
       "      <td>16.59002</td>\n",
       "      <td>NaN</td>\n",
       "      <td>036-69-5479</td>\n",
       "      <td>5.77042</td>\n",
       "    </tr>\n",
       "    <tr>\n",
       "      <th>2</th>\n",
       "      <td>2</td>\n",
       "      <td>6.10271</td>\n",
       "      <td>NaN</td>\n",
       "      <td>NaN</td>\n",
       "      <td>5.31174</td>\n",
       "      <td>6.41337</td>\n",
       "      <td>51.16316</td>\n",
       "      <td>14.85714</td>\n",
       "      <td>NaN</td>\n",
       "      <td>NaN</td>\n",
       "      <td>0.95419</td>\n",
       "      <td>4.37407</td>\n",
       "      <td>NaN</td>\n",
       "      <td>7.46027</td>\n",
       "      <td>20.20161</td>\n",
       "      <td>NaN</td>\n",
       "      <td>055-40-9628</td>\n",
       "      <td>6.08485</td>\n",
       "    </tr>\n",
       "    <tr>\n",
       "      <th>3</th>\n",
       "      <td>3</td>\n",
       "      <td>6.36522</td>\n",
       "      <td>NaN</td>\n",
       "      <td>NaN</td>\n",
       "      <td>10.20883</td>\n",
       "      <td>6.57086</td>\n",
       "      <td>54.26873</td>\n",
       "      <td>16.21971</td>\n",
       "      <td>NaN</td>\n",
       "      <td>NaN</td>\n",
       "      <td>0.96373</td>\n",
       "      <td>4.37773</td>\n",
       "      <td>NaN</td>\n",
       "      <td>7.79935</td>\n",
       "      <td>25.30805</td>\n",
       "      <td>NaN</td>\n",
       "      <td>085-41-8095</td>\n",
       "      <td>6.92077</td>\n",
       "    </tr>\n",
       "    <tr>\n",
       "      <th>4</th>\n",
       "      <td>4</td>\n",
       "      <td>NaN</td>\n",
       "      <td>NaN</td>\n",
       "      <td>NaN</td>\n",
       "      <td>15.78444</td>\n",
       "      <td>6.66867</td>\n",
       "      <td>54.53670</td>\n",
       "      <td>16.94870</td>\n",
       "      <td>NaN</td>\n",
       "      <td>NaN</td>\n",
       "      <td>1.01803</td>\n",
       "      <td>4.44520</td>\n",
       "      <td>NaN</td>\n",
       "      <td>NaN</td>\n",
       "      <td>25.51180</td>\n",
       "      <td>NaN</td>\n",
       "      <td>090-58-2482</td>\n",
       "      <td>7.45304</td>\n",
       "    </tr>\n",
       "    <tr>\n",
       "      <th>...</th>\n",
       "      <td>...</td>\n",
       "      <td>...</td>\n",
       "      <td>...</td>\n",
       "      <td>...</td>\n",
       "      <td>...</td>\n",
       "      <td>...</td>\n",
       "      <td>...</td>\n",
       "      <td>...</td>\n",
       "      <td>...</td>\n",
       "      <td>...</td>\n",
       "      <td>...</td>\n",
       "      <td>...</td>\n",
       "      <td>...</td>\n",
       "      <td>...</td>\n",
       "      <td>...</td>\n",
       "      <td>...</td>\n",
       "      <td>...</td>\n",
       "      <td>...</td>\n",
       "    </tr>\n",
       "    <tr>\n",
       "      <th>10030</th>\n",
       "      <td>10030</td>\n",
       "      <td>NaN</td>\n",
       "      <td>NaN</td>\n",
       "      <td>NaN</td>\n",
       "      <td>NaN</td>\n",
       "      <td>NaN</td>\n",
       "      <td>NaN</td>\n",
       "      <td>NaN</td>\n",
       "      <td>NaN</td>\n",
       "      <td>NaN</td>\n",
       "      <td>NaN</td>\n",
       "      <td>NaN</td>\n",
       "      <td>NaN</td>\n",
       "      <td>NaN</td>\n",
       "      <td>NaN</td>\n",
       "      <td>NaN</td>\n",
       "      <td>NaN</td>\n",
       "      <td>NaN</td>\n",
       "    </tr>\n",
       "    <tr>\n",
       "      <th>10031</th>\n",
       "      <td>10031</td>\n",
       "      <td>NaN</td>\n",
       "      <td>NaN</td>\n",
       "      <td>NaN</td>\n",
       "      <td>NaN</td>\n",
       "      <td>NaN</td>\n",
       "      <td>NaN</td>\n",
       "      <td>NaN</td>\n",
       "      <td>NaN</td>\n",
       "      <td>NaN</td>\n",
       "      <td>NaN</td>\n",
       "      <td>NaN</td>\n",
       "      <td>NaN</td>\n",
       "      <td>NaN</td>\n",
       "      <td>NaN</td>\n",
       "      <td>NaN</td>\n",
       "      <td>NaN</td>\n",
       "      <td>NaN</td>\n",
       "    </tr>\n",
       "    <tr>\n",
       "      <th>10032</th>\n",
       "      <td>10032</td>\n",
       "      <td>NaN</td>\n",
       "      <td>NaN</td>\n",
       "      <td>NaN</td>\n",
       "      <td>NaN</td>\n",
       "      <td>NaN</td>\n",
       "      <td>NaN</td>\n",
       "      <td>NaN</td>\n",
       "      <td>NaN</td>\n",
       "      <td>NaN</td>\n",
       "      <td>NaN</td>\n",
       "      <td>NaN</td>\n",
       "      <td>NaN</td>\n",
       "      <td>NaN</td>\n",
       "      <td>NaN</td>\n",
       "      <td>NaN</td>\n",
       "      <td>NaN</td>\n",
       "      <td>NaN</td>\n",
       "    </tr>\n",
       "    <tr>\n",
       "      <th>10033</th>\n",
       "      <td>10033</td>\n",
       "      <td>NaN</td>\n",
       "      <td>NaN</td>\n",
       "      <td>NaN</td>\n",
       "      <td>NaN</td>\n",
       "      <td>NaN</td>\n",
       "      <td>NaN</td>\n",
       "      <td>NaN</td>\n",
       "      <td>NaN</td>\n",
       "      <td>NaN</td>\n",
       "      <td>NaN</td>\n",
       "      <td>NaN</td>\n",
       "      <td>NaN</td>\n",
       "      <td>NaN</td>\n",
       "      <td>NaN</td>\n",
       "      <td>NaN</td>\n",
       "      <td>NaN</td>\n",
       "      <td>NaN</td>\n",
       "    </tr>\n",
       "    <tr>\n",
       "      <th>10034</th>\n",
       "      <td>10034</td>\n",
       "      <td>NaN</td>\n",
       "      <td>NaN</td>\n",
       "      <td>NaN</td>\n",
       "      <td>NaN</td>\n",
       "      <td>NaN</td>\n",
       "      <td>NaN</td>\n",
       "      <td>NaN</td>\n",
       "      <td>NaN</td>\n",
       "      <td>NaN</td>\n",
       "      <td>NaN</td>\n",
       "      <td>NaN</td>\n",
       "      <td>NaN</td>\n",
       "      <td>NaN</td>\n",
       "      <td>NaN</td>\n",
       "      <td>NaN</td>\n",
       "      <td>NaN</td>\n",
       "      <td>NaN</td>\n",
       "    </tr>\n",
       "  </tbody>\n",
       "</table>\n",
       "<p>10035 rows × 18 columns</p>\n",
       "</div>"
      ],
      "text/plain": [
       "       Unnamed: 0  hemoglobin  leukocyty    etytr    weight  trombocyty  \\\n",
       "0               0     5.49908    5.15386  5.09355 -25.99875     5.55556   \n",
       "1               1     5.94626    8.38053      NaN   1.90895     5.94844   \n",
       "2               2     6.10271        NaN      NaN   5.31174     6.41337   \n",
       "3               3     6.36522        NaN      NaN  10.20883     6.57086   \n",
       "4               4         NaN        NaN      NaN  15.78444     6.66867   \n",
       "...           ...         ...        ...      ...       ...         ...   \n",
       "10030       10030         NaN        NaN      NaN       NaN         NaN   \n",
       "10031       10031         NaN        NaN      NaN       NaN         NaN   \n",
       "10032       10032         NaN        NaN      NaN       NaN         NaN   \n",
       "10033       10033         NaN        NaN      NaN       NaN         NaN   \n",
       "10034       10034         NaN        NaN      NaN       NaN         NaN   \n",
       "\n",
       "            ast       alp relationship           name      alt    hbver  \\\n",
       "0      47.47899   3.93519      married   Lisa Johnson  0.80941  4.18238   \n",
       "1      47.48398  13.05501          NaN  William Smith  0.94810  4.30120   \n",
       "2      51.16316  14.85714          NaN            NaN  0.95419  4.37407   \n",
       "3      54.26873  16.21971          NaN            NaN  0.96373  4.37773   \n",
       "4      54.53670  16.94870          NaN            NaN  1.01803  4.44520   \n",
       "...         ...       ...          ...            ...      ...      ...   \n",
       "10030       NaN       NaN          NaN            NaN      NaN      NaN   \n",
       "10031       NaN       NaN          NaN            NaN      NaN      NaN   \n",
       "10032       NaN       NaN          NaN            NaN      NaN      NaN   \n",
       "10033       NaN       NaN          NaN            NaN      NaN      NaN   \n",
       "10034       NaN       NaN          NaN            NaN      NaN      NaN   \n",
       "\n",
       "      smoker  erytrocyty     er-cv  indicator          ssn  hematokrit  \n",
       "0         no     4.39560   8.03320        1.0  025-80-8154     5.37203  \n",
       "1        NaN     4.65822  16.59002        NaN  036-69-5479     5.77042  \n",
       "2        NaN     7.46027  20.20161        NaN  055-40-9628     6.08485  \n",
       "3        NaN     7.79935  25.30805        NaN  085-41-8095     6.92077  \n",
       "4        NaN         NaN  25.51180        NaN  090-58-2482     7.45304  \n",
       "...      ...         ...       ...        ...          ...         ...  \n",
       "10030    NaN         NaN       NaN        NaN          NaN         NaN  \n",
       "10031    NaN         NaN       NaN        NaN          NaN         NaN  \n",
       "10032    NaN         NaN       NaN        NaN          NaN         NaN  \n",
       "10033    NaN         NaN       NaN        NaN          NaN         NaN  \n",
       "10034    NaN         NaN       NaN        NaN          NaN         NaN  \n",
       "\n",
       "[10035 rows x 18 columns]"
      ]
     },
     "execution_count": 12,
     "metadata": {},
     "output_type": "execute_result"
    }
   ],
   "source": [
    "df_labor.mode()"
   ]
  },
  {
   "cell_type": "code",
   "execution_count": 13,
   "id": "e26d693b-a4bc-488c-9044-e646c6aef78f",
   "metadata": {},
   "outputs": [
    {
     "data": {
      "text/plain": [
       "0    5.49908\n",
       "1    5.94626\n",
       "2    6.10271\n",
       "3    6.36522\n",
       "dtype: float64"
      ]
     },
     "execution_count": 13,
     "metadata": {},
     "output_type": "execute_result"
    }
   ],
   "source": [
    "df_labor.hemoglobin.mode()"
   ]
  },
  {
   "cell_type": "code",
   "execution_count": 14,
   "id": "21774c82-e172-4c89-8511-ce0e3dc41345",
   "metadata": {},
   "outputs": [
    {
     "data": {
      "text/plain": [
       "ModeResult(mode=array([5.49908]), count=array([3]))"
      ]
     },
     "execution_count": 14,
     "metadata": {},
     "output_type": "execute_result"
    }
   ],
   "source": [
    "stats.mode(a=df_labor.hemoglobin)"
   ]
  },
  {
   "cell_type": "code",
   "execution_count": 15,
   "id": "edf8f2f3-e14a-4aa1-9ef5-81beda01b586",
   "metadata": {},
   "outputs": [
    {
     "data": {
      "text/plain": [
       "array([[<AxesSubplot:title={'center':'Unnamed: 0'}>,\n",
       "        <AxesSubplot:title={'center':'hemoglobin'}>,\n",
       "        <AxesSubplot:title={'center':'leukocyty'}>,\n",
       "        <AxesSubplot:title={'center':'etytr'}>],\n",
       "       [<AxesSubplot:title={'center':'weight'}>,\n",
       "        <AxesSubplot:title={'center':'trombocyty'}>,\n",
       "        <AxesSubplot:title={'center':'ast'}>,\n",
       "        <AxesSubplot:title={'center':'alp'}>],\n",
       "       [<AxesSubplot:title={'center':'alt'}>,\n",
       "        <AxesSubplot:title={'center':'hbver'}>,\n",
       "        <AxesSubplot:title={'center':'erytrocyty'}>,\n",
       "        <AxesSubplot:title={'center':'er-cv'}>],\n",
       "       [<AxesSubplot:title={'center':'indicator'}>,\n",
       "        <AxesSubplot:title={'center':'hematokrit'}>, <AxesSubplot:>,\n",
       "        <AxesSubplot:>]], dtype=object)"
      ]
     },
     "execution_count": 15,
     "metadata": {},
     "output_type": "execute_result"
    },
    {
     "data": {
      "image/png": "[encoded data removed]",
      "text/plain": [
       "<Figure size 432x288 with 16 Axes>"
      ]
     },
     "metadata": {
      "needs_background": "light"
     },
     "output_type": "display_data"
    }
   ],
   "source": [
    "df_labor.hist(bins=50)"
   ]
  },
  {
   "cell_type": "markdown",
   "id": "dc73c78d-d112-4a6f-966d-7b27c09ae678",
   "metadata": {},
   "source": [
    " - z uvedených histogramov sa nepotrebujeme bližśie pozrieť na **Unnamed: 0**, pretože to je riadkovanie, a aj na **Indicator**, ktorý ma hodnoty 0 až 1\n",
    " "
   ]
  },
  {
   "cell_type": "code",
   "execution_count": 16,
   "id": "bb623daa-a278-4e24-bc05-8de9c9e53eed",
   "metadata": {},
   "outputs": [
    {
     "data": {
      "text/plain": [
       "<seaborn.axisgrid.FacetGrid at 0x7fe5336b1fd0>"
      ]
     },
     "execution_count": 16,
     "metadata": {},
     "output_type": "execute_result"
    },
    {
     "data": {
      "image/png": "[encoded data removed]",
      "text/plain": [
       "<Figure size 360x360 with 1 Axes>"
      ]
     },
     "metadata": {
      "needs_background": "light"
     },
     "output_type": "display_data"
    }
   ],
   "source": [
    "sns.displot(df_labor.hemoglobin)"
   ]
  },
  {
   "cell_type": "code",
   "execution_count": 17,
   "id": "88e86242-ef46-447d-bbf1-7829a15c6e28",
   "metadata": {},
   "outputs": [
    {
     "data": {
      "text/plain": [
       "<seaborn.axisgrid.FacetGrid at 0x7fe532456a20>"
      ]
     },
     "execution_count": 17,
     "metadata": {},
     "output_type": "execute_result"
    },
    {
     "data": {
      "image/png": "[encoded data removed]",
      "text/plain": [
       "<Figure size 360x360 with 1 Axes>"
      ]
     },
     "metadata": {
      "needs_background": "light"
     },
     "output_type": "display_data"
    }
   ],
   "source": [
    "sns.displot(df_labor.leukocyty)"
   ]
  },
  {
   "cell_type": "markdown",
   "id": "99ca92b5-232a-4d3c-9824-0c6779bcaa9d",
   "metadata": {},
   "source": [
    " - leukocyt je hlavným ukazovateľom pri leukémií -> dochádza počas leukémie k veľkému mnoźstvu bielych krviniek - leukecyty  \n",
    " - zaujímavá distribúcia - nie je Gaussova, bude asi potreba normalizovat? "
   ]
  },
  {
   "cell_type": "code",
   "execution_count": 18,
   "id": "0cc216e2-a5a0-4bdf-a3f5-5fef0bbc90fe",
   "metadata": {},
   "outputs": [
    {
     "data": {
      "text/plain": [
       "<seaborn.axisgrid.FacetGrid at 0x7fe53419ad68>"
      ]
     },
     "execution_count": 18,
     "metadata": {},
     "output_type": "execute_result"
    },
    {
     "data": {
      "image/png": "[encoded data removed]",
      "text/plain": [
       "<Figure size 360x360 with 1 Axes>"
      ]
     },
     "metadata": {
      "needs_background": "light"
     },
     "output_type": "display_data"
    }
   ],
   "source": [
    "sns.displot(df_labor.hematokrit)"
   ]
  },
  {
   "cell_type": "code",
   "execution_count": 19,
   "id": "2e9acc4b-6c83-41b4-a303-070543774665",
   "metadata": {},
   "outputs": [
    {
     "data": {
      "text/plain": [
       "<seaborn.axisgrid.FacetGrid at 0x7fe53450d160>"
      ]
     },
     "execution_count": 19,
     "metadata": {},
     "output_type": "execute_result"
    },
    {
     "data": {
      "image/png": "[encoded data removed]",
      "text/plain": [
       "<Figure size 360x360 with 1 Axes>"
      ]
     },
     "metadata": {
      "needs_background": "light"
     },
     "output_type": "display_data"
    }
   ],
   "source": [
    "sns.displot(df_labor.erytrocyty)"
   ]
  },
  {
   "cell_type": "code",
   "execution_count": 20,
   "id": "44f42f92-a99c-4b31-bb5d-0a792f30d411",
   "metadata": {},
   "outputs": [
    {
     "data": {
      "text/plain": [
       "<seaborn.axisgrid.FacetGrid at 0x7fe53450dbe0>"
      ]
     },
     "execution_count": 20,
     "metadata": {},
     "output_type": "execute_result"
    },
    {
     "data": {
      "image/png": "[encoded data removed]",
      "text/plain": [
       "<Figure size 360x360 with 1 Axes>"
      ]
     },
     "metadata": {
      "needs_background": "light"
     },
     "output_type": "display_data"
    }
   ],
   "source": [
    "sns.displot(df_labor.alp)"
   ]
  },
  {
   "cell_type": "markdown",
   "id": "9e40e497-3f62-4a44-822e-2998acfea085",
   "metadata": {},
   "source": [
    " - alp vyzerá byť v percentách, zaujímavé je, že okolo 80% je najčastejší počet"
   ]
  },
  {
   "cell_type": "markdown",
   "id": "3626b1bd-7a78-49d3-ac28-c264c792ff68",
   "metadata": {},
   "source": [
    "## 2. Párová analýza dát \n",
    "\n",
    "### Zadanie\n",
    "\n",
    " - Preskúmajte vzťahy medzi zvolenými dvojicami atribútov.\n",
    " - Identifikujte závislostí medzi dvojicami atribútov a závislosti medzi predikovanou premennou a ostatnými premennými.  \n",
    " \n",
    " ### Riešenie  \n",
    " \n",
    " \n",
    "Anémia  - low red blood cells\n",
    "        - Produkované v bone marrow \n",
    "\n",
    "Leukémia dokáže spôsobbiť anémiu. Prečo luekémia zabíja ? Lebo nefungujú poriadne červené krvinky takže zlyhajú orgány. Alebo nás zabije infekcia/baktéria lebo naám kvôli nej poriadne nefunguje imunitný systém.\n",
    "\n",
    "chronic lymphocytic leukemia je viac bežná u starších. acute lymphocytic leukemia (ALL) ľudía ľudi pod 20. Median je okolo 66 rokov. ale ludia pod 20 sa veľmi časo vyliečia.\n",
    "- leukocyt + age\n",
    "\n",
    "\n",
    "Fajné dvojice / Štvorica na anlýzu\n",
    "- leukocyt + ast - obe vysoké\n",
    "- leukocyt + alt - obe vysoké\n",
    "- leukocyt + alp - Vysoké obe (Taktiež vysoké pri anemických pacientoch ale pri leukemických je to o dosť väčšie)\n",
    "\n",
    "\n",
    "A hematocrit test measures how much of your blood is made up of red blood cells. Ak je ich veľa alebo málo je to indikát že niečo neni okej.\n",
    "Fajná trojica na analýzu\n",
    "- leukocyt (veľa) - erythrocyt (malo)\n",
    "- leukocyt (veľa) - hemoglobin (malo)\n",
    "- leukocyt (veľa) - hematokrit (malo)\n",
    "\n",
    "\n",
    "\n",
    "- hematokrit - erytrocytes\n",
    " "
   ]
  },
  {
   "cell_type": "code",
   "execution_count": 24,
   "id": "8abf4b9b-c6d1-4fe4-ac12-4ea114d6293d",
   "metadata": {},
   "outputs": [
    {
     "data": {
      "text/plain": [
       "<seaborn.axisgrid.PairGrid at 0x7fe53573cb38>"
      ]
     },
     "execution_count": 24,
     "metadata": {},
     "output_type": "execute_result"
    },
    {
     "data": {
      "image/png": "[encoded data removed]",
      "text/plain": [
       "<Figure size 598.375x540 with 12 Axes>"
      ]
     },
     "metadata": {
      "needs_background": "light"
     },
     "output_type": "display_data"
    }
   ],
   "source": [
    "# erytrocyt + leukocyty\n",
    "\n",
    "df_final = df_labor[['leukocyty', 'alt', 'ast', 'alp']]\n",
    "sns.pairplot(df_final, hue='leukocyty')"
   ]
  },
  {
   "cell_type": "code",
   "execution_count": 33,
   "id": "1bdbabc7-28dc-4dd6-9bbd-2d83041e0b98",
   "metadata": {},
   "outputs": [
    {
     "data": {
      "text/plain": [
       "<AxesSubplot:>"
      ]
     },
     "execution_count": 33,
     "metadata": {},
     "output_type": "execute_result"
    },
    {
     "data": {
      "image/png": "[encoded data removed]",
      "text/plain": [
       "<Figure size 360x1440 with 1 Axes>"
      ]
     },
     "metadata": {
      "needs_background": "light"
     },
     "output_type": "display_data"
    }
   ],
   "source": [
    "df_labor.boxplot(\"alt\", figsize=(5,20))"
   ]
  },
  {
   "cell_type": "code",
   "execution_count": null,
   "id": "be4fc0ff-82bd-46bc-88d0-1e286c085dc5",
   "metadata": {},
   "outputs": [],
   "source": [
    "# leukocyt + hematokrit"
   ]
  },
  {
   "cell_type": "code",
   "execution_count": null,
   "id": "385af5c5-2de5-42da-89bf-55e31391321c",
   "metadata": {},
   "outputs": [],
   "source": [
    "# leukocyt + hemoglobin"
   ]
  },
  {
   "cell_type": "code",
   "execution_count": null,
   "id": "4933f3b9-cd51-4731-b71d-133106c0c0f8",
   "metadata": {},
   "outputs": [],
   "source": [
    "# leukocyt vyššie => alt, alp a ast (enzýmy - hovoria o poškodení orgánov)"
   ]
  },
  {
   "cell_type": "markdown",
   "id": "157f37e2-158b-4eb1-8888-311befb3d29c",
   "metadata": {},
   "source": [
    "## 3. Formulácia a štatistické overenie hypotéz o dátach \n",
    "\n",
    "### Zadanie\n",
    "\n",
    " - Sformulujte dve hypotézy o dátach v kontexte zadanej predikčnej úlohy. Príkladom je napr. pacienti v zlepšenom stave majú v priemere inú (vyššiu/nižšiu) hodnotu nejakej látky alebo hormónu ako pacienti v nezlepšenom stave.\n",
    " - Sformulované hypotézy overte vhodne zvoleným štatistickým testom.\n",
    " \n",
    " ### Riešenie  \n",
    " \n",
    " "
   ]
  },
  {
   "cell_type": "code",
   "execution_count": null,
   "id": "818fe9de-f490-40f0-a096-93b9ec342f3f",
   "metadata": {},
   "outputs": [],
   "source": [
    "# ak je vyssi leukocyt, tak je vyssia pravdepodobnost, tak alt, alp a ast budu asi vyssie"
   ]
  },
  {
   "cell_type": "code",
   "execution_count": null,
   "id": "781ef071-dc06-4857-a54a-159e165e1fa3",
   "metadata": {},
   "outputs": [],
   "source": []
  },
  {
   "cell_type": "markdown",
   "id": "0554cc1c-4811-4d88-9945-eda7fca331b5",
   "metadata": {},
   "source": [
    "## 4. Identifikácia problémov v dátach s navrhnutým riešením  \n",
    "\n",
    "### Zadanie\n",
    "\n",
    " - Identifikujte problémy v dátach napr.: nevhodná štruktúra dát, duplicitné záznamy, nejednotné formáty, chýbajúce hodnoty, vychýlené hodnoty. V dátach sa môžu nachádzať aj iné, tu nevymenované problémy.\n",
    " - Navrhnuté riešenie prvotne realizujte na dátach. Problém s dátami môžete riešiť iteratívne v každej fáze aj vo všetkých fázach podľa potreby.\n",
    " \n",
    " ### Riešenie\n",
    " \n",
    " "
   ]
  },
  {
   "cell_type": "code",
   "execution_count": null,
   "id": "8dc3351c-e415-4a7e-8f5d-b78eefb6897c",
   "metadata": {},
   "outputs": [],
   "source": []
  },
  {
   "cell_type": "markdown",
   "id": "0e29b4d6-ec58-4804-84a4-9bf40dd6cfae",
   "metadata": {},
   "source": [
    " - nahradenie **Unnamed: 0** v oboch datasetoch za index"
   ]
  },
  {
   "cell_type": "code",
   "execution_count": null,
   "id": "7abd07d2-cce1-4966-b497-5d6eef757a38",
   "metadata": {},
   "outputs": [],
   "source": []
  }
 ],
 "metadata": {
  "kernelspec": {
   "display_name": "Python 3 (ipykernel)",
   "language": "python",
   "name": "python3"
  },
  "language_info": {
   "codemirror_mode": {
    "name": "ipython",
    "version": 3
   },
   "file_extension": ".py",
   "mimetype": "text/x-python",
   "name": "python",
   "nbconvert_exporter": "python",
   "pygments_lexer": "ipython3",
   "version": "3.7.3"
  }
 },
 "nbformat": 4,
 "nbformat_minor": 5
}
