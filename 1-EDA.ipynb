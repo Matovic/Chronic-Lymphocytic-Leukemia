{
 "cells": [
  {
   "cell_type": "markdown",
   "id": "24513f49-1397-43f4-9b40-d4610c0a03f1",
   "metadata": {},
   "source": [
    "# Exploratory Data Analysis\n",
    "Erik Matovič a Simon Kokavec"
   ]
  },
  {
   "cell_type": "markdown",
   "id": "a0a3c443-6047-4951-af61-c5f3781b0252",
   "metadata": {},
   "source": [
    "## 0. Importovanie"
   ]
  },
  {
   "cell_type": "code",
   "execution_count": 1,
   "id": "b6ae8e29-e4be-4a7f-83bb-ae96602cb1dd",
   "metadata": {},
   "outputs": [],
   "source": [
    "%matplotlib inline\n",
    "import matplotlib.pyplot as plt\n",
    "import seaborn as sns\n",
    "import pandas as pd\n",
    "import numpy as np"
   ]
  },
  {
   "cell_type": "markdown",
   "id": "8cded1cd-1b4a-4345-962c-ebc87acbb4e5",
   "metadata": {},
   "source": [
    "## 1. Základný opis dát spolu s ich charakteristikami"
   ]
  },
  {
   "cell_type": "markdown",
   "id": "7086e3a2-16fd-4941-b5dc-ec0f4375b816",
   "metadata": {},
   "source": [
    "Pre dosiahnutie plného počtu bodov uveďte\n",
    "počet záznamov,\n",
    "počet atribútov,\n",
    "ich typy,\n",
    "pre zvolené významné atribúty ich distribúcie, základné deskriptívne štatistiky a pod."
   ]
  },
  {
   "cell_type": "code",
   "execution_count": 2,
   "id": "9952c8b2-f96a-446d-8759-febfda6f1a8b",
   "metadata": {},
   "outputs": [],
   "source": [
    "# read labor and profiles dataset\n",
    "df_labor = pd.read_csv('./data/labor.csv', sep='\\t')\n",
    "df_profiles = pd.read_csv('./data/profiles.csv', sep='\\t')"
   ]
  },
  {
   "cell_type": "markdown",
   "id": "85e2395f-a216-431b-a45c-cbbe9dcc0d6b",
   "metadata": {},
   "source": [
    "labor.csv má 10035 riadkov/atributov a 18 stĺpcov/features\n",
    "profiles.csv má 3064 riadkov/atributov a 10 stĺpcov/features"
   ]
  },
  {
   "cell_type": "code",
   "execution_count": 3,
   "id": "9baec192-f91f-49b6-86b7-029e5031b3af",
   "metadata": {},
   "outputs": [
    {
     "data": {
      "text/plain": [
       "((10035, 18), (3064, 10))"
      ]
     },
     "execution_count": 3,
     "metadata": {},
     "output_type": "execute_result"
    }
   ],
   "source": [
    "df_labor.shape, df_profiles.shape"
   ]
  },
  {
   "cell_type": "markdown",
   "id": "0c831054-c0d7-47ba-b8f3-d6687872568e",
   "metadata": {},
   "source": [
    "labor.csv má 18 stĺpcov, prevažne sú numerického typu(int a float), niektoré sú typu object  \n",
    "zároveň je vidieť nesúmer medzi poćtom atribútov - 100035 je celkový poćet, avšak niektoré záznamy majú o 30 menej, t.j. 10005(stĺpce hematokrit, er-cv, erytrocyty, hbver, alt, ast, trombocyty, eryrt, hemoglobin) a niektoré(leukocyty a alp) majú 10004 -> nutnosť riešiť pri transformácií údajov"
   ]
  },
  {
   "cell_type": "code",
   "execution_count": 11,
   "id": "f8386935-230a-4b63-adf7-32eb1fa48a88",
   "metadata": {},
   "outputs": [
    {
     "name": "stdout",
     "output_type": "stream",
     "text": [
      "<class 'pandas.core.frame.DataFrame'>\n",
      "RangeIndex: 10035 entries, 0 to 10034\n",
      "Data columns (total 18 columns):\n",
      " #   Column        Non-Null Count  Dtype  \n",
      "---  ------        --------------  -----  \n",
      " 0   Unnamed: 0    10035 non-null  int64  \n",
      " 1   hemoglobin    10005 non-null  float64\n",
      " 2   leukocyty     10004 non-null  float64\n",
      " 3   etytr         10005 non-null  float64\n",
      " 4   weight        10035 non-null  float64\n",
      " 5   trombocyty    10005 non-null  float64\n",
      " 6   ast           10005 non-null  float64\n",
      " 7   alp           10004 non-null  float64\n",
      " 8   relationship  10035 non-null  object \n",
      " 9   name          10035 non-null  object \n",
      " 10  alt           10005 non-null  float64\n",
      " 11  hbver         10005 non-null  float64\n",
      " 12  smoker        10035 non-null  object \n",
      " 13  erytrocyty    10005 non-null  float64\n",
      " 14  er-cv         10005 non-null  float64\n",
      " 15  indicator     10035 non-null  float64\n",
      " 16  ssn           10035 non-null  object \n",
      " 17  hematokrit    10005 non-null  float64\n",
      "dtypes: float64(13), int64(1), object(4)\n",
      "memory usage: 1.4+ MB\n"
     ]
    }
   ],
   "source": [
    "df_labor.info()"
   ]
  },
  {
   "cell_type": "markdown",
   "id": "607863c9-fca0-4bbb-b503-e8b5ffa6e82c",
   "metadata": {},
   "source": [
    "profiles.csv má 10 stĺpcov, prevažne sú objektového typu(str), unnamed: 0 je celočíselného typu(integer) \n",
    "zároveň je vidieť, že všetky záznamy majú rovnaký poćet atribútov - 3064"
   ]
  },
  {
   "cell_type": "code",
   "execution_count": 12,
   "id": "9973b647-7b64-4778-8e90-3972e53d0857",
   "metadata": {},
   "outputs": [
    {
     "name": "stdout",
     "output_type": "stream",
     "text": [
      "<class 'pandas.core.frame.DataFrame'>\n",
      "RangeIndex: 3064 entries, 0 to 3063\n",
      "Data columns (total 10 columns):\n",
      " #   Column            Non-Null Count  Dtype \n",
      "---  ------            --------------  ----- \n",
      " 0   Unnamed: 0        3064 non-null   int64 \n",
      " 1   name              3064 non-null   object\n",
      " 2   sex               3064 non-null   object\n",
      " 3   current_location  3064 non-null   object\n",
      " 4   blood_group       3064 non-null   object\n",
      " 5   residence         3064 non-null   object\n",
      " 6   birthdate         3064 non-null   object\n",
      " 7   race              3064 non-null   object\n",
      " 8   ssn               3064 non-null   object\n",
      " 9   address           3064 non-null   object\n",
      "dtypes: int64(1), object(9)\n",
      "memory usage: 239.5+ KB\n"
     ]
    }
   ],
   "source": [
    "df_profiles.info()"
   ]
  },
  {
   "cell_type": "code",
   "execution_count": 4,
   "id": "ad5b8224-2210-4100-b426-6a8b3fef629d",
   "metadata": {},
   "outputs": [
    {
     "data": {
      "text/html": [
       "<div>\n",
       "<style scoped>\n",
       "    .dataframe tbody tr th:only-of-type {\n",
       "        vertical-align: middle;\n",
       "    }\n",
       "\n",
       "    .dataframe tbody tr th {\n",
       "        vertical-align: top;\n",
       "    }\n",
       "\n",
       "    .dataframe thead th {\n",
       "        text-align: right;\n",
       "    }\n",
       "</style>\n",
       "<table border=\"1\" class=\"dataframe\">\n",
       "  <thead>\n",
       "    <tr style=\"text-align: right;\">\n",
       "      <th></th>\n",
       "      <th>Unnamed: 0</th>\n",
       "    </tr>\n",
       "  </thead>\n",
       "  <tbody>\n",
       "    <tr>\n",
       "      <th>count</th>\n",
       "      <td>3064.000000</td>\n",
       "    </tr>\n",
       "    <tr>\n",
       "      <th>mean</th>\n",
       "      <td>1531.500000</td>\n",
       "    </tr>\n",
       "    <tr>\n",
       "      <th>std</th>\n",
       "      <td>884.644938</td>\n",
       "    </tr>\n",
       "    <tr>\n",
       "      <th>min</th>\n",
       "      <td>0.000000</td>\n",
       "    </tr>\n",
       "    <tr>\n",
       "      <th>25%</th>\n",
       "      <td>765.750000</td>\n",
       "    </tr>\n",
       "    <tr>\n",
       "      <th>50%</th>\n",
       "      <td>1531.500000</td>\n",
       "    </tr>\n",
       "    <tr>\n",
       "      <th>75%</th>\n",
       "      <td>2297.250000</td>\n",
       "    </tr>\n",
       "    <tr>\n",
       "      <th>max</th>\n",
       "      <td>3063.000000</td>\n",
       "    </tr>\n",
       "  </tbody>\n",
       "</table>\n",
       "</div>"
      ],
      "text/plain": [
       "        Unnamed: 0\n",
       "count  3064.000000\n",
       "mean   1531.500000\n",
       "std     884.644938\n",
       "min       0.000000\n",
       "25%     765.750000\n",
       "50%    1531.500000\n",
       "75%    2297.250000\n",
       "max    3063.000000"
      ]
     },
     "execution_count": 4,
     "metadata": {},
     "output_type": "execute_result"
    }
   ],
   "source": [
    "df_profiles.describe()"
   ]
  },
  {
   "cell_type": "code",
   "execution_count": 5,
   "id": "91809963-6dcc-46ec-9005-5d624bcaf088",
   "metadata": {},
   "outputs": [
    {
     "data": {
      "text/html": [
       "<div>\n",
       "<style scoped>\n",
       "    .dataframe tbody tr th:only-of-type {\n",
       "        vertical-align: middle;\n",
       "    }\n",
       "\n",
       "    .dataframe tbody tr th {\n",
       "        vertical-align: top;\n",
       "    }\n",
       "\n",
       "    .dataframe thead th {\n",
       "        text-align: right;\n",
       "    }\n",
       "</style>\n",
       "<table border=\"1\" class=\"dataframe\">\n",
       "  <thead>\n",
       "    <tr style=\"text-align: right;\">\n",
       "      <th></th>\n",
       "      <th>Unnamed: 0</th>\n",
       "      <th>hemoglobin</th>\n",
       "      <th>leukocyty</th>\n",
       "      <th>etytr</th>\n",
       "      <th>weight</th>\n",
       "      <th>trombocyty</th>\n",
       "      <th>ast</th>\n",
       "      <th>alp</th>\n",
       "      <th>alt</th>\n",
       "      <th>hbver</th>\n",
       "      <th>erytrocyty</th>\n",
       "      <th>er-cv</th>\n",
       "      <th>indicator</th>\n",
       "      <th>hematokrit</th>\n",
       "    </tr>\n",
       "  </thead>\n",
       "  <tbody>\n",
       "    <tr>\n",
       "      <th>count</th>\n",
       "      <td>10035.00000</td>\n",
       "      <td>10005.000000</td>\n",
       "      <td>10004.000000</td>\n",
       "      <td>10005.000000</td>\n",
       "      <td>10035.000000</td>\n",
       "      <td>10005.000000</td>\n",
       "      <td>10005.000000</td>\n",
       "      <td>10004.000000</td>\n",
       "      <td>10005.000000</td>\n",
       "      <td>10005.000000</td>\n",
       "      <td>10005.000000</td>\n",
       "      <td>10005.000000</td>\n",
       "      <td>10035.000000</td>\n",
       "      <td>10005.000000</td>\n",
       "    </tr>\n",
       "    <tr>\n",
       "      <th>mean</th>\n",
       "      <td>5017.00000</td>\n",
       "      <td>6.416198</td>\n",
       "      <td>6.777737</td>\n",
       "      <td>5.990406</td>\n",
       "      <td>69.859131</td>\n",
       "      <td>6.437079</td>\n",
       "      <td>68.231703</td>\n",
       "      <td>71.309492</td>\n",
       "      <td>2.197095</td>\n",
       "      <td>6.864928</td>\n",
       "      <td>6.427883</td>\n",
       "      <td>50.593076</td>\n",
       "      <td>0.641455</td>\n",
       "      <td>6.417913</td>\n",
       "    </tr>\n",
       "    <tr>\n",
       "      <th>std</th>\n",
       "      <td>2896.99931</td>\n",
       "      <td>1.006319</td>\n",
       "      <td>1.645043</td>\n",
       "      <td>1.633699</td>\n",
       "      <td>34.627389</td>\n",
       "      <td>0.988548</td>\n",
       "      <td>8.291273</td>\n",
       "      <td>19.056185</td>\n",
       "      <td>3.726174</td>\n",
       "      <td>1.700452</td>\n",
       "      <td>1.701901</td>\n",
       "      <td>13.840494</td>\n",
       "      <td>0.479597</td>\n",
       "      <td>1.004907</td>\n",
       "    </tr>\n",
       "    <tr>\n",
       "      <th>min</th>\n",
       "      <td>0.00000</td>\n",
       "      <td>2.944150</td>\n",
       "      <td>0.217130</td>\n",
       "      <td>0.000000</td>\n",
       "      <td>-68.325310</td>\n",
       "      <td>2.999650</td>\n",
       "      <td>0.000000</td>\n",
       "      <td>0.000000</td>\n",
       "      <td>0.000000</td>\n",
       "      <td>1.495520</td>\n",
       "      <td>1.032780</td>\n",
       "      <td>0.000000</td>\n",
       "      <td>0.000000</td>\n",
       "      <td>2.713920</td>\n",
       "    </tr>\n",
       "    <tr>\n",
       "      <th>25%</th>\n",
       "      <td>2508.50000</td>\n",
       "      <td>5.735950</td>\n",
       "      <td>5.474353</td>\n",
       "      <td>4.823230</td>\n",
       "      <td>46.136205</td>\n",
       "      <td>5.764240</td>\n",
       "      <td>62.610470</td>\n",
       "      <td>62.698557</td>\n",
       "      <td>0.926420</td>\n",
       "      <td>5.422540</td>\n",
       "      <td>5.151340</td>\n",
       "      <td>41.482190</td>\n",
       "      <td>0.000000</td>\n",
       "      <td>5.735940</td>\n",
       "    </tr>\n",
       "    <tr>\n",
       "      <th>50%</th>\n",
       "      <td>5017.00000</td>\n",
       "      <td>6.428260</td>\n",
       "      <td>6.828010</td>\n",
       "      <td>5.823300</td>\n",
       "      <td>69.491810</td>\n",
       "      <td>6.443160</td>\n",
       "      <td>68.257620</td>\n",
       "      <td>77.772515</td>\n",
       "      <td>1.229920</td>\n",
       "      <td>6.752090</td>\n",
       "      <td>6.296280</td>\n",
       "      <td>50.508420</td>\n",
       "      <td>1.000000</td>\n",
       "      <td>6.425880</td>\n",
       "    </tr>\n",
       "    <tr>\n",
       "      <th>75%</th>\n",
       "      <td>7525.50000</td>\n",
       "      <td>7.095870</td>\n",
       "      <td>8.013475</td>\n",
       "      <td>7.103040</td>\n",
       "      <td>93.608480</td>\n",
       "      <td>7.097900</td>\n",
       "      <td>73.892760</td>\n",
       "      <td>84.970195</td>\n",
       "      <td>1.966430</td>\n",
       "      <td>8.115930</td>\n",
       "      <td>7.672460</td>\n",
       "      <td>59.893420</td>\n",
       "      <td>1.000000</td>\n",
       "      <td>7.085230</td>\n",
       "    </tr>\n",
       "    <tr>\n",
       "      <th>max</th>\n",
       "      <td>10034.00000</td>\n",
       "      <td>10.049840</td>\n",
       "      <td>12.580870</td>\n",
       "      <td>11.632230</td>\n",
       "      <td>191.261970</td>\n",
       "      <td>10.383570</td>\n",
       "      <td>100.000000</td>\n",
       "      <td>100.000000</td>\n",
       "      <td>100.000000</td>\n",
       "      <td>13.080820</td>\n",
       "      <td>12.155200</td>\n",
       "      <td>100.000000</td>\n",
       "      <td>1.000000</td>\n",
       "      <td>10.628720</td>\n",
       "    </tr>\n",
       "  </tbody>\n",
       "</table>\n",
       "</div>"
      ],
      "text/plain": [
       "        Unnamed: 0    hemoglobin     leukocyty         etytr        weight  \\\n",
       "count  10035.00000  10005.000000  10004.000000  10005.000000  10035.000000   \n",
       "mean    5017.00000      6.416198      6.777737      5.990406     69.859131   \n",
       "std     2896.99931      1.006319      1.645043      1.633699     34.627389   \n",
       "min        0.00000      2.944150      0.217130      0.000000    -68.325310   \n",
       "25%     2508.50000      5.735950      5.474353      4.823230     46.136205   \n",
       "50%     5017.00000      6.428260      6.828010      5.823300     69.491810   \n",
       "75%     7525.50000      7.095870      8.013475      7.103040     93.608480   \n",
       "max    10034.00000     10.049840     12.580870     11.632230    191.261970   \n",
       "\n",
       "         trombocyty           ast           alp           alt         hbver  \\\n",
       "count  10005.000000  10005.000000  10004.000000  10005.000000  10005.000000   \n",
       "mean       6.437079     68.231703     71.309492      2.197095      6.864928   \n",
       "std        0.988548      8.291273     19.056185      3.726174      1.700452   \n",
       "min        2.999650      0.000000      0.000000      0.000000      1.495520   \n",
       "25%        5.764240     62.610470     62.698557      0.926420      5.422540   \n",
       "50%        6.443160     68.257620     77.772515      1.229920      6.752090   \n",
       "75%        7.097900     73.892760     84.970195      1.966430      8.115930   \n",
       "max       10.383570    100.000000    100.000000    100.000000     13.080820   \n",
       "\n",
       "         erytrocyty         er-cv     indicator    hematokrit  \n",
       "count  10005.000000  10005.000000  10035.000000  10005.000000  \n",
       "mean       6.427883     50.593076      0.641455      6.417913  \n",
       "std        1.701901     13.840494      0.479597      1.004907  \n",
       "min        1.032780      0.000000      0.000000      2.713920  \n",
       "25%        5.151340     41.482190      0.000000      5.735940  \n",
       "50%        6.296280     50.508420      1.000000      6.425880  \n",
       "75%        7.672460     59.893420      1.000000      7.085230  \n",
       "max       12.155200    100.000000      1.000000     10.628720  "
      ]
     },
     "execution_count": 5,
     "metadata": {},
     "output_type": "execute_result"
    }
   ],
   "source": [
    "df_labor.describe()"
   ]
  },
  {
   "cell_type": "markdown",
   "id": "3626b1bd-7a78-49d3-ac28-c264c792ff68",
   "metadata": {},
   "source": [
    "## 2. Párová analýza dát "
   ]
  },
  {
   "cell_type": "markdown",
   "id": "6ededf4a-08ec-4891-9b32-34985645eacf",
   "metadata": {},
   "source": [
    "Preskúmajte vzťahy medzi zvolenými dvojicami atribútov.\n",
    "Identifikujte závislostí medzi dvojicami atribútov a závislosti medzi predikovanou premennou a ostatnými premennými."
   ]
  },
  {
   "cell_type": "code",
   "execution_count": null,
   "id": "8abf4b9b-c6d1-4fe4-ac12-4ea114d6293d",
   "metadata": {},
   "outputs": [],
   "source": []
  },
  {
   "cell_type": "markdown",
   "id": "157f37e2-158b-4eb1-8888-311befb3d29c",
   "metadata": {},
   "source": [
    "## 3. Formulácia a štatistické overenie hypotéz o dátach "
   ]
  },
  {
   "cell_type": "markdown",
   "id": "5764034c-e043-49c5-b3f3-ebb016e81cec",
   "metadata": {},
   "source": [
    "Sformulujte dve hypotézy o dátach v kontexte zadanej predikčnej úlohy. Príkladom je napr. pacienti v zlepšenom stave majú v priemere inú (vyššiu/nižšiu) hodnotu nejakej látky alebo hormónu ako pacienti v nezlepšenom stave.\n",
    "Sformulované hypotézy overte vhodne zvoleným štatistickým testom."
   ]
  },
  {
   "cell_type": "code",
   "execution_count": null,
   "id": "818fe9de-f490-40f0-a096-93b9ec342f3f",
   "metadata": {},
   "outputs": [],
   "source": []
  },
  {
   "cell_type": "markdown",
   "id": "0554cc1c-4811-4d88-9945-eda7fca331b5",
   "metadata": {},
   "source": [
    "## 4. Identifikácia problémov v dátach s navrhnutým riešením"
   ]
  },
  {
   "cell_type": "markdown",
   "id": "836f3a67-696f-4931-9bd0-e13328564a03",
   "metadata": {},
   "source": [
    "Identifikujte problémy v dátach napr.: nevhodná štruktúra dát, duplicitné záznamy, nejednotné formáty, chýbajúce hodnoty, vychýlené hodnoty. V dátach sa môžu nachádzať aj iné, tu nevymenované problémy.\n",
    "Navrhnuté riešenie prvotne realizujte na dátach. Problém s dátami môžete riešiť iteratívne v každej fáze aj vo všetkých fázach podľa potreby."
   ]
  },
  {
   "cell_type": "code",
   "execution_count": null,
   "id": "d47b8ab9-054a-4d9d-b0b4-85a092df2984",
   "metadata": {},
   "outputs": [],
   "source": []
  }
 ],
 "metadata": {
  "kernelspec": {
   "display_name": "Python 3 (ipykernel)",
   "language": "python",
   "name": "python3"
  },
  "language_info": {
   "codemirror_mode": {
    "name": "ipython",
    "version": 3
   },
   "file_extension": ".py",
   "mimetype": "text/x-python",
   "name": "python",
   "nbconvert_exporter": "python",
   "pygments_lexer": "ipython3",
   "version": "3.9.5"
  }
 },
 "nbformat": 4,
 "nbformat_minor": 5
}
