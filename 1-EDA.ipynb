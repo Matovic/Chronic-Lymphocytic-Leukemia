{
 "cells": [
  {
   "cell_type": "markdown",
   "id": "24513f49-1397-43f4-9b40-d4610c0a03f1",
   "metadata": {},
   "source": [
    "# Exploratory Data Analysis\n",
    "Erik Matovič a Simon Kokavec\n",
    "## 1. Základný opis dát spolu s ich charakteristikami"
   ]
  },
  {
   "cell_type": "code",
   "execution_count": null,
   "id": "2ad92d3c-edb7-4e86-bead-e0a945a42049",
   "metadata": {},
   "outputs": [],
   "source": []
  },
  {
   "cell_type": "markdown",
   "id": "3626b1bd-7a78-49d3-ac28-c264c792ff68",
   "metadata": {},
   "source": [
    "## 2. Párová analýza dát "
   ]
  },
  {
   "cell_type": "code",
   "execution_count": null,
   "id": "dff6dcc7-a52a-433b-b90c-37abf45dba79",
   "metadata": {},
   "outputs": [],
   "source": []
  },
  {
   "cell_type": "markdown",
   "id": "157f37e2-158b-4eb1-8888-311befb3d29c",
   "metadata": {},
   "source": [
    "## 3. Formulácia a štatistické overenie hypotéz o dátach "
   ]
  },
  {
   "cell_type": "code",
   "execution_count": null,
   "id": "121a9dea-5788-49ef-ab43-365512861ab1",
   "metadata": {},
   "outputs": [],
   "source": []
  },
  {
   "cell_type": "markdown",
   "id": "0554cc1c-4811-4d88-9945-eda7fca331b5",
   "metadata": {},
   "source": [
    "## 4. Identifikácia problémov v dátach s navrhnutým riešením"
   ]
  },
  {
   "cell_type": "code",
   "execution_count": null,
   "id": "3d4dfe25-47e2-4493-8535-a4f485257593",
   "metadata": {},
   "outputs": [],
   "source": []
  }
 ],
 "metadata": {
  "kernelspec": {
   "display_name": "Python 3 (ipykernel)",
   "language": "python",
   "name": "python3"
  },
  "language_info": {
   "codemirror_mode": {
    "name": "ipython",
    "version": 3
   },
   "file_extension": ".py",
   "mimetype": "text/x-python",
   "name": "python",
   "nbconvert_exporter": "python",
   "pygments_lexer": "ipython3",
   "version": "3.9.5"
  }
 },
 "nbformat": 4,
 "nbformat_minor": 5
}
